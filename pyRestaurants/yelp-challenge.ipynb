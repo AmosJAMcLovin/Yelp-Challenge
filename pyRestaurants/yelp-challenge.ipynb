{
 "cells": [
  {
   "cell_type": "code",
   "execution_count": null,
   "metadata": {},
   "outputs": [],
   "source": []
  },
  {
   "cell_type": "markdown",
   "metadata": {},
   "source": [
    "# Working on Yelp Restaurants Dataset\n",
    "\n",
    "* To see how the data is genereted by using Yelp API calls, and transformed to csv file. Go to Yelp-api folder, and put your API KEY in to config.py file, select the term \"restaurants\" then select \"search location\", and run the search.py file in your environment.\n"
   ]
  },
  {
   "cell_type": "code",
   "execution_count": 652,
   "metadata": {},
   "outputs": [],
   "source": [
    "# Dependencies and Setup\n",
    "import matplotlib.pyplot as plt\n",
    "import pandas as pd\n",
    "import random\n",
    "import scipy.stats as st\n",
    "import numpy as np\n",
    "import seaborn as sns\n",
    "from scipy.stats import linregress\n",
    "from matplotlib.pyplot import figure\n",
    "from sklearn import datasets\n",
    "import matplotlib.colors as mcolors\n",
    "import warnings\n",
    "warnings.simplefilter(action='ignore')"
   ]
  },
  {
   "cell_type": "code",
   "execution_count": 653,
   "metadata": {},
   "outputs": [],
   "source": [
    "# File to Load \n",
    "yelp_data_to_load = \"data/PyRestaurants_data.csv\""
   ]
  },
  {
   "cell_type": "code",
   "execution_count": 654,
   "metadata": {},
   "outputs": [
    {
     "data": {
      "text/html": [
       "<div>\n",
       "<style scoped>\n",
       "    .dataframe tbody tr th:only-of-type {\n",
       "        vertical-align: middle;\n",
       "    }\n",
       "\n",
       "    .dataframe tbody tr th {\n",
       "        vertical-align: top;\n",
       "    }\n",
       "\n",
       "    .dataframe thead th {\n",
       "        text-align: right;\n",
       "    }\n",
       "</style>\n",
       "<table border=\"1\" class=\"dataframe\">\n",
       "  <thead>\n",
       "    <tr style=\"text-align: right;\">\n",
       "      <th></th>\n",
       "      <th>id</th>\n",
       "      <th>name</th>\n",
       "      <th>phone</th>\n",
       "      <th>location.address1</th>\n",
       "      <th>location.address2</th>\n",
       "      <th>location.city</th>\n",
       "      <th>location.state</th>\n",
       "      <th>location.country</th>\n",
       "      <th>price</th>\n",
       "      <th>rating</th>\n",
       "      <th>review_count</th>\n",
       "      <th>url</th>\n",
       "    </tr>\n",
       "  </thead>\n",
       "  <tbody>\n",
       "    <tr>\n",
       "      <th>0</th>\n",
       "      <td>6i7KnRylm4bhPIApDFSVCg</td>\n",
       "      <td>Dave's Hot Chicken</td>\n",
       "      <td>1.323537e+10</td>\n",
       "      <td>970 N Western Ave</td>\n",
       "      <td>NaN</td>\n",
       "      <td>Los Angeles</td>\n",
       "      <td>CA</td>\n",
       "      <td>US</td>\n",
       "      <td>$$</td>\n",
       "      <td>4.5</td>\n",
       "      <td>3132</td>\n",
       "      <td>https://www.yelp.com/biz/daves-hot-chicken-los...</td>\n",
       "    </tr>\n",
       "    <tr>\n",
       "      <th>1</th>\n",
       "      <td>qAAoilHU25Qr45FOQlA19g</td>\n",
       "      <td>Kang Ho-dong Baekjeong</td>\n",
       "      <td>1.213385e+10</td>\n",
       "      <td>3465 W 6th St</td>\n",
       "      <td>Ste 20</td>\n",
       "      <td>Los Angeles</td>\n",
       "      <td>CA</td>\n",
       "      <td>US</td>\n",
       "      <td>$$</td>\n",
       "      <td>4.5</td>\n",
       "      <td>4266</td>\n",
       "      <td>https://www.yelp.com/biz/kang-ho-dong-baekjeon...</td>\n",
       "    </tr>\n",
       "    <tr>\n",
       "      <th>2</th>\n",
       "      <td>AIhWsp8yNfKZfaX9d9Yajg</td>\n",
       "      <td>Pasta Sisters</td>\n",
       "      <td>1.323871e+10</td>\n",
       "      <td>3343 W Pico Blvd</td>\n",
       "      <td>NaN</td>\n",
       "      <td>Los Angeles</td>\n",
       "      <td>CA</td>\n",
       "      <td>US</td>\n",
       "      <td>$$</td>\n",
       "      <td>4.5</td>\n",
       "      <td>1479</td>\n",
       "      <td>https://www.yelp.com/biz/pasta-sisters-los-ang...</td>\n",
       "    </tr>\n",
       "    <tr>\n",
       "      <th>3</th>\n",
       "      <td>vUe6SGmCpWRbVdmj1ujMMQ</td>\n",
       "      <td>Yeon Uh</td>\n",
       "      <td>1.213568e+10</td>\n",
       "      <td>621 S Western Ave</td>\n",
       "      <td>Ste 208 B</td>\n",
       "      <td>Los Angeles</td>\n",
       "      <td>CA</td>\n",
       "      <td>US</td>\n",
       "      <td>NaN</td>\n",
       "      <td>5.0</td>\n",
       "      <td>4</td>\n",
       "      <td>https://www.yelp.com/biz/yeon-uh-los-angeles-2...</td>\n",
       "    </tr>\n",
       "    <tr>\n",
       "      <th>4</th>\n",
       "      <td>H9ZlIqEp930ZRniH6VRp8w</td>\n",
       "      <td>Papa Cristo's</td>\n",
       "      <td>1.323737e+10</td>\n",
       "      <td>2771 W Pico Blvd</td>\n",
       "      <td>NaN</td>\n",
       "      <td>Los Angeles</td>\n",
       "      <td>CA</td>\n",
       "      <td>US</td>\n",
       "      <td>$$</td>\n",
       "      <td>4.5</td>\n",
       "      <td>1911</td>\n",
       "      <td>https://www.yelp.com/biz/papa-cristos-los-ange...</td>\n",
       "    </tr>\n",
       "  </tbody>\n",
       "</table>\n",
       "</div>"
      ],
      "text/plain": [
       "                       id                    name         phone  \\\n",
       "0  6i7KnRylm4bhPIApDFSVCg      Dave's Hot Chicken  1.323537e+10   \n",
       "1  qAAoilHU25Qr45FOQlA19g  Kang Ho-dong Baekjeong  1.213385e+10   \n",
       "2  AIhWsp8yNfKZfaX9d9Yajg           Pasta Sisters  1.323871e+10   \n",
       "3  vUe6SGmCpWRbVdmj1ujMMQ                 Yeon Uh  1.213568e+10   \n",
       "4  H9ZlIqEp930ZRniH6VRp8w           Papa Cristo's  1.323737e+10   \n",
       "\n",
       "   location.address1 location.address2 location.city location.state  \\\n",
       "0  970 N Western Ave               NaN   Los Angeles             CA   \n",
       "1      3465 W 6th St            Ste 20   Los Angeles             CA   \n",
       "2   3343 W Pico Blvd               NaN   Los Angeles             CA   \n",
       "3  621 S Western Ave         Ste 208 B   Los Angeles             CA   \n",
       "4   2771 W Pico Blvd               NaN   Los Angeles             CA   \n",
       "\n",
       "  location.country price  rating  review_count  \\\n",
       "0               US    $$     4.5          3132   \n",
       "1               US    $$     4.5          4266   \n",
       "2               US    $$     4.5          1479   \n",
       "3               US   NaN     5.0             4   \n",
       "4               US    $$     4.5          1911   \n",
       "\n",
       "                                                 url  \n",
       "0  https://www.yelp.com/biz/daves-hot-chicken-los...  \n",
       "1  https://www.yelp.com/biz/kang-ho-dong-baekjeon...  \n",
       "2  https://www.yelp.com/biz/pasta-sisters-los-ang...  \n",
       "3  https://www.yelp.com/biz/yeon-uh-los-angeles-2...  \n",
       "4  https://www.yelp.com/biz/papa-cristos-los-ange...  "
      ]
     },
     "execution_count": 654,
     "metadata": {},
     "output_type": "execute_result"
    }
   ],
   "source": [
    "# Read Data File and store into Pandas DataFrames\n",
    "Restaurants_df = pd.read_csv(yelp_data_to_load)\n",
    "Restaurants_df.head()"
   ]
  },
  {
   "cell_type": "markdown",
   "metadata": {},
   "source": [
    "## Cleaning Data\n",
    "* Rename column headings\n",
    "* Delet duplicate rows if they are avaliable \n",
    "* Drop null values"
   ]
  },
  {
   "cell_type": "code",
   "execution_count": 655,
   "metadata": {},
   "outputs": [
    {
     "data": {
      "text/plain": [
       "Index(['id', 'name', 'phone', 'location.address1', 'location.address2',\n",
       "       'location.city', 'location.state', 'location.country', 'price',\n",
       "       'rating', 'review_count', 'url'],\n",
       "      dtype='object')"
      ]
     },
     "execution_count": 655,
     "metadata": {},
     "output_type": "execute_result"
    }
   ],
   "source": [
    "Restaurants_df.columns"
   ]
  },
  {
   "cell_type": "code",
   "execution_count": 656,
   "metadata": {},
   "outputs": [
    {
     "data": {
      "text/html": [
       "<div>\n",
       "<style scoped>\n",
       "    .dataframe tbody tr th:only-of-type {\n",
       "        vertical-align: middle;\n",
       "    }\n",
       "\n",
       "    .dataframe tbody tr th {\n",
       "        vertical-align: top;\n",
       "    }\n",
       "\n",
       "    .dataframe thead th {\n",
       "        text-align: right;\n",
       "    }\n",
       "</style>\n",
       "<table border=\"1\" class=\"dataframe\">\n",
       "  <thead>\n",
       "    <tr style=\"text-align: right;\">\n",
       "      <th></th>\n",
       "      <th>Restaurant ID</th>\n",
       "      <th>Restaurants</th>\n",
       "      <th>Phone Number</th>\n",
       "      <th>Adress</th>\n",
       "      <th>Address Two</th>\n",
       "      <th>City</th>\n",
       "      <th>State</th>\n",
       "      <th>Country</th>\n",
       "      <th>Price</th>\n",
       "      <th>Rating</th>\n",
       "      <th>Review Count</th>\n",
       "      <th>Url</th>\n",
       "    </tr>\n",
       "  </thead>\n",
       "  <tbody>\n",
       "    <tr>\n",
       "      <th>0</th>\n",
       "      <td>6i7KnRylm4bhPIApDFSVCg</td>\n",
       "      <td>Dave's Hot Chicken</td>\n",
       "      <td>1.323537e+10</td>\n",
       "      <td>970 N Western Ave</td>\n",
       "      <td>NaN</td>\n",
       "      <td>Los Angeles</td>\n",
       "      <td>CA</td>\n",
       "      <td>US</td>\n",
       "      <td>$$</td>\n",
       "      <td>4.5</td>\n",
       "      <td>3132</td>\n",
       "      <td>https://www.yelp.com/biz/daves-hot-chicken-los...</td>\n",
       "    </tr>\n",
       "    <tr>\n",
       "      <th>1</th>\n",
       "      <td>qAAoilHU25Qr45FOQlA19g</td>\n",
       "      <td>Kang Ho-dong Baekjeong</td>\n",
       "      <td>1.213385e+10</td>\n",
       "      <td>3465 W 6th St</td>\n",
       "      <td>Ste 20</td>\n",
       "      <td>Los Angeles</td>\n",
       "      <td>CA</td>\n",
       "      <td>US</td>\n",
       "      <td>$$</td>\n",
       "      <td>4.5</td>\n",
       "      <td>4266</td>\n",
       "      <td>https://www.yelp.com/biz/kang-ho-dong-baekjeon...</td>\n",
       "    </tr>\n",
       "    <tr>\n",
       "      <th>2</th>\n",
       "      <td>AIhWsp8yNfKZfaX9d9Yajg</td>\n",
       "      <td>Pasta Sisters</td>\n",
       "      <td>1.323871e+10</td>\n",
       "      <td>3343 W Pico Blvd</td>\n",
       "      <td>NaN</td>\n",
       "      <td>Los Angeles</td>\n",
       "      <td>CA</td>\n",
       "      <td>US</td>\n",
       "      <td>$$</td>\n",
       "      <td>4.5</td>\n",
       "      <td>1479</td>\n",
       "      <td>https://www.yelp.com/biz/pasta-sisters-los-ang...</td>\n",
       "    </tr>\n",
       "    <tr>\n",
       "      <th>3</th>\n",
       "      <td>vUe6SGmCpWRbVdmj1ujMMQ</td>\n",
       "      <td>Yeon Uh</td>\n",
       "      <td>1.213568e+10</td>\n",
       "      <td>621 S Western Ave</td>\n",
       "      <td>Ste 208 B</td>\n",
       "      <td>Los Angeles</td>\n",
       "      <td>CA</td>\n",
       "      <td>US</td>\n",
       "      <td>NaN</td>\n",
       "      <td>5.0</td>\n",
       "      <td>4</td>\n",
       "      <td>https://www.yelp.com/biz/yeon-uh-los-angeles-2...</td>\n",
       "    </tr>\n",
       "    <tr>\n",
       "      <th>4</th>\n",
       "      <td>H9ZlIqEp930ZRniH6VRp8w</td>\n",
       "      <td>Papa Cristo's</td>\n",
       "      <td>1.323737e+10</td>\n",
       "      <td>2771 W Pico Blvd</td>\n",
       "      <td>NaN</td>\n",
       "      <td>Los Angeles</td>\n",
       "      <td>CA</td>\n",
       "      <td>US</td>\n",
       "      <td>$$</td>\n",
       "      <td>4.5</td>\n",
       "      <td>1911</td>\n",
       "      <td>https://www.yelp.com/biz/papa-cristos-los-ange...</td>\n",
       "    </tr>\n",
       "  </tbody>\n",
       "</table>\n",
       "</div>"
      ],
      "text/plain": [
       "            Restaurant ID             Restaurants  Phone Number  \\\n",
       "0  6i7KnRylm4bhPIApDFSVCg      Dave's Hot Chicken  1.323537e+10   \n",
       "1  qAAoilHU25Qr45FOQlA19g  Kang Ho-dong Baekjeong  1.213385e+10   \n",
       "2  AIhWsp8yNfKZfaX9d9Yajg           Pasta Sisters  1.323871e+10   \n",
       "3  vUe6SGmCpWRbVdmj1ujMMQ                 Yeon Uh  1.213568e+10   \n",
       "4  H9ZlIqEp930ZRniH6VRp8w           Papa Cristo's  1.323737e+10   \n",
       "\n",
       "              Adress Address Two         City State Country Price  Rating  \\\n",
       "0  970 N Western Ave         NaN  Los Angeles    CA      US    $$     4.5   \n",
       "1      3465 W 6th St      Ste 20  Los Angeles    CA      US    $$     4.5   \n",
       "2   3343 W Pico Blvd         NaN  Los Angeles    CA      US    $$     4.5   \n",
       "3  621 S Western Ave   Ste 208 B  Los Angeles    CA      US   NaN     5.0   \n",
       "4   2771 W Pico Blvd         NaN  Los Angeles    CA      US    $$     4.5   \n",
       "\n",
       "   Review Count                                                Url  \n",
       "0          3132  https://www.yelp.com/biz/daves-hot-chicken-los...  \n",
       "1          4266  https://www.yelp.com/biz/kang-ho-dong-baekjeon...  \n",
       "2          1479  https://www.yelp.com/biz/pasta-sisters-los-ang...  \n",
       "3             4  https://www.yelp.com/biz/yeon-uh-los-angeles-2...  \n",
       "4          1911  https://www.yelp.com/biz/papa-cristos-los-ange...  "
      ]
     },
     "execution_count": 656,
     "metadata": {},
     "output_type": "execute_result"
    }
   ],
   "source": [
    "# Using .rename(columns={}) in order to rename columns\n",
    "renamed_df = Restaurants_df.rename(columns={\"id\":\"Restaurant ID\", \"name\":\"Restaurants\", \"phone\":\"Phone Number\",\"location.address1\":\"Adress\",\n",
    "                                          \"location.address2\":\"Address Two\",\"location.city\":\"City\",\"location.state\":\"State\",\"location.country\":\"Country\",\"location.state\":\"State\",\n",
    "                                           \"price\":\"Price\",\"rating\":\"Rating\",\"review_count\":\"Review Count\",\"url\":\"Url\"})\n",
    "renamed_df.head()"
   ]
  },
  {
   "cell_type": "code",
   "execution_count": 657,
   "metadata": {},
   "outputs": [
    {
     "data": {
      "text/html": [
       "<div>\n",
       "<style scoped>\n",
       "    .dataframe tbody tr th:only-of-type {\n",
       "        vertical-align: middle;\n",
       "    }\n",
       "\n",
       "    .dataframe tbody tr th {\n",
       "        vertical-align: top;\n",
       "    }\n",
       "\n",
       "    .dataframe thead th {\n",
       "        text-align: right;\n",
       "    }\n",
       "</style>\n",
       "<table border=\"1\" class=\"dataframe\">\n",
       "  <thead>\n",
       "    <tr style=\"text-align: right;\">\n",
       "      <th></th>\n",
       "      <th>Restaurant ID</th>\n",
       "      <th>Restaurants</th>\n",
       "      <th>Phone Number</th>\n",
       "      <th>Adress</th>\n",
       "      <th>Address Two</th>\n",
       "      <th>City</th>\n",
       "      <th>State</th>\n",
       "      <th>Country</th>\n",
       "      <th>Price</th>\n",
       "      <th>Rating</th>\n",
       "      <th>Review Count</th>\n",
       "      <th>Url</th>\n",
       "    </tr>\n",
       "  </thead>\n",
       "  <tbody>\n",
       "    <tr>\n",
       "      <th>0</th>\n",
       "      <td>6i7KnRylm4bhPIApDFSVCg</td>\n",
       "      <td>Dave's Hot Chicken</td>\n",
       "      <td>1.323537e+10</td>\n",
       "      <td>970 N Western Ave</td>\n",
       "      <td>NaN</td>\n",
       "      <td>Los Angeles</td>\n",
       "      <td>CA</td>\n",
       "      <td>US</td>\n",
       "      <td>$$</td>\n",
       "      <td>4.5</td>\n",
       "      <td>3132</td>\n",
       "      <td>https://www.yelp.com/biz/daves-hot-chicken-los...</td>\n",
       "    </tr>\n",
       "    <tr>\n",
       "      <th>1</th>\n",
       "      <td>qAAoilHU25Qr45FOQlA19g</td>\n",
       "      <td>Kang Ho-dong Baekjeong</td>\n",
       "      <td>1.213385e+10</td>\n",
       "      <td>3465 W 6th St</td>\n",
       "      <td>Ste 20</td>\n",
       "      <td>Los Angeles</td>\n",
       "      <td>CA</td>\n",
       "      <td>US</td>\n",
       "      <td>$$</td>\n",
       "      <td>4.5</td>\n",
       "      <td>4266</td>\n",
       "      <td>https://www.yelp.com/biz/kang-ho-dong-baekjeon...</td>\n",
       "    </tr>\n",
       "    <tr>\n",
       "      <th>2</th>\n",
       "      <td>AIhWsp8yNfKZfaX9d9Yajg</td>\n",
       "      <td>Pasta Sisters</td>\n",
       "      <td>1.323871e+10</td>\n",
       "      <td>3343 W Pico Blvd</td>\n",
       "      <td>NaN</td>\n",
       "      <td>Los Angeles</td>\n",
       "      <td>CA</td>\n",
       "      <td>US</td>\n",
       "      <td>$$</td>\n",
       "      <td>4.5</td>\n",
       "      <td>1479</td>\n",
       "      <td>https://www.yelp.com/biz/pasta-sisters-los-ang...</td>\n",
       "    </tr>\n",
       "    <tr>\n",
       "      <th>4</th>\n",
       "      <td>H9ZlIqEp930ZRniH6VRp8w</td>\n",
       "      <td>Papa Cristo's</td>\n",
       "      <td>1.323737e+10</td>\n",
       "      <td>2771 W Pico Blvd</td>\n",
       "      <td>NaN</td>\n",
       "      <td>Los Angeles</td>\n",
       "      <td>CA</td>\n",
       "      <td>US</td>\n",
       "      <td>$$</td>\n",
       "      <td>4.5</td>\n",
       "      <td>1911</td>\n",
       "      <td>https://www.yelp.com/biz/papa-cristos-los-ange...</td>\n",
       "    </tr>\n",
       "    <tr>\n",
       "      <th>5</th>\n",
       "      <td>BEItepse0gBSfkJ4sb_k-g</td>\n",
       "      <td>Hae Ha Heng Thai Bistro</td>\n",
       "      <td>1.213388e+10</td>\n",
       "      <td>301 S Western Ave</td>\n",
       "      <td>Ste 209</td>\n",
       "      <td>Los Angeles</td>\n",
       "      <td>CA</td>\n",
       "      <td>US</td>\n",
       "      <td>$$</td>\n",
       "      <td>4.5</td>\n",
       "      <td>1183</td>\n",
       "      <td>https://www.yelp.com/biz/hae-ha-heng-thai-bist...</td>\n",
       "    </tr>\n",
       "  </tbody>\n",
       "</table>\n",
       "</div>"
      ],
      "text/plain": [
       "            Restaurant ID              Restaurants  Phone Number  \\\n",
       "0  6i7KnRylm4bhPIApDFSVCg       Dave's Hot Chicken  1.323537e+10   \n",
       "1  qAAoilHU25Qr45FOQlA19g   Kang Ho-dong Baekjeong  1.213385e+10   \n",
       "2  AIhWsp8yNfKZfaX9d9Yajg            Pasta Sisters  1.323871e+10   \n",
       "4  H9ZlIqEp930ZRniH6VRp8w            Papa Cristo's  1.323737e+10   \n",
       "5  BEItepse0gBSfkJ4sb_k-g  Hae Ha Heng Thai Bistro  1.213388e+10   \n",
       "\n",
       "              Adress Address Two         City State Country Price  Rating  \\\n",
       "0  970 N Western Ave         NaN  Los Angeles    CA      US    $$     4.5   \n",
       "1      3465 W 6th St      Ste 20  Los Angeles    CA      US    $$     4.5   \n",
       "2   3343 W Pico Blvd         NaN  Los Angeles    CA      US    $$     4.5   \n",
       "4   2771 W Pico Blvd         NaN  Los Angeles    CA      US    $$     4.5   \n",
       "5  301 S Western Ave     Ste 209  Los Angeles    CA      US    $$     4.5   \n",
       "\n",
       "   Review Count                                                Url  \n",
       "0          3132  https://www.yelp.com/biz/daves-hot-chicken-los...  \n",
       "1          4266  https://www.yelp.com/biz/kang-ho-dong-baekjeon...  \n",
       "2          1479  https://www.yelp.com/biz/pasta-sisters-los-ang...  \n",
       "4          1911  https://www.yelp.com/biz/papa-cristos-los-ange...  \n",
       "5          1183  https://www.yelp.com/biz/hae-ha-heng-thai-bist...  "
      ]
     },
     "execution_count": 657,
     "metadata": {},
     "output_type": "execute_result"
    }
   ],
   "source": [
    "# Remove duplicate values\n",
    "remove_duplicates=renamed_df.drop_duplicates()\n",
    "\n",
    "# Drop null values from Restaurant Name, City,Rating , Review Count,Price coloumns  and store cleaned data\n",
    "\n",
    "dronull_df=remove_duplicates.dropna(subset=['Restaurants','City','Rating','Review Count','Price'])\n",
    "dronull_df.head()"
   ]
  },
  {
   "cell_type": "code",
   "execution_count": 658,
   "metadata": {},
   "outputs": [
    {
     "data": {
      "text/html": [
       "<div>\n",
       "<style scoped>\n",
       "    .dataframe tbody tr th:only-of-type {\n",
       "        vertical-align: middle;\n",
       "    }\n",
       "\n",
       "    .dataframe tbody tr th {\n",
       "        vertical-align: top;\n",
       "    }\n",
       "\n",
       "    .dataframe thead th {\n",
       "        text-align: right;\n",
       "    }\n",
       "</style>\n",
       "<table border=\"1\" class=\"dataframe\">\n",
       "  <thead>\n",
       "    <tr style=\"text-align: right;\">\n",
       "      <th></th>\n",
       "      <th>Restaurant ID</th>\n",
       "      <th>Restaurants</th>\n",
       "      <th>Adress</th>\n",
       "      <th>City</th>\n",
       "      <th>State</th>\n",
       "      <th>Country</th>\n",
       "      <th>Price</th>\n",
       "      <th>Rating</th>\n",
       "      <th>Review Count</th>\n",
       "    </tr>\n",
       "  </thead>\n",
       "  <tbody>\n",
       "    <tr>\n",
       "      <th>0</th>\n",
       "      <td>6i7KnRylm4bhPIApDFSVCg</td>\n",
       "      <td>Dave's Hot Chicken</td>\n",
       "      <td>970 N Western Ave</td>\n",
       "      <td>Los Angeles</td>\n",
       "      <td>CA</td>\n",
       "      <td>US</td>\n",
       "      <td>$$</td>\n",
       "      <td>4.5</td>\n",
       "      <td>3132</td>\n",
       "    </tr>\n",
       "    <tr>\n",
       "      <th>1</th>\n",
       "      <td>qAAoilHU25Qr45FOQlA19g</td>\n",
       "      <td>Kang Ho-dong Baekjeong</td>\n",
       "      <td>3465 W 6th St</td>\n",
       "      <td>Los Angeles</td>\n",
       "      <td>CA</td>\n",
       "      <td>US</td>\n",
       "      <td>$$</td>\n",
       "      <td>4.5</td>\n",
       "      <td>4266</td>\n",
       "    </tr>\n",
       "    <tr>\n",
       "      <th>2</th>\n",
       "      <td>AIhWsp8yNfKZfaX9d9Yajg</td>\n",
       "      <td>Pasta Sisters</td>\n",
       "      <td>3343 W Pico Blvd</td>\n",
       "      <td>Los Angeles</td>\n",
       "      <td>CA</td>\n",
       "      <td>US</td>\n",
       "      <td>$$</td>\n",
       "      <td>4.5</td>\n",
       "      <td>1479</td>\n",
       "    </tr>\n",
       "    <tr>\n",
       "      <th>4</th>\n",
       "      <td>H9ZlIqEp930ZRniH6VRp8w</td>\n",
       "      <td>Papa Cristo's</td>\n",
       "      <td>2771 W Pico Blvd</td>\n",
       "      <td>Los Angeles</td>\n",
       "      <td>CA</td>\n",
       "      <td>US</td>\n",
       "      <td>$$</td>\n",
       "      <td>4.5</td>\n",
       "      <td>1911</td>\n",
       "    </tr>\n",
       "    <tr>\n",
       "      <th>5</th>\n",
       "      <td>BEItepse0gBSfkJ4sb_k-g</td>\n",
       "      <td>Hae Ha Heng Thai Bistro</td>\n",
       "      <td>301 S Western Ave</td>\n",
       "      <td>Los Angeles</td>\n",
       "      <td>CA</td>\n",
       "      <td>US</td>\n",
       "      <td>$$</td>\n",
       "      <td>4.5</td>\n",
       "      <td>1183</td>\n",
       "    </tr>\n",
       "    <tr>\n",
       "      <th>...</th>\n",
       "      <td>...</td>\n",
       "      <td>...</td>\n",
       "      <td>...</td>\n",
       "      <td>...</td>\n",
       "      <td>...</td>\n",
       "      <td>...</td>\n",
       "      <td>...</td>\n",
       "      <td>...</td>\n",
       "      <td>...</td>\n",
       "    </tr>\n",
       "    <tr>\n",
       "      <th>19987</th>\n",
       "      <td>UTLEGU4mLmB26DiX99Ggxw</td>\n",
       "      <td>Tamashii Ramen</td>\n",
       "      <td>47-36 Vernon Blvd</td>\n",
       "      <td>Long Island City</td>\n",
       "      <td>NY</td>\n",
       "      <td>US</td>\n",
       "      <td>$$</td>\n",
       "      <td>4.0</td>\n",
       "      <td>254</td>\n",
       "    </tr>\n",
       "    <tr>\n",
       "      <th>19988</th>\n",
       "      <td>ZgIfySJ3cnB1svoyJAiCzg</td>\n",
       "      <td>Buenos Aires</td>\n",
       "      <td>513 E 6th St</td>\n",
       "      <td>New York</td>\n",
       "      <td>NY</td>\n",
       "      <td>US</td>\n",
       "      <td>$$$</td>\n",
       "      <td>4.0</td>\n",
       "      <td>537</td>\n",
       "    </tr>\n",
       "    <tr>\n",
       "      <th>19989</th>\n",
       "      <td>KaBw8UEm8uZTV6YLsshYrQ</td>\n",
       "      <td>Pocha 32</td>\n",
       "      <td>15 W 32nd St</td>\n",
       "      <td>New York</td>\n",
       "      <td>NY</td>\n",
       "      <td>US</td>\n",
       "      <td>$$</td>\n",
       "      <td>3.5</td>\n",
       "      <td>1487</td>\n",
       "    </tr>\n",
       "    <tr>\n",
       "      <th>19991</th>\n",
       "      <td>y2w0RvjJUThEx-snF7PdXg</td>\n",
       "      <td>El Cortez</td>\n",
       "      <td>17 Ingraham St</td>\n",
       "      <td>Brooklyn</td>\n",
       "      <td>NY</td>\n",
       "      <td>US</td>\n",
       "      <td>$$</td>\n",
       "      <td>3.0</td>\n",
       "      <td>102</td>\n",
       "    </tr>\n",
       "    <tr>\n",
       "      <th>19992</th>\n",
       "      <td>MP8Ey2ezsDCSowR-1X6hKg</td>\n",
       "      <td>Dosa Royale</td>\n",
       "      <td>258 Dekalb Ave</td>\n",
       "      <td>Brooklyn</td>\n",
       "      <td>NY</td>\n",
       "      <td>US</td>\n",
       "      <td>$$</td>\n",
       "      <td>3.5</td>\n",
       "      <td>222</td>\n",
       "    </tr>\n",
       "  </tbody>\n",
       "</table>\n",
       "<p>15731 rows × 9 columns</p>\n",
       "</div>"
      ],
      "text/plain": [
       "                Restaurant ID              Restaurants             Adress  \\\n",
       "0      6i7KnRylm4bhPIApDFSVCg       Dave's Hot Chicken  970 N Western Ave   \n",
       "1      qAAoilHU25Qr45FOQlA19g   Kang Ho-dong Baekjeong      3465 W 6th St   \n",
       "2      AIhWsp8yNfKZfaX9d9Yajg            Pasta Sisters   3343 W Pico Blvd   \n",
       "4      H9ZlIqEp930ZRniH6VRp8w            Papa Cristo's   2771 W Pico Blvd   \n",
       "5      BEItepse0gBSfkJ4sb_k-g  Hae Ha Heng Thai Bistro  301 S Western Ave   \n",
       "...                       ...                      ...                ...   \n",
       "19987  UTLEGU4mLmB26DiX99Ggxw           Tamashii Ramen  47-36 Vernon Blvd   \n",
       "19988  ZgIfySJ3cnB1svoyJAiCzg             Buenos Aires       513 E 6th St   \n",
       "19989  KaBw8UEm8uZTV6YLsshYrQ                 Pocha 32       15 W 32nd St   \n",
       "19991  y2w0RvjJUThEx-snF7PdXg                El Cortez     17 Ingraham St   \n",
       "19992  MP8Ey2ezsDCSowR-1X6hKg              Dosa Royale     258 Dekalb Ave   \n",
       "\n",
       "                   City State Country Price  Rating  Review Count  \n",
       "0           Los Angeles    CA      US    $$     4.5          3132  \n",
       "1           Los Angeles    CA      US    $$     4.5          4266  \n",
       "2           Los Angeles    CA      US    $$     4.5          1479  \n",
       "4           Los Angeles    CA      US    $$     4.5          1911  \n",
       "5           Los Angeles    CA      US    $$     4.5          1183  \n",
       "...                 ...   ...     ...   ...     ...           ...  \n",
       "19987  Long Island City    NY      US    $$     4.0           254  \n",
       "19988          New York    NY      US   $$$     4.0           537  \n",
       "19989          New York    NY      US    $$     3.5          1487  \n",
       "19991          Brooklyn    NY      US    $$     3.0           102  \n",
       "19992          Brooklyn    NY      US    $$     3.5           222  \n",
       "\n",
       "[15731 rows x 9 columns]"
      ]
     },
     "execution_count": 658,
     "metadata": {},
     "output_type": "execute_result"
    }
   ],
   "source": [
    "# Drop Coloumns irrelevant for our analysis \n",
    "to_drop =[\"Address Two\",\"Url\",\"Phone Number\"]\n",
    "\n",
    "cleaned_data=dronull_df.drop(columns=to_drop)\n",
    "cleaned_data"
   ]
  },
  {
   "cell_type": "markdown",
   "metadata": {},
   "source": [
    "## Restaurants data summary\n",
    "\n",
    "* Summary statistics\n",
    "\n",
    "* Total number of Restaurants\n",
    "\n",
    "* Frequency distribution of Restaurants\n",
    "\n",
    "* Total number of cities\n",
    "\n",
    "* The average review_count \n",
    "\n",
    "* The avarage rating \n",
    "\n",
    "* Percentage of Restaurants getting rating greater than 4\n",
    "\n",
    "* Percentage of Restaurants getting review count greater than 500\n",
    "\n",
    "* Percentage of Restaurants getting rating less than 2\n",
    "* Percentage of Restaurants getting review count less than 100\n",
    "\n",
    "* Percentage of Restaurants geting Review Count greater than 500 & rating greater than 4 (Best Restaurants)\n",
    "* Percentage of Restaurants geting Review Count less than 100 & rating greater than 2 (worst Restaurants)\n"
   ]
  },
  {
   "cell_type": "code",
   "execution_count": 659,
   "metadata": {},
   "outputs": [
    {
     "data": {
      "text/html": [
       "<div>\n",
       "<style scoped>\n",
       "    .dataframe tbody tr th:only-of-type {\n",
       "        vertical-align: middle;\n",
       "    }\n",
       "\n",
       "    .dataframe tbody tr th {\n",
       "        vertical-align: top;\n",
       "    }\n",
       "\n",
       "    .dataframe thead th {\n",
       "        text-align: right;\n",
       "    }\n",
       "</style>\n",
       "<table border=\"1\" class=\"dataframe\">\n",
       "  <thead>\n",
       "    <tr style=\"text-align: right;\">\n",
       "      <th></th>\n",
       "      <th>Rating</th>\n",
       "      <th>Review Count</th>\n",
       "    </tr>\n",
       "  </thead>\n",
       "  <tbody>\n",
       "    <tr>\n",
       "      <th>count</th>\n",
       "      <td>15731.000000</td>\n",
       "      <td>15731.000000</td>\n",
       "    </tr>\n",
       "    <tr>\n",
       "      <th>mean</th>\n",
       "      <td>3.614742</td>\n",
       "      <td>260.256818</td>\n",
       "    </tr>\n",
       "    <tr>\n",
       "      <th>std</th>\n",
       "      <td>0.765822</td>\n",
       "      <td>525.831566</td>\n",
       "    </tr>\n",
       "    <tr>\n",
       "      <th>min</th>\n",
       "      <td>1.000000</td>\n",
       "      <td>1.000000</td>\n",
       "    </tr>\n",
       "    <tr>\n",
       "      <th>25%</th>\n",
       "      <td>3.000000</td>\n",
       "      <td>28.000000</td>\n",
       "    </tr>\n",
       "    <tr>\n",
       "      <th>50%</th>\n",
       "      <td>4.000000</td>\n",
       "      <td>91.000000</td>\n",
       "    </tr>\n",
       "    <tr>\n",
       "      <th>75%</th>\n",
       "      <td>4.000000</td>\n",
       "      <td>271.000000</td>\n",
       "    </tr>\n",
       "    <tr>\n",
       "      <th>max</th>\n",
       "      <td>5.000000</td>\n",
       "      <td>12280.000000</td>\n",
       "    </tr>\n",
       "  </tbody>\n",
       "</table>\n",
       "</div>"
      ],
      "text/plain": [
       "             Rating  Review Count\n",
       "count  15731.000000  15731.000000\n",
       "mean       3.614742    260.256818\n",
       "std        0.765822    525.831566\n",
       "min        1.000000      1.000000\n",
       "25%        3.000000     28.000000\n",
       "50%        4.000000     91.000000\n",
       "75%        4.000000    271.000000\n",
       "max        5.000000  12280.000000"
      ]
     },
     "execution_count": 659,
     "metadata": {},
     "output_type": "execute_result"
    }
   ],
   "source": [
    "# Summary statistics\n",
    "cleaned_data.describe()"
   ]
  },
  {
   "cell_type": "code",
   "execution_count": 660,
   "metadata": {},
   "outputs": [
    {
     "data": {
      "text/plain": [
       "15731"
      ]
     },
     "execution_count": 660,
     "metadata": {},
     "output_type": "execute_result"
    }
   ],
   "source": [
    "# Total Number of Restaurants \n",
    "Restaurant_total_number=cleaned_data[\"Restaurants\"].count()\n",
    "Restaurant_total_number"
   ]
  },
  {
   "cell_type": "code",
   "execution_count": 661,
   "metadata": {},
   "outputs": [
    {
     "data": {
      "text/plain": [
       "189"
      ]
     },
     "execution_count": 661,
     "metadata": {},
     "output_type": "execute_result"
    }
   ],
   "source": [
    "# Total Number of cities \n",
    "total_cities=len(cleaned_data[\"City\"].unique())\n",
    "total_cities"
   ]
  },
  {
   "cell_type": "code",
   "execution_count": 662,
   "metadata": {},
   "outputs": [
    {
     "data": {
      "text/plain": [
       "3.614741593032865"
      ]
     },
     "execution_count": 662,
     "metadata": {},
     "output_type": "execute_result"
    }
   ],
   "source": [
    "# The average rating\n",
    "average_rating= cleaned_data[\"Rating\"].mean()\n",
    "average_rating"
   ]
  },
  {
   "cell_type": "code",
   "execution_count": 663,
   "metadata": {},
   "outputs": [
    {
     "data": {
      "text/plain": [
       "260.2568177483949"
      ]
     },
     "execution_count": 663,
     "metadata": {},
     "output_type": "execute_result"
    }
   ],
   "source": [
    "# The average review_count\n",
    "average_review_count= cleaned_data[\"Review Count\"].mean()\n",
    "average_review_count"
   ]
  },
  {
   "cell_type": "code",
   "execution_count": 664,
   "metadata": {},
   "outputs": [
    {
     "data": {
      "text/plain": [
       "51.88481342571991"
      ]
     },
     "execution_count": 664,
     "metadata": {},
     "output_type": "execute_result"
    }
   ],
   "source": [
    "# The percentage of Restaurants geting rating greater than 4\n",
    "\n",
    "restaurant_top_rating = cleaned_data.loc[cleaned_data[\"Rating\"] >= 4]\n",
    "\n",
    "number_restaurant_top_rating = restaurant_top_rating[\"Restaurants\"].count()\n",
    "\n",
    "percent_restaurant_top_rating = (number_restaurant_top_rating/Restaurant_total_number) * 100\n",
    "\n",
    "percent_restaurant_top_rating"
   ]
  },
  {
   "cell_type": "code",
   "execution_count": 665,
   "metadata": {},
   "outputs": [
    {
     "data": {
      "text/plain": [
       "13.959697412751893"
      ]
     },
     "execution_count": 665,
     "metadata": {},
     "output_type": "execute_result"
    }
   ],
   "source": [
    "# The percentage of Restaurants geting Review Count greater than 500\n",
    "\n",
    "restaurant_top_review= cleaned_data.loc[cleaned_data[\"Review Count\"] >=500]\n",
    "\n",
    "number_restaurant_top_review = restaurant_top_review[\"Restaurants\"].count()\n",
    "\n",
    "percent_restaurant_top_review= (number_restaurant_top_review/Restaurant_total_number) * 100\n",
    "\n",
    "percent_restaurant_top_review"
   ]
  },
  {
   "cell_type": "code",
   "execution_count": 666,
   "metadata": {},
   "outputs": [
    {
     "data": {
      "text/plain": [
       "6.92899370669379"
      ]
     },
     "execution_count": 666,
     "metadata": {},
     "output_type": "execute_result"
    }
   ],
   "source": [
    "# The percentage of Restaurants geting rating less than 2\n",
    "\n",
    "restaurant_bottom_rating = cleaned_data.loc[cleaned_data[\"Rating\"] <=2]\n",
    "\n",
    "number_restaurant_bottom_rating = restaurant_bottom_rating[\"Restaurants\"].count()\n",
    "\n",
    "percent_restaurant_bottom_rating = (number_restaurant_bottom_rating/Restaurant_total_number) * 100\n",
    "\n",
    "percent_restaurant_bottom_rating"
   ]
  },
  {
   "cell_type": "code",
   "execution_count": 667,
   "metadata": {},
   "outputs": [
    {
     "data": {
      "text/plain": [
       "52.37429279766067"
      ]
     },
     "execution_count": 667,
     "metadata": {},
     "output_type": "execute_result"
    }
   ],
   "source": [
    "# The percentage of Restaurants geting Review Count less than 100\n",
    "\n",
    "restaurant_bottom_review= cleaned_data.loc[cleaned_data[\"Review Count\"] <= 100]\n",
    "\n",
    "number_restaurant_bottom__review = restaurant_bottom_review[\"Restaurants\"].count()\n",
    "\n",
    "percent_restaurant_bottom__review= (number_restaurant_bottom__review/Restaurant_total_number) * 100\n",
    "\n",
    "percent_restaurant_bottom__review"
   ]
  },
  {
   "cell_type": "code",
   "execution_count": 668,
   "metadata": {},
   "outputs": [
    {
     "data": {
      "text/plain": [
       "2.593604983789969"
      ]
     },
     "execution_count": 668,
     "metadata": {},
     "output_type": "execute_result"
    }
   ],
   "source": [
    "# The percentage of Restaurants geting Review Count greater than 500 & rating greater than 4 (Best Restaurants)\n",
    "\n",
    "Best_restaurants =cleaned_data[(cleaned_data['Review Count'] >=500) & (cleaned_data['Rating'] > 4)]['Restaurants'].count()/Restaurant_total_number*100\n",
    "Best_restaurants\n"
   ]
  },
  {
   "cell_type": "code",
   "execution_count": 669,
   "metadata": {},
   "outputs": [
    {
     "data": {
      "text/plain": [
       "2.4219693598626915"
      ]
     },
     "execution_count": 669,
     "metadata": {},
     "output_type": "execute_result"
    }
   ],
   "source": [
    "# The percentage of Restaurants geting Review Count less than 100 & rating less than 4 (worst Restaurants)\n",
    "worst_restaurants =cleaned_data[(cleaned_data['Review Count'] < 100) & (cleaned_data['Rating'] < 2)]['Restaurants'].count()/Restaurant_total_number*100\n",
    "worst_restaurants"
   ]
  },
  {
   "cell_type": "code",
   "execution_count": 670,
   "metadata": {},
   "outputs": [
    {
     "data": {
      "text/html": [
       "<div>\n",
       "<style scoped>\n",
       "    .dataframe tbody tr th:only-of-type {\n",
       "        vertical-align: middle;\n",
       "    }\n",
       "\n",
       "    .dataframe tbody tr th {\n",
       "        vertical-align: top;\n",
       "    }\n",
       "\n",
       "    .dataframe thead th {\n",
       "        text-align: right;\n",
       "    }\n",
       "</style>\n",
       "<table border=\"1\" class=\"dataframe\">\n",
       "  <thead>\n",
       "    <tr style=\"text-align: right;\">\n",
       "      <th></th>\n",
       "      <th>Total Restaurant Number</th>\n",
       "      <th>Total Number of Cities</th>\n",
       "      <th>Avarage Rating</th>\n",
       "      <th>The Average Review Count</th>\n",
       "      <th>% Restaurants Top Rating</th>\n",
       "      <th>% Restaurants Bottom Rating</th>\n",
       "      <th>% Restaurants Top Review Count</th>\n",
       "      <th>% Restaurants Bottom Review Count</th>\n",
       "      <th>% Best Restaurants</th>\n",
       "      <th>% Worst restaurants</th>\n",
       "    </tr>\n",
       "  </thead>\n",
       "  <tbody>\n",
       "    <tr>\n",
       "      <th>0</th>\n",
       "      <td>15731</td>\n",
       "      <td>189</td>\n",
       "      <td>3.61</td>\n",
       "      <td>260.256818</td>\n",
       "      <td>51.884813%</td>\n",
       "      <td>6.93%</td>\n",
       "      <td>13.959697%</td>\n",
       "      <td>52.37%</td>\n",
       "      <td>2.593605%</td>\n",
       "      <td>2.421969%</td>\n",
       "    </tr>\n",
       "  </tbody>\n",
       "</table>\n",
       "</div>"
      ],
      "text/plain": [
       "   Total Restaurant Number Total Number of Cities Avarage Rating  \\\n",
       "0                    15731                    189           3.61   \n",
       "\n",
       "  The Average Review Count % Restaurants Top Rating  \\\n",
       "0               260.256818               51.884813%   \n",
       "\n",
       "  % Restaurants Bottom Rating % Restaurants Top Review Count  \\\n",
       "0                       6.93%                     13.959697%   \n",
       "\n",
       "  % Restaurants Bottom Review Count % Best Restaurants % Worst restaurants  \n",
       "0                            52.37%          2.593605%           2.421969%  "
      ]
     },
     "execution_count": 670,
     "metadata": {},
     "output_type": "execute_result"
    }
   ],
   "source": [
    "# Create a dataframe to hold the above results\n",
    "\n",
    "restaurants_summary = pd.DataFrame({\n",
    "    \"Total Restaurant Number\": Restaurant_total_number,\n",
    "    \"Total Number of Cities\": f\"{total_cities:,}\",\n",
    "    \"Avarage Rating\": f\"{average_rating:,.2f}\",\n",
    "    \"The Average Review Count\": f\"{average_review_count:.6f}\",\n",
    "    \"% Restaurants Top Rating\": f\"{percent_restaurant_top_rating:.6f}%\",\n",
    "    \"% Restaurants Bottom Rating\": f\"{percent_restaurant_bottom_rating:.2f}%\",\n",
    "    \"% Restaurants Top Rating\": f\"{percent_restaurant_top_rating:.6f}%\",\n",
    "    \"% Restaurants Bottom Rating\": f\"{percent_restaurant_bottom_rating:.2f}%\",\n",
    "    \"% Restaurants Top Review Count\": f\"{percent_restaurant_top_review:.6f}%\",\n",
    "    \"% Restaurants Bottom Review Count\": f\"{percent_restaurant_bottom__review:.2f}%\",\n",
    "    \"% Best Restaurants\": f\"{Best_restaurants: .6f}%\",\n",
    "    \"% Worst restaurants\": f\"{worst_restaurants: .6f}%\"\n",
    "}, index=[0])\n",
    "\n",
    "restaurants_summary\n"
   ]
  },
  {
   "cell_type": "code",
   "execution_count": 671,
   "metadata": {},
   "outputs": [],
   "source": [
    "# Function to generate summary stats for numeric columns in dataset/dataframe.\n",
    "def SummaryStats(column, cleaned_df):\n",
    "    mean_numpy = np.mean(cleaned_df[column])\n",
    "    median_numpy = np.median(cleaned_df[column])\n",
    "    min_numpy = np.min(cleaned_df[column])\n",
    "    max_numpy = np.max(cleaned_df[column])\n",
    "    std_numpy = np.std(cleaned_df[column])\n",
    "    var_numpy = np.var(cleaned_df[column])\n",
    "    sem_numpy = cleaned_df[column].sem()\n",
    "\n",
    "    summary_df = pd.DataFrame({ f\"Average Number of {column}\":round(mean_numpy,2),\n",
    "                                f\"Median Number of {column}\":round(median_numpy,2),\n",
    "                                f\"Minimum of {column}\":round(min_numpy,2),\n",
    "                                f\"Maximum of {column}\":round(max_numpy,2),\n",
    "                                f\"Standard Deviation of {column}\":round(mean_numpy,2),\n",
    "                                f\"Variance of {column}\":round(median_numpy,2),\n",
    "                                f\"Standard Error of Mean of {column}\":round(sem_numpy,2)},index = [0])\n",
    "\n",
    "    return summary_df\n",
    "\n",
    "# Function to generate histogram\n",
    "def Histogram(column, cleaned_df, number_bins, title):\n",
    "    plt.figure(figsize=(12, 5))\n",
    "    plt.hist(cleaned_df[column], bins=number_bins)\n",
    "    plt.xlabel(f'Star {column}')\n",
    "    plt.ylabel('Number of Restaurants')\n",
    "    plt.title(title)\n",
    "    plt.grid()\n",
    "    plt.show()"
   ]
  },
  {
   "cell_type": "code",
   "execution_count": 672,
   "metadata": {},
   "outputs": [
    {
     "data": {
      "text/html": [
       "<div>\n",
       "<style scoped>\n",
       "    .dataframe tbody tr th:only-of-type {\n",
       "        vertical-align: middle;\n",
       "    }\n",
       "\n",
       "    .dataframe tbody tr th {\n",
       "        vertical-align: top;\n",
       "    }\n",
       "\n",
       "    .dataframe thead th {\n",
       "        text-align: right;\n",
       "    }\n",
       "</style>\n",
       "<table border=\"1\" class=\"dataframe\">\n",
       "  <thead>\n",
       "    <tr style=\"text-align: right;\">\n",
       "      <th></th>\n",
       "      <th>Average Number of Rating</th>\n",
       "      <th>Median Number of Rating</th>\n",
       "      <th>Minimum of Rating</th>\n",
       "      <th>Maximum of Rating</th>\n",
       "      <th>Standard Deviation of Rating</th>\n",
       "      <th>Variance of Rating</th>\n",
       "      <th>Standard Error of Mean of Rating</th>\n",
       "    </tr>\n",
       "  </thead>\n",
       "  <tbody>\n",
       "    <tr>\n",
       "      <th>0</th>\n",
       "      <td>3.61</td>\n",
       "      <td>4.0</td>\n",
       "      <td>1.0</td>\n",
       "      <td>5.0</td>\n",
       "      <td>3.61</td>\n",
       "      <td>4.0</td>\n",
       "      <td>0.01</td>\n",
       "    </tr>\n",
       "  </tbody>\n",
       "</table>\n",
       "</div>"
      ],
      "text/plain": [
       "   Average Number of Rating  Median Number of Rating  Minimum of Rating  \\\n",
       "0                      3.61                      4.0                1.0   \n",
       "\n",
       "   Maximum of Rating  Standard Deviation of Rating  Variance of Rating  \\\n",
       "0                5.0                          3.61                 4.0   \n",
       "\n",
       "   Standard Error of Mean of Rating  \n",
       "0                              0.01  "
      ]
     },
     "execution_count": 672,
     "metadata": {},
     "output_type": "execute_result"
    }
   ],
   "source": [
    "# Summary table for star rating\n",
    "\n",
    "SummaryStats(\"Rating\", cleaned_data)"
   ]
  },
  {
   "cell_type": "code",
   "execution_count": 673,
   "metadata": {},
   "outputs": [
    {
     "data": {
      "image/png": "[encoded data removed]",
      "text/plain": [
       "<Figure size 864x360 with 1 Axes>"
      ]
     },
     "metadata": {
      "needs_background": "light"
     },
     "output_type": "display_data"
    }
   ],
   "source": [
    "# Characterize the rating data by using histogram.\n",
    "Histogram(\"Rating\", cleaned_data,20, title=\"Restaurants Rating\")"
   ]
  },
  {
   "cell_type": "code",
   "execution_count": 674,
   "metadata": {},
   "outputs": [
    {
     "data": {
      "text/html": [
       "<div>\n",
       "<style scoped>\n",
       "    .dataframe tbody tr th:only-of-type {\n",
       "        vertical-align: middle;\n",
       "    }\n",
       "\n",
       "    .dataframe tbody tr th {\n",
       "        vertical-align: top;\n",
       "    }\n",
       "\n",
       "    .dataframe thead th {\n",
       "        text-align: right;\n",
       "    }\n",
       "</style>\n",
       "<table border=\"1\" class=\"dataframe\">\n",
       "  <thead>\n",
       "    <tr style=\"text-align: right;\">\n",
       "      <th></th>\n",
       "      <th>Average Number of Review Count</th>\n",
       "      <th>Median Number of Review Count</th>\n",
       "      <th>Minimum of Review Count</th>\n",
       "      <th>Maximum of Review Count</th>\n",
       "      <th>Standard Deviation of Review Count</th>\n",
       "      <th>Variance of Review Count</th>\n",
       "      <th>Standard Error of Mean of Review Count</th>\n",
       "    </tr>\n",
       "  </thead>\n",
       "  <tbody>\n",
       "    <tr>\n",
       "      <th>0</th>\n",
       "      <td>260.26</td>\n",
       "      <td>91.0</td>\n",
       "      <td>1</td>\n",
       "      <td>12280</td>\n",
       "      <td>260.26</td>\n",
       "      <td>91.0</td>\n",
       "      <td>4.19</td>\n",
       "    </tr>\n",
       "  </tbody>\n",
       "</table>\n",
       "</div>"
      ],
      "text/plain": [
       "   Average Number of Review Count  Median Number of Review Count  \\\n",
       "0                          260.26                           91.0   \n",
       "\n",
       "   Minimum of Review Count  Maximum of Review Count  \\\n",
       "0                        1                    12280   \n",
       "\n",
       "   Standard Deviation of Review Count  Variance of Review Count  \\\n",
       "0                              260.26                      91.0   \n",
       "\n",
       "   Standard Error of Mean of Review Count  \n",
       "0                                    4.19  "
      ]
     },
     "execution_count": 674,
     "metadata": {},
     "output_type": "execute_result"
    }
   ],
   "source": [
    "# Summary table for the Review Count data by using histogram.\n",
    "\n",
    "SummaryStats(\"Review Count\", cleaned_data)"
   ]
  },
  {
   "cell_type": "code",
   "execution_count": 675,
   "metadata": {},
   "outputs": [
    {
     "data": {
      "image/png": "[encoded data removed]",
      "text/plain": [
       "<Figure size 864x360 with 1 Axes>"
      ]
     },
     "metadata": {
      "needs_background": "light"
     },
     "output_type": "display_data"
    }
   ],
   "source": [
    "# Characterize the Review Count data by using histogram.\n",
    "Histogram(\"Review Count\", cleaned_data,20, title=\"Restaurants Review Count\")"
   ]
  },
  {
   "cell_type": "code",
   "execution_count": 796,
   "metadata": {},
   "outputs": [
    {
     "data": {
      "text/html": [
       "<div>\n",
       "<style scoped>\n",
       "    .dataframe tbody tr th:only-of-type {\n",
       "        vertical-align: middle;\n",
       "    }\n",
       "\n",
       "    .dataframe tbody tr th {\n",
       "        vertical-align: top;\n",
       "    }\n",
       "\n",
       "    .dataframe thead th {\n",
       "        text-align: right;\n",
       "    }\n",
       "</style>\n",
       "<table border=\"1\" class=\"dataframe\">\n",
       "  <thead>\n",
       "    <tr style=\"text-align: right;\">\n",
       "      <th></th>\n",
       "      <th></th>\n",
       "      <th></th>\n",
       "      <th></th>\n",
       "      <th></th>\n",
       "      <th>Review Count</th>\n",
       "    </tr>\n",
       "    <tr>\n",
       "      <th>Restaurants</th>\n",
       "      <th>City</th>\n",
       "      <th>State</th>\n",
       "      <th>Price</th>\n",
       "      <th>Country</th>\n",
       "      <th></th>\n",
       "    </tr>\n",
       "  </thead>\n",
       "  <tbody>\n",
       "    <tr>\n",
       "      <th>Katz's Delicatessen</th>\n",
       "      <th>New York</th>\n",
       "      <th>NY</th>\n",
       "      <th>$$</th>\n",
       "      <th>US</th>\n",
       "      <td>12278.5</td>\n",
       "    </tr>\n",
       "    <tr>\n",
       "      <th>Ippudo NY</th>\n",
       "      <th>New York</th>\n",
       "      <th>NY</th>\n",
       "      <th>$$</th>\n",
       "      <th>US</th>\n",
       "      <td>9970.5</td>\n",
       "    </tr>\n",
       "    <tr>\n",
       "      <th>Porto's Bakery &amp; Cafe</th>\n",
       "      <th>Glendale</th>\n",
       "      <th>CA</th>\n",
       "      <th>$</th>\n",
       "      <th>US</th>\n",
       "      <td>8825.0</td>\n",
       "    </tr>\n",
       "    <tr>\n",
       "      <th>Girl &amp; the Goat</th>\n",
       "      <th>Chicago</th>\n",
       "      <th>IL</th>\n",
       "      <th>$$$</th>\n",
       "      <th>US</th>\n",
       "      <td>8584.0</td>\n",
       "    </tr>\n",
       "    <tr>\n",
       "      <th>Pink's Hot Dogs</th>\n",
       "      <th>Los Angeles</th>\n",
       "      <th>CA</th>\n",
       "      <th>$</th>\n",
       "      <th>US</th>\n",
       "      <td>7107.5</td>\n",
       "    </tr>\n",
       "    <tr>\n",
       "      <th>Au Cheval</th>\n",
       "      <th>Chicago</th>\n",
       "      <th>IL</th>\n",
       "      <th>$$</th>\n",
       "      <th>US</th>\n",
       "      <td>7099.0</td>\n",
       "    </tr>\n",
       "    <tr>\n",
       "      <th>Porto's Bakery &amp; Cafe</th>\n",
       "      <th>Downey</th>\n",
       "      <th>CA</th>\n",
       "      <th>$</th>\n",
       "      <th>US</th>\n",
       "      <td>6884.0</td>\n",
       "    </tr>\n",
       "    <tr>\n",
       "      <th>Joe's Shanghai</th>\n",
       "      <th>New York</th>\n",
       "      <th>NY</th>\n",
       "      <th>$$</th>\n",
       "      <th>US</th>\n",
       "      <td>6169.5</td>\n",
       "    </tr>\n",
       "    <tr>\n",
       "      <th>Pequod's Pizzeria</th>\n",
       "      <th>Chicago</th>\n",
       "      <th>IL</th>\n",
       "      <th>$$</th>\n",
       "      <th>US</th>\n",
       "      <td>6144.0</td>\n",
       "    </tr>\n",
       "    <tr>\n",
       "      <th>Bestia</th>\n",
       "      <th>Los Angeles</th>\n",
       "      <th>CA</th>\n",
       "      <th>$$$</th>\n",
       "      <th>US</th>\n",
       "      <td>6143.0</td>\n",
       "    </tr>\n",
       "  </tbody>\n",
       "</table>\n",
       "</div>"
      ],
      "text/plain": [
       "                                                       Review Count\n",
       "Restaurants           City        State Price Country              \n",
       "Katz's Delicatessen   New York    NY    $$    US            12278.5\n",
       "Ippudo NY             New York    NY    $$    US             9970.5\n",
       "Porto's Bakery & Cafe Glendale    CA    $     US             8825.0\n",
       "Girl & the Goat       Chicago     IL    $$$   US             8584.0\n",
       "Pink's Hot Dogs       Los Angeles CA    $     US             7107.5\n",
       "Au Cheval             Chicago     IL    $$    US             7099.0\n",
       "Porto's Bakery & Cafe Downey      CA    $     US             6884.0\n",
       "Joe's Shanghai        New York    NY    $$    US             6169.5\n",
       "Pequod's Pizzeria     Chicago     IL    $$    US             6144.0\n",
       "Bestia                Los Angeles CA    $$$   US             6143.0"
      ]
     },
     "execution_count": 796,
     "metadata": {},
     "output_type": "execute_result"
    }
   ],
   "source": [
    "# Restaurants with top \n",
    "city_review=cleaned_data[[\"Restaurants\",\"City\",\"State\",\"Price\",\"Country\",\"Review Count\"]]\n",
    "Avergae_city= city_review.groupby([\"Restaurants\",\"City\",\"State\",\"Price\",\"Country\"]).mean()\n",
    "top_review_cities=Avergae_city[Avergae_city['Review Count']>500].sort_values('Review Count',ascending = False)\n",
    "top_review_cities.head(10)"
   ]
  },
  {
   "cell_type": "code",
   "execution_count": 798,
   "metadata": {},
   "outputs": [
    {
     "data": {
      "text/html": [
       "<div>\n",
       "<style scoped>\n",
       "    .dataframe tbody tr th:only-of-type {\n",
       "        vertical-align: middle;\n",
       "    }\n",
       "\n",
       "    .dataframe tbody tr th {\n",
       "        vertical-align: top;\n",
       "    }\n",
       "\n",
       "    .dataframe thead th {\n",
       "        text-align: right;\n",
       "    }\n",
       "</style>\n",
       "<table border=\"1\" class=\"dataframe\">\n",
       "  <thead>\n",
       "    <tr style=\"text-align: right;\">\n",
       "      <th></th>\n",
       "      <th></th>\n",
       "      <th></th>\n",
       "      <th></th>\n",
       "      <th></th>\n",
       "      <th>Review Count</th>\n",
       "    </tr>\n",
       "    <tr>\n",
       "      <th>Restaurants</th>\n",
       "      <th>City</th>\n",
       "      <th>State</th>\n",
       "      <th>Price</th>\n",
       "      <th>Country</th>\n",
       "      <th></th>\n",
       "    </tr>\n",
       "  </thead>\n",
       "  <tbody>\n",
       "    <tr>\n",
       "      <th>Tacos El Bombon</th>\n",
       "      <th>Los Angeles</th>\n",
       "      <th>CA</th>\n",
       "      <th>$</th>\n",
       "      <th>US</th>\n",
       "      <td>1.0</td>\n",
       "    </tr>\n",
       "    <tr>\n",
       "      <th>Circulo Perfecto Enchiladas Ahogadas</th>\n",
       "      <th>Los Angeles</th>\n",
       "      <th>CA</th>\n",
       "      <th>$</th>\n",
       "      <th>US</th>\n",
       "      <td>1.0</td>\n",
       "    </tr>\n",
       "    <tr>\n",
       "      <th>Mr Sub</th>\n",
       "      <th>Markham</th>\n",
       "      <th>ON</th>\n",
       "      <th>$$$</th>\n",
       "      <th>CA</th>\n",
       "      <td>1.0</td>\n",
       "    </tr>\n",
       "    <tr>\n",
       "      <th>Life Cafe</th>\n",
       "      <th>Mississauga</th>\n",
       "      <th>ON</th>\n",
       "      <th>$$</th>\n",
       "      <th>CA</th>\n",
       "      <td>1.0</td>\n",
       "    </tr>\n",
       "    <tr>\n",
       "      <th>Kaiser Permanente Cafe</th>\n",
       "      <th>Downey</th>\n",
       "      <th>CA</th>\n",
       "      <th>$</th>\n",
       "      <th>US</th>\n",
       "      <td>1.0</td>\n",
       "    </tr>\n",
       "    <tr>\n",
       "      <th>Li Jiang</th>\n",
       "      <th>San Gabriel</th>\n",
       "      <th>CA</th>\n",
       "      <th>$</th>\n",
       "      <th>US</th>\n",
       "      <td>1.0</td>\n",
       "    </tr>\n",
       "    <tr>\n",
       "      <th>Mr Sub</th>\n",
       "      <th>Oakville</th>\n",
       "      <th>ON</th>\n",
       "      <th>$</th>\n",
       "      <th>CA</th>\n",
       "      <td>1.0</td>\n",
       "    </tr>\n",
       "    <tr>\n",
       "      <th>Ragazzi Ristorante</th>\n",
       "      <th>Oakville</th>\n",
       "      <th>ON</th>\n",
       "      <th>$$</th>\n",
       "      <th>CA</th>\n",
       "      <td>1.0</td>\n",
       "    </tr>\n",
       "    <tr>\n",
       "      <th>Benny's Pizza</th>\n",
       "      <th>Summit Argo</th>\n",
       "      <th>IL</th>\n",
       "      <th>$$</th>\n",
       "      <th>US</th>\n",
       "      <td>1.0</td>\n",
       "    </tr>\n",
       "    <tr>\n",
       "      <th>Mis Padres Restaurant</th>\n",
       "      <th>Commerce</th>\n",
       "      <th>CA</th>\n",
       "      <th>$</th>\n",
       "      <th>US</th>\n",
       "      <td>1.0</td>\n",
       "    </tr>\n",
       "  </tbody>\n",
       "</table>\n",
       "</div>"
      ],
      "text/plain": [
       "                                                                      Review Count\n",
       "Restaurants                          City        State Price Country              \n",
       "Tacos El Bombon                      Los Angeles CA    $     US                1.0\n",
       "Circulo Perfecto Enchiladas Ahogadas Los Angeles CA    $     US                1.0\n",
       "Mr Sub                               Markham     ON    $$$   CA                1.0\n",
       "Life Cafe                            Mississauga ON    $$    CA                1.0\n",
       "Kaiser Permanente Cafe               Downey      CA    $     US                1.0\n",
       "Li Jiang                             San Gabriel CA    $     US                1.0\n",
       "Mr Sub                               Oakville    ON    $     CA                1.0\n",
       "Ragazzi Ristorante                   Oakville    ON    $$    CA                1.0\n",
       "Benny's Pizza                        Summit Argo IL    $$    US                1.0\n",
       "Mis Padres Restaurant                Commerce    CA    $     US                1.0"
      ]
     },
     "execution_count": 798,
     "metadata": {},
     "output_type": "execute_result"
    }
   ],
   "source": [
    "# Restaurants with top \n",
    "city_review=cleaned_data[[\"Restaurants\",\"City\",\"State\",\"Price\",\"Country\",\"Review Count\"]]\n",
    "Avergae_city= city_review.groupby([\"Restaurants\",\"City\",\"State\",\"Price\",\"Country\"]).mean()\n",
    "top_review_cities=Avergae_city[Avergae_city['Review Count']<100].sort_values('Review Count',ascending = False)\n",
    "top_review_cities.tail(10)"
   ]
  },
  {
   "cell_type": "markdown",
   "metadata": {},
   "source": [
    "## Restaurants Pricing Summery \n",
    "* The percentage of Restaurants pricing under 10 dollars\n",
    "* The percentage of Restaurants pricing between 11-30 dollars\n",
    "* The percentage of Restaurants pricing between 31-60 dollars\n",
    "* The percentage of Restaurants pricing above 60 dollars\n"
   ]
  },
  {
   "cell_type": "code",
   "execution_count": 676,
   "metadata": {},
   "outputs": [
    {
     "data": {
      "text/plain": [
       "41.179835992626025"
      ]
     },
     "execution_count": 676,
     "metadata": {},
     "output_type": "execute_result"
    }
   ],
   "source": [
    "# The percentage of Restaurants pricing under 10 $ (labled as \"$\" in the dataset)\n",
    "\n",
    "restaurant_pricing_under_10= cleaned_data.loc[cleaned_data[\"Price\"]==\"$\"]\n",
    "\n",
    "restaurant_count_pricing_under_10 = restaurant_pricing_under_10[\"Restaurants\"].count()\n",
    "\n",
    "percent_restaurant_pricing_under_10= (restaurant_count_pricing_under_10/Restaurant_total_number) * 100\n",
    "\n",
    "percent_restaurant_pricing_under_10"
   ]
  },
  {
   "cell_type": "code",
   "execution_count": 677,
   "metadata": {},
   "outputs": [
    {
     "data": {
      "text/plain": [
       "53.27061216705867"
      ]
     },
     "execution_count": 677,
     "metadata": {},
     "output_type": "execute_result"
    }
   ],
   "source": [
    "# The percentage of Restaurants pricing between $11-$30 (labled as \"$$\" in the dataset)\n",
    "\n",
    "restaurant_pricing_bw_11_30= cleaned_data.loc[cleaned_data[\"Price\"]==\"$$\"]\n",
    "\n",
    "restaurant_count_pricing_bw_11_30 = restaurant_pricing_bw_11_30[\"Restaurants\"].count()\n",
    "\n",
    "percent_restaurant_pricing_bw_11_30= (restaurant_count_pricing_bw_11_30/Restaurant_total_number) * 100\n",
    "\n",
    "percent_restaurant_pricing_bw_11_30"
   ]
  },
  {
   "cell_type": "code",
   "execution_count": 678,
   "metadata": {},
   "outputs": [
    {
     "data": {
      "text/plain": [
       "4.456169347148942"
      ]
     },
     "execution_count": 678,
     "metadata": {},
     "output_type": "execute_result"
    }
   ],
   "source": [
    "# The percentage of Restaurants pricing between $31-$60 (labled as \"$$$\" in the dataset)\n",
    "\n",
    "restaurant_pricing_bw_31_60= cleaned_data.loc[cleaned_data[\"Price\"]==\"$$$\"]\n",
    "\n",
    "restaurant_count_pricing_bw_31_60 = restaurant_pricing_bw_31_60[\"Restaurants\"].count()\n",
    "\n",
    "percent_restaurant_pricing_bw_31_60= (restaurant_count_pricing_bw_31_60/Restaurant_total_number) * 100\n",
    "\n",
    "percent_restaurant_pricing_bw_31_60"
   ]
  },
  {
   "cell_type": "code",
   "execution_count": 679,
   "metadata": {},
   "outputs": [
    {
     "data": {
      "text/plain": [
       "1.0933824931663594"
      ]
     },
     "execution_count": 679,
     "metadata": {},
     "output_type": "execute_result"
    }
   ],
   "source": [
    "# The percentage of Restaurants pricing above$60 (labled as \"$$$$\" in the dataset)\n",
    "\n",
    "restaurant_pricing_above_60= cleaned_data.loc[cleaned_data[\"Price\"]==\"$$$$\"]\n",
    "\n",
    "restaurant_count_pricing_above_60 = restaurant_pricing_above_60[\"Restaurants\"].count()\n",
    "\n",
    "percent_restaurant_pricing_bw__above_60= (restaurant_count_pricing_above_60/Restaurant_total_number) * 100\n",
    "\n",
    "percent_restaurant_pricing_bw__above_60"
   ]
  },
  {
   "cell_type": "code",
   "execution_count": 680,
   "metadata": {},
   "outputs": [
    {
     "data": {
      "text/html": [
       "<div>\n",
       "<style scoped>\n",
       "    .dataframe tbody tr th:only-of-type {\n",
       "        vertical-align: middle;\n",
       "    }\n",
       "\n",
       "    .dataframe tbody tr th {\n",
       "        vertical-align: top;\n",
       "    }\n",
       "\n",
       "    .dataframe thead th {\n",
       "        text-align: right;\n",
       "    }\n",
       "</style>\n",
       "<table border=\"1\" class=\"dataframe\">\n",
       "  <thead>\n",
       "    <tr style=\"text-align: right;\">\n",
       "      <th></th>\n",
       "      <th>Total Restaurant Pricing Under $10</th>\n",
       "      <th>Total Restaurant Pricing $11-30</th>\n",
       "      <th>Total Restaurant Pricing $31-60</th>\n",
       "      <th>Total Restaurant Pricing Above $60</th>\n",
       "      <th>% Pricing Under $10</th>\n",
       "      <th>% Pricing between $11-30</th>\n",
       "      <th>% Pricing between $31-60</th>\n",
       "      <th>% Pricing above $60</th>\n",
       "    </tr>\n",
       "  </thead>\n",
       "  <tbody>\n",
       "    <tr>\n",
       "      <th>0</th>\n",
       "      <td>6,478</td>\n",
       "      <td>8,380</td>\n",
       "      <td>701</td>\n",
       "      <td>172</td>\n",
       "      <td>41.18%</td>\n",
       "      <td>53.27%</td>\n",
       "      <td>4.46%</td>\n",
       "      <td>1.09%</td>\n",
       "    </tr>\n",
       "  </tbody>\n",
       "</table>\n",
       "</div>"
      ],
      "text/plain": [
       "  Total Restaurant Pricing Under $10 Total Restaurant Pricing $11-30  \\\n",
       "0                              6,478                           8,380   \n",
       "\n",
       "  Total Restaurant Pricing $31-60 Total Restaurant Pricing Above $60  \\\n",
       "0                             701                                172   \n",
       "\n",
       "  % Pricing Under $10 % Pricing between $11-30 % Pricing between $31-60  \\\n",
       "0              41.18%                   53.27%                    4.46%   \n",
       "\n",
       "  % Pricing above $60  \n",
       "0               1.09%  "
      ]
     },
     "execution_count": 680,
     "metadata": {},
     "output_type": "execute_result"
    }
   ],
   "source": [
    "Restaurants_Pricing_table = pd.DataFrame({\n",
    "    \"Total Restaurant Pricing Under $10\":f\"{restaurant_count_pricing_under_10:,}\",\n",
    "    \"Total Restaurant Pricing $11-30\": f\"{restaurant_count_pricing_bw_11_30:,}\",\n",
    "    \"Total Restaurant Pricing $31-60\": f\"{restaurant_count_pricing_bw_31_60:,}\",\n",
    "    \"Total Restaurant Pricing Above $60\": f\"{restaurant_count_pricing_above_60:,}\",\n",
    "    \"% Pricing Under $10\": f\"{percent_restaurant_pricing_under_10:.2f}%\",\n",
    "    \"% Pricing between $11-30\": f\"{percent_restaurant_pricing_bw_11_30:.2f}%\",\n",
    "    \"% Pricing between $31-60\": f\"{percent_restaurant_pricing_bw_31_60:.2f}%\",\n",
    "    \"% Pricing above $60\": f\"{percent_restaurant_pricing_bw__above_60:.2f}%\",\n",
    "}, index=[0])\n",
    "\n",
    "Restaurants_Pricing_table"
   ]
  },
  {
   "cell_type": "code",
   "execution_count": 681,
   "metadata": {},
   "outputs": [
    {
     "data": {
      "text/html": [
       "<div>\n",
       "<style scoped>\n",
       "    .dataframe tbody tr th:only-of-type {\n",
       "        vertical-align: middle;\n",
       "    }\n",
       "\n",
       "    .dataframe tbody tr th {\n",
       "        vertical-align: top;\n",
       "    }\n",
       "\n",
       "    .dataframe thead th {\n",
       "        text-align: right;\n",
       "    }\n",
       "</style>\n",
       "<table border=\"1\" class=\"dataframe\">\n",
       "  <thead>\n",
       "    <tr style=\"text-align: right;\">\n",
       "      <th></th>\n",
       "      <th>Restaurant Counts</th>\n",
       "    </tr>\n",
       "    <tr>\n",
       "      <th>Restaurant Price Range</th>\n",
       "      <th></th>\n",
       "    </tr>\n",
       "  </thead>\n",
       "  <tbody>\n",
       "    <tr>\n",
       "      <th>Between $11-30</th>\n",
       "      <td>8380</td>\n",
       "    </tr>\n",
       "    <tr>\n",
       "      <th>Under $10</th>\n",
       "      <td>6478</td>\n",
       "    </tr>\n",
       "    <tr>\n",
       "      <th>Between $31-60</th>\n",
       "      <td>701</td>\n",
       "    </tr>\n",
       "    <tr>\n",
       "      <th>Above $60</th>\n",
       "      <td>172</td>\n",
       "    </tr>\n",
       "  </tbody>\n",
       "</table>\n",
       "</div>"
      ],
      "text/plain": [
       "                        Restaurant Counts\n",
       "Restaurant Price Range                   \n",
       "Between $11-30                       8380\n",
       "Under $10                            6478\n",
       "Between $31-60                        701\n",
       "Above $60                             172"
      ]
     },
     "execution_count": 681,
     "metadata": {},
     "output_type": "execute_result"
    }
   ],
   "source": [
    "# Value counts for price ranges and create a DataFrame\n",
    "count_pricing =cleaned_data['Price'].value_counts().rename_axis('Restaurant Price Range').reset_index(name='Restaurant Counts')\n",
    "pricing_df=count_pricing.set_index('Restaurant Price Range')\n",
    "pricing_df.rename(index={'$':'Under $10','$$':'Between $11-30','$$$':'Between $31-60','$$$$':'Above $60'},inplace=True)\n",
    "pricing_df"
   ]
  },
  {
   "cell_type": "code",
   "execution_count": 682,
   "metadata": {},
   "outputs": [
    {
     "data": {
      "image/png": "[encoded data removed]",
      "text/plain": [
       "<Figure size 1080x720 with 1 Axes>"
      ]
     },
     "metadata": {},
     "output_type": "display_data"
    }
   ],
   "source": [
    "\n",
    "# Create Labels for the sections of the pie\n",
    "labels = [\"Under $10\",\"Between $11-30\",\"Between $31-60\",\"Above $60\"]\n",
    "\n",
    "colors = ['blue','green','orange','gray']\n",
    "\n",
    "fig, ax = plt.subplots(figsize=(15, 10))\n",
    "size = 0.3\n",
    "cmap = plt.get_cmap(\"tab20c\")\n",
    "ax.pie(pricing_df, radius=1,labels=labels,colors=colors,wedgeprops=dict(width=size, edgecolor='w'),autopct=\"%1.1f%%\",shadow=True, startangle=140)\n",
    "plt.title('Classification of Restaurant by Price Range',fontsize = 20)\n",
    "ax.legend(title=\"Price Range\",loc=\"center left\",bbox_to_anchor=(1, 0, 0.8, 1))\n",
    "\n",
    "plt.show()"
   ]
  },
  {
   "cell_type": "markdown",
   "metadata": {},
   "source": [
    "## City Summery \n",
    "* Total number of restaurants per city\n",
    "* Total Number of restaurants per state\n",
    "* Total Number of restaurants per country\n",
    "* Avergae Rating per city\n",
    "* Avergae Review Count per city\n",
    "* Cities getting avergae resturant rating per city greather than 4\n",
    "* Cities getting avergae resturant review count greater than 500\n",
    "* Cities getting avergae resturant rating resturant less than 2\n",
    "* Cities getting avergae resturant review count less than 100\n"
   ]
  },
  {
   "cell_type": "code",
   "execution_count": 683,
   "metadata": {},
   "outputs": [
    {
     "data": {
      "text/html": [
       "<div>\n",
       "<style scoped>\n",
       "    .dataframe tbody tr th:only-of-type {\n",
       "        vertical-align: middle;\n",
       "    }\n",
       "\n",
       "    .dataframe tbody tr th {\n",
       "        vertical-align: top;\n",
       "    }\n",
       "\n",
       "    .dataframe thead th {\n",
       "        text-align: right;\n",
       "    }\n",
       "</style>\n",
       "<table border=\"1\" class=\"dataframe\">\n",
       "  <thead>\n",
       "    <tr style=\"text-align: right;\">\n",
       "      <th></th>\n",
       "      <th>Cities</th>\n",
       "      <th>Restaurants Counts</th>\n",
       "    </tr>\n",
       "  </thead>\n",
       "  <tbody>\n",
       "    <tr>\n",
       "      <th>0</th>\n",
       "      <td>Los Angeles</td>\n",
       "      <td>2802</td>\n",
       "    </tr>\n",
       "    <tr>\n",
       "      <th>1</th>\n",
       "      <td>Chicago</td>\n",
       "      <td>2233</td>\n",
       "    </tr>\n",
       "    <tr>\n",
       "      <th>2</th>\n",
       "      <td>Toronto</td>\n",
       "      <td>1039</td>\n",
       "    </tr>\n",
       "    <tr>\n",
       "      <th>3</th>\n",
       "      <td>New York</td>\n",
       "      <td>700</td>\n",
       "    </tr>\n",
       "    <tr>\n",
       "      <th>4</th>\n",
       "      <td>Brooklyn</td>\n",
       "      <td>585</td>\n",
       "    </tr>\n",
       "  </tbody>\n",
       "</table>\n",
       "</div>"
      ],
      "text/plain": [
       "        Cities  Restaurants Counts\n",
       "0  Los Angeles                2802\n",
       "1      Chicago                2233\n",
       "2      Toronto                1039\n",
       "3     New York                 700\n",
       "4     Brooklyn                 585"
      ]
     },
     "execution_count": 683,
     "metadata": {},
     "output_type": "execute_result"
    }
   ],
   "source": [
    "# Total number of restaurants per City\n",
    "restaurants_Counts =cleaned_data['City'].value_counts().rename_axis('Cities').reset_index(name='Restaurants Counts')\n",
    "restaurants_Counts.head()"
   ]
  },
  {
   "cell_type": "code",
   "execution_count": 684,
   "metadata": {},
   "outputs": [
    {
     "data": {
      "text/plain": [
       "Text(0.5, 1.0, 'Top Ten Cities Restaurants sourced ')"
      ]
     },
     "execution_count": 684,
     "metadata": {},
     "output_type": "execute_result"
    },
    {
     "data": {
      "image/png": "[encoded data removed]",
      "text/plain": [
       "<Figure size 1080x720 with 1 Axes>"
      ]
     },
     "metadata": {
      "needs_background": "light"
     },
     "output_type": "display_data"
    }
   ],
   "source": [
    "# Top twinity cities Restaurants sourced\n",
    "count_rest = cleaned_data.groupby([\"City\"]).count()[\"Restaurants\"] \n",
    "sort_cities=count_rest.sort_values(ascending = False)\n",
    "top_cities=sort_cities.head(20)\n",
    "plot_pandas = top_cities.plot.bar(figsize=(15,10), color='#66C010',fontsize = 14)\n",
    "plt.xlabel(\"City\",fontsize = 14)\n",
    "plt.ylabel(\"Number of Restaurants\",fontsize = 14)\n",
    "plt.title(\"Top Ten Cities Restaurants sourced \",fontsize = 20)"
   ]
  },
  {
   "cell_type": "code",
   "execution_count": 685,
   "metadata": {},
   "outputs": [
    {
     "data": {
      "text/plain": [
       "Text(0.5, 1.0, 'Number of Restaurant per State')"
      ]
     },
     "execution_count": 685,
     "metadata": {},
     "output_type": "execute_result"
    },
    {
     "data": {
      "image/png": "[encoded data removed]",
      "text/plain": [
       "<Figure size 1080x720 with 1 Axes>"
      ]
     },
     "metadata": {
      "needs_background": "light"
     },
     "output_type": "display_data"
    }
   ],
   "source": [
    "# Number of restaurants per State\n",
    "Restaurants = cleaned_data.groupby([\"State\"]).count()[\"Restaurants\"] \n",
    "plot_pandas = Restaurants.plot.bar(figsize=(15,10), color='#66C010',fontsize = 14)\n",
    "Restaurants\n",
    "plt.xlabel(\"State\",fontsize = 14)\n",
    "plt.ylabel(\"Number of RestaurantS\",fontsize = 14)\n",
    "plt.title(\"Number of Restaurant per State\",fontsize = 20)"
   ]
  },
  {
   "cell_type": "code",
   "execution_count": 686,
   "metadata": {},
   "outputs": [
    {
     "data": {
      "text/plain": [
       "Country\n",
       "CA     3546\n",
       "US    12185\n",
       "Name: Restaurants, dtype: int64"
      ]
     },
     "execution_count": 686,
     "metadata": {},
     "output_type": "execute_result"
    }
   ],
   "source": [
    "# Number of restaurants by Country \n",
    "rest_country= cleaned_data.groupby([\"Country\"]).count()[\"Restaurants\"] \n",
    "rest_country"
   ]
  },
  {
   "cell_type": "code",
   "execution_count": 687,
   "metadata": {},
   "outputs": [
    {
     "data": {
      "text/plain": [
       "City\n",
       "Ajax               3.347619\n",
       "Alhambra           3.521858\n",
       "Altadena           4.500000\n",
       "Amf O'Hare         3.500000\n",
       "Atwater Village    3.500000\n",
       "                     ...   \n",
       "Willow Springs     3.000000\n",
       "Wilmette           3.796296\n",
       "Winnetka           4.000000\n",
       "Woodbridge         3.630000\n",
       "York               3.600000\n",
       "Name: Rating, Length: 189, dtype: float64"
      ]
     },
     "execution_count": 687,
     "metadata": {},
     "output_type": "execute_result"
    }
   ],
   "source": [
    "# Avrage rating of restaurants per City\n",
    "Avergae_rating_city= cleaned_data.groupby([\"City\"]).mean()[\"Rating\"]\n",
    "Avergae_rating_city"
   ]
  },
  {
   "cell_type": "code",
   "execution_count": 688,
   "metadata": {},
   "outputs": [
    {
     "data": {
      "text/plain": [
       "City\n",
       "Ajax                21.466667\n",
       "Alhambra           467.688525\n",
       "Altadena           119.000000\n",
       "Amf O'Hare          26.000000\n",
       "Atwater Village    763.000000\n",
       "                      ...    \n",
       "Willow Springs     113.000000\n",
       "Wilmette           116.407407\n",
       "Winnetka            44.000000\n",
       "Woodbridge          36.080000\n",
       "York                 8.400000\n",
       "Name: Review Count, Length: 189, dtype: float64"
      ]
     },
     "execution_count": 688,
     "metadata": {},
     "output_type": "execute_result"
    }
   ],
   "source": [
    "# Avrage review Count  of restaurants per City\n",
    "Avergae_rating_city= cleaned_data.groupby([\"City\"]).mean()[\"Review Count\"]\n",
    "Avergae_rating_city"
   ]
  },
  {
   "cell_type": "code",
   "execution_count": 728,
   "metadata": {},
   "outputs": [
    {
     "data": {
      "text/html": [
       "<div>\n",
       "<style scoped>\n",
       "    .dataframe tbody tr th:only-of-type {\n",
       "        vertical-align: middle;\n",
       "    }\n",
       "\n",
       "    .dataframe tbody tr th {\n",
       "        vertical-align: top;\n",
       "    }\n",
       "\n",
       "    .dataframe thead th {\n",
       "        text-align: right;\n",
       "    }\n",
       "</style>\n",
       "<table border=\"1\" class=\"dataframe\">\n",
       "  <thead>\n",
       "    <tr style=\"text-align: right;\">\n",
       "      <th></th>\n",
       "      <th></th>\n",
       "      <th></th>\n",
       "      <th>Rating</th>\n",
       "    </tr>\n",
       "    <tr>\n",
       "      <th>City</th>\n",
       "      <th>State</th>\n",
       "      <th>Country</th>\n",
       "      <th></th>\n",
       "    </tr>\n",
       "  </thead>\n",
       "  <tbody>\n",
       "    <tr>\n",
       "      <th>Fullerton</th>\n",
       "      <th>CA</th>\n",
       "      <th>US</th>\n",
       "      <td>5.000000</td>\n",
       "    </tr>\n",
       "    <tr>\n",
       "      <th>Boyle Heights</th>\n",
       "      <th>CA</th>\n",
       "      <th>US</th>\n",
       "      <td>5.000000</td>\n",
       "    </tr>\n",
       "    <tr>\n",
       "      <th>Melba Id</th>\n",
       "      <th>IL</th>\n",
       "      <th>US</th>\n",
       "      <td>5.000000</td>\n",
       "    </tr>\n",
       "    <tr>\n",
       "      <th>Hazard</th>\n",
       "      <th>CA</th>\n",
       "      <th>US</th>\n",
       "      <td>5.000000</td>\n",
       "    </tr>\n",
       "    <tr>\n",
       "      <th>El Sereno</th>\n",
       "      <th>CA</th>\n",
       "      <th>US</th>\n",
       "      <td>4.666667</td>\n",
       "    </tr>\n",
       "    <tr>\n",
       "      <th>Altadena</th>\n",
       "      <th>CA</th>\n",
       "      <th>US</th>\n",
       "      <td>4.500000</td>\n",
       "    </tr>\n",
       "    <tr>\n",
       "      <th>North Utica</th>\n",
       "      <th>IL</th>\n",
       "      <th>US</th>\n",
       "      <td>4.500000</td>\n",
       "    </tr>\n",
       "    <tr>\n",
       "      <th>Lennox</th>\n",
       "      <th>CA</th>\n",
       "      <th>US</th>\n",
       "      <td>4.500000</td>\n",
       "    </tr>\n",
       "    <tr>\n",
       "      <th>La Canada Flintridge</th>\n",
       "      <th>CA</th>\n",
       "      <th>US</th>\n",
       "      <td>4.500000</td>\n",
       "    </tr>\n",
       "    <tr>\n",
       "      <th>Boise Id</th>\n",
       "      <th>IL</th>\n",
       "      <th>US</th>\n",
       "      <td>4.500000</td>\n",
       "    </tr>\n",
       "  </tbody>\n",
       "</table>\n",
       "</div>"
      ],
      "text/plain": [
       "                                      Rating\n",
       "City                 State Country          \n",
       "Fullerton            CA    US       5.000000\n",
       "Boyle Heights        CA    US       5.000000\n",
       "Melba Id             IL    US       5.000000\n",
       "Hazard               CA    US       5.000000\n",
       "El Sereno            CA    US       4.666667\n",
       "Altadena             CA    US       4.500000\n",
       "North Utica          IL    US       4.500000\n",
       "Lennox               CA    US       4.500000\n",
       "La Canada Flintridge CA    US       4.500000\n",
       "Boise Id             IL    US       4.500000"
      ]
     },
     "execution_count": 728,
     "metadata": {},
     "output_type": "execute_result"
    }
   ],
   "source": [
    "# Cities getting avergae resturant rating greather than 4\n",
    "city_rating=cleaned_data[[\"City\",\"State\",\"Country\",\"Rating\"]]\n",
    "Avergae_city= city_rating.groupby([\"City\",\"State\",\"Country\",]).mean()\n",
    "top_rating_cities=Avergae_city[Avergae_city['Rating']>4].sort_values('Rating',ascending = False)\n",
    "top_rating_cities.head(10)"
   ]
  },
  {
   "cell_type": "code",
   "execution_count": 762,
   "metadata": {},
   "outputs": [
    {
     "data": {
      "text/html": [
       "<div>\n",
       "<style scoped>\n",
       "    .dataframe tbody tr th:only-of-type {\n",
       "        vertical-align: middle;\n",
       "    }\n",
       "\n",
       "    .dataframe tbody tr th {\n",
       "        vertical-align: top;\n",
       "    }\n",
       "\n",
       "    .dataframe thead th {\n",
       "        text-align: right;\n",
       "    }\n",
       "</style>\n",
       "<table border=\"1\" class=\"dataframe\">\n",
       "  <thead>\n",
       "    <tr style=\"text-align: right;\">\n",
       "      <th></th>\n",
       "      <th></th>\n",
       "      <th></th>\n",
       "      <th>Review Count</th>\n",
       "    </tr>\n",
       "    <tr>\n",
       "      <th>City</th>\n",
       "      <th>State</th>\n",
       "      <th>Country</th>\n",
       "      <th></th>\n",
       "    </tr>\n",
       "  </thead>\n",
       "  <tbody>\n",
       "    <tr>\n",
       "      <th>New York</th>\n",
       "      <th>NY</th>\n",
       "      <th>US</th>\n",
       "      <td>905.291429</td>\n",
       "    </tr>\n",
       "    <tr>\n",
       "      <th>Hollywood</th>\n",
       "      <th>CA</th>\n",
       "      <th>US</th>\n",
       "      <td>840.761905</td>\n",
       "    </tr>\n",
       "    <tr>\n",
       "      <th>Universal City</th>\n",
       "      <th>CA</th>\n",
       "      <th>US</th>\n",
       "      <td>805.700000</td>\n",
       "    </tr>\n",
       "    <tr>\n",
       "      <th>Atwater Village</th>\n",
       "      <th>CA</th>\n",
       "      <th>US</th>\n",
       "      <td>763.000000</td>\n",
       "    </tr>\n",
       "    <tr>\n",
       "      <th>Studio City</th>\n",
       "      <th>CA</th>\n",
       "      <th>US</th>\n",
       "      <td>741.642857</td>\n",
       "    </tr>\n",
       "    <tr>\n",
       "      <th>Beverly Hills</th>\n",
       "      <th>CA</th>\n",
       "      <th>US</th>\n",
       "      <td>679.960000</td>\n",
       "    </tr>\n",
       "    <tr>\n",
       "      <th>West Hollywood</th>\n",
       "      <th>CA</th>\n",
       "      <th>US</th>\n",
       "      <td>629.959538</td>\n",
       "    </tr>\n",
       "    <tr>\n",
       "      <th>Silver Lake</th>\n",
       "      <th>CA</th>\n",
       "      <th>US</th>\n",
       "      <td>618.500000</td>\n",
       "    </tr>\n",
       "    <tr>\n",
       "      <th>Pasadena</th>\n",
       "      <th>CA</th>\n",
       "      <th>US</th>\n",
       "      <td>549.063768</td>\n",
       "    </tr>\n",
       "    <tr>\n",
       "      <th>Long Island City</th>\n",
       "      <th>NY</th>\n",
       "      <th>US</th>\n",
       "      <td>544.928571</td>\n",
       "    </tr>\n",
       "  </tbody>\n",
       "</table>\n",
       "</div>"
      ],
      "text/plain": [
       "                                Review Count\n",
       "City             State Country              \n",
       "New York         NY    US         905.291429\n",
       "Hollywood        CA    US         840.761905\n",
       "Universal City   CA    US         805.700000\n",
       "Atwater Village  CA    US         763.000000\n",
       "Studio City      CA    US         741.642857\n",
       "Beverly Hills    CA    US         679.960000\n",
       "West Hollywood   CA    US         629.959538\n",
       "Silver Lake      CA    US         618.500000\n",
       "Pasadena         CA    US         549.063768\n",
       "Long Island City NY    US         544.928571"
      ]
     },
     "execution_count": 762,
     "metadata": {},
     "output_type": "execute_result"
    }
   ],
   "source": [
    "# Cities getting avergae resturant review count greater than 500\n",
    "city_review=cleaned_data[[\"City\",\"State\",\"Country\",\"Review Count\"]]\n",
    "Avergae_city= city_review.groupby([\"City\",\"State\",\"Country\"]).mean()\n",
    "top_review_cities=Avergae_city[Avergae_city['Review Count']>500].sort_values('Review Count',ascending = False)\n",
    "top_review_cities.head(10)"
   ]
  },
  {
   "cell_type": "code",
   "execution_count": 757,
   "metadata": {},
   "outputs": [
    {
     "data": {
      "text/html": [
       "<div>\n",
       "<style scoped>\n",
       "    .dataframe tbody tr th:only-of-type {\n",
       "        vertical-align: middle;\n",
       "    }\n",
       "\n",
       "    .dataframe tbody tr th {\n",
       "        vertical-align: top;\n",
       "    }\n",
       "\n",
       "    .dataframe thead th {\n",
       "        text-align: right;\n",
       "    }\n",
       "</style>\n",
       "<table border=\"1\" class=\"dataframe\">\n",
       "  <thead>\n",
       "    <tr style=\"text-align: right;\">\n",
       "      <th></th>\n",
       "      <th></th>\n",
       "      <th></th>\n",
       "      <th>Rating</th>\n",
       "    </tr>\n",
       "    <tr>\n",
       "      <th>City</th>\n",
       "      <th>State</th>\n",
       "      <th>Country</th>\n",
       "      <th></th>\n",
       "    </tr>\n",
       "  </thead>\n",
       "  <tbody>\n",
       "    <tr>\n",
       "      <th>Scott</th>\n",
       "      <th>IL</th>\n",
       "      <th>US</th>\n",
       "      <td>1.0</td>\n",
       "    </tr>\n",
       "    <tr>\n",
       "      <th>E Los Angeles</th>\n",
       "      <th>CA</th>\n",
       "      <th>US</th>\n",
       "      <td>1.5</td>\n",
       "    </tr>\n",
       "    <tr>\n",
       "      <th>Jacksonville</th>\n",
       "      <th>IL</th>\n",
       "      <th>US</th>\n",
       "      <td>1.5</td>\n",
       "    </tr>\n",
       "    <tr>\n",
       "      <th>Pekin</th>\n",
       "      <th>CA</th>\n",
       "      <th>US</th>\n",
       "      <td>1.5</td>\n",
       "    </tr>\n",
       "    <tr>\n",
       "      <th>Seaside</th>\n",
       "      <th>CA</th>\n",
       "      <th>US</th>\n",
       "      <td>1.5</td>\n",
       "    </tr>\n",
       "    <tr>\n",
       "      <th>O'Hare</th>\n",
       "      <th>IL</th>\n",
       "      <th>US</th>\n",
       "      <td>2.0</td>\n",
       "    </tr>\n",
       "    <tr>\n",
       "      <th>City Of Commerce</th>\n",
       "      <th>CA</th>\n",
       "      <th>US</th>\n",
       "      <td>2.3</td>\n",
       "    </tr>\n",
       "  </tbody>\n",
       "</table>\n",
       "</div>"
      ],
      "text/plain": [
       "                                Rating\n",
       "City             State Country        \n",
       "Scott            IL    US          1.0\n",
       "E Los Angeles    CA    US          1.5\n",
       "Jacksonville     IL    US          1.5\n",
       "Pekin            CA    US          1.5\n",
       "Seaside          CA    US          1.5\n",
       "O'Hare           IL    US          2.0\n",
       "City Of Commerce CA    US          2.3"
      ]
     },
     "execution_count": 757,
     "metadata": {},
     "output_type": "execute_result"
    }
   ],
   "source": [
    "# Cities getting avergae resturant rating less than 2\n",
    "city_rating=cleaned_data[[\"City\",\"State\",\"Country\",\"Rating\"]]\n",
    "Avergae_city= city_rating.groupby([\"City\",\"State\",\"Country\"]).mean()\n",
    "bottom_rating_cities=Avergae_city[Avergae_city['Rating']<2.5].sort_values('Rating',ascending =True)\n",
    "bottom_rating_cities.head(10)"
   ]
  },
  {
   "cell_type": "code",
   "execution_count": 766,
   "metadata": {},
   "outputs": [
    {
     "data": {
      "text/html": [
       "<div>\n",
       "<style scoped>\n",
       "    .dataframe tbody tr th:only-of-type {\n",
       "        vertical-align: middle;\n",
       "    }\n",
       "\n",
       "    .dataframe tbody tr th {\n",
       "        vertical-align: top;\n",
       "    }\n",
       "\n",
       "    .dataframe thead th {\n",
       "        text-align: right;\n",
       "    }\n",
       "</style>\n",
       "<table border=\"1\" class=\"dataframe\">\n",
       "  <thead>\n",
       "    <tr style=\"text-align: right;\">\n",
       "      <th></th>\n",
       "      <th></th>\n",
       "      <th></th>\n",
       "      <th>Review Count</th>\n",
       "    </tr>\n",
       "    <tr>\n",
       "      <th>City</th>\n",
       "      <th>State</th>\n",
       "      <th>Country</th>\n",
       "      <th></th>\n",
       "    </tr>\n",
       "  </thead>\n",
       "  <tbody>\n",
       "    <tr>\n",
       "      <th>Fullerton</th>\n",
       "      <th>CA</th>\n",
       "      <th>US</th>\n",
       "      <td>1.000000</td>\n",
       "    </tr>\n",
       "    <tr>\n",
       "      <th>Melba Id</th>\n",
       "      <th>IL</th>\n",
       "      <th>US</th>\n",
       "      <td>2.000000</td>\n",
       "    </tr>\n",
       "    <tr>\n",
       "      <th>Gormley</th>\n",
       "      <th>ON</th>\n",
       "      <th>CA</th>\n",
       "      <td>3.000000</td>\n",
       "    </tr>\n",
       "    <tr>\n",
       "      <th>South El Monte</th>\n",
       "      <th>CA</th>\n",
       "      <th>US</th>\n",
       "      <td>3.000000</td>\n",
       "    </tr>\n",
       "    <tr>\n",
       "      <th>Florence-Graham</th>\n",
       "      <th>CA</th>\n",
       "      <th>US</th>\n",
       "      <td>4.666667</td>\n",
       "    </tr>\n",
       "    <tr>\n",
       "      <th>Summit Argo</th>\n",
       "      <th>IL</th>\n",
       "      <th>US</th>\n",
       "      <td>4.666667</td>\n",
       "    </tr>\n",
       "    <tr>\n",
       "      <th>Oakridges</th>\n",
       "      <th>ON</th>\n",
       "      <th>CA</th>\n",
       "      <td>5.000000</td>\n",
       "    </tr>\n",
       "    <tr>\n",
       "      <th>Manhattan Beach</th>\n",
       "      <th>CA</th>\n",
       "      <th>US</th>\n",
       "      <td>6.000000</td>\n",
       "    </tr>\n",
       "    <tr>\n",
       "      <th>Saint Clairsville</th>\n",
       "      <th>CA</th>\n",
       "      <th>US</th>\n",
       "      <td>7.000000</td>\n",
       "    </tr>\n",
       "    <tr>\n",
       "      <th>Caledon</th>\n",
       "      <th>ON</th>\n",
       "      <th>CA</th>\n",
       "      <td>8.250000</td>\n",
       "    </tr>\n",
       "  </tbody>\n",
       "</table>\n",
       "</div>"
      ],
      "text/plain": [
       "                                 Review Count\n",
       "City              State Country              \n",
       "Fullerton         CA    US           1.000000\n",
       "Melba Id          IL    US           2.000000\n",
       "Gormley           ON    CA           3.000000\n",
       "South El Monte    CA    US           3.000000\n",
       "Florence-Graham   CA    US           4.666667\n",
       "Summit Argo       IL    US           4.666667\n",
       "Oakridges         ON    CA           5.000000\n",
       "Manhattan Beach   CA    US           6.000000\n",
       "Saint Clairsville CA    US           7.000000\n",
       "Caledon           ON    CA           8.250000"
      ]
     },
     "execution_count": 766,
     "metadata": {},
     "output_type": "execute_result"
    }
   ],
   "source": [
    "# Cities getting avergae resturant review count greater than 100\n",
    "city_review=cleaned_data[[\"City\",\"State\",\"Country\",\"Review Count\"]]\n",
    "Avergae_city= city_review.groupby([\"City\",\"State\",\"Country\"]).mean()\n",
    "bottom_review_cities=Avergae_city[Avergae_city['Review Count']<100].sort_values('Review Count',ascending = True)\n",
    "bottom_review_cities.head(10)"
   ]
  },
  {
   "cell_type": "code",
   "execution_count": 784,
   "metadata": {},
   "outputs": [
    {
     "data": {
      "text/html": [
       "<div>\n",
       "<style scoped>\n",
       "    .dataframe tbody tr th:only-of-type {\n",
       "        vertical-align: middle;\n",
       "    }\n",
       "\n",
       "    .dataframe tbody tr th {\n",
       "        vertical-align: top;\n",
       "    }\n",
       "\n",
       "    .dataframe thead th {\n",
       "        text-align: right;\n",
       "    }\n",
       "</style>\n",
       "<table border=\"1\" class=\"dataframe\">\n",
       "  <thead>\n",
       "    <tr style=\"text-align: right;\">\n",
       "      <th></th>\n",
       "      <th></th>\n",
       "      <th></th>\n",
       "      <th>Rating</th>\n",
       "      <th>Review Count</th>\n",
       "    </tr>\n",
       "    <tr>\n",
       "      <th>City</th>\n",
       "      <th>State</th>\n",
       "      <th>Country</th>\n",
       "      <th></th>\n",
       "      <th></th>\n",
       "    </tr>\n",
       "  </thead>\n",
       "  <tbody>\n",
       "    <tr>\n",
       "      <th>East York</th>\n",
       "      <th>ON</th>\n",
       "      <th>CA</th>\n",
       "      <td>4.500000</td>\n",
       "      <td>259.000000</td>\n",
       "    </tr>\n",
       "    <tr>\n",
       "      <th>Greenpoint</th>\n",
       "      <th>NY</th>\n",
       "      <th>US</th>\n",
       "      <td>4.500000</td>\n",
       "      <td>201.000000</td>\n",
       "    </tr>\n",
       "    <tr>\n",
       "      <th>La Canada Flintridge</th>\n",
       "      <th>CA</th>\n",
       "      <th>US</th>\n",
       "      <td>4.500000</td>\n",
       "      <td>332.500000</td>\n",
       "    </tr>\n",
       "    <tr>\n",
       "      <th>Studio City</th>\n",
       "      <th>CA</th>\n",
       "      <th>US</th>\n",
       "      <td>4.142857</td>\n",
       "      <td>741.642857</td>\n",
       "    </tr>\n",
       "    <tr>\n",
       "      <th>Long Island City</th>\n",
       "      <th>NY</th>\n",
       "      <th>US</th>\n",
       "      <td>4.071429</td>\n",
       "      <td>544.928571</td>\n",
       "    </tr>\n",
       "    <tr>\n",
       "      <th>New York</th>\n",
       "      <th>NY</th>\n",
       "      <th>US</th>\n",
       "      <td>4.050714</td>\n",
       "      <td>905.291429</td>\n",
       "    </tr>\n",
       "    <tr>\n",
       "      <th>Brooklyn</th>\n",
       "      <th>NY</th>\n",
       "      <th>US</th>\n",
       "      <td>4.040171</td>\n",
       "      <td>416.037607</td>\n",
       "    </tr>\n",
       "    <tr>\n",
       "      <th>Boerum Hill</th>\n",
       "      <th>NY</th>\n",
       "      <th>US</th>\n",
       "      <td>4.000000</td>\n",
       "      <td>376.000000</td>\n",
       "    </tr>\n",
       "    <tr>\n",
       "      <th>Brooklyn Heights</th>\n",
       "      <th>NY</th>\n",
       "      <th>US</th>\n",
       "      <td>4.000000</td>\n",
       "      <td>273.000000</td>\n",
       "    </tr>\n",
       "    <tr>\n",
       "      <th>Downtown Brooklyn</th>\n",
       "      <th>NY</th>\n",
       "      <th>US</th>\n",
       "      <td>4.000000</td>\n",
       "      <td>251.000000</td>\n",
       "    </tr>\n",
       "  </tbody>\n",
       "</table>\n",
       "</div>"
      ],
      "text/plain": [
       "                                      Rating  Review Count\n",
       "City                 State Country                        \n",
       "East York            ON    CA       4.500000    259.000000\n",
       "Greenpoint           NY    US       4.500000    201.000000\n",
       "La Canada Flintridge CA    US       4.500000    332.500000\n",
       "Studio City          CA    US       4.142857    741.642857\n",
       "Long Island City     NY    US       4.071429    544.928571\n",
       "New York             NY    US       4.050714    905.291429\n",
       "Brooklyn             NY    US       4.040171    416.037607\n",
       "Boerum Hill          NY    US       4.000000    376.000000\n",
       "Brooklyn Heights     NY    US       4.000000    273.000000\n",
       "Downtown Brooklyn    NY    US       4.000000    251.000000"
      ]
     },
     "execution_count": 784,
     "metadata": {},
     "output_type": "execute_result"
    }
   ],
   "source": [
    "# Cities geting average restaurants Review Count greater than 500 & rating greater than 4 (Best record)\n",
    "city_rating_review=cleaned_data[[\"City\",\"State\",\"Country\",\"Rating\",\"Review Count\"]]\n",
    "Avergae_city_rate_rev= city_rating_review.groupby([\"City\",\"State\",\"Country\"]).mean()\n",
    "top_review_cities=Avergae_city_rate_rev[(Avergae_city_rate_rev['Review Count']>200) & (Avergae_city_rate_rev['Rating']>=4)].sort_values('Rating',ascending = False)\n",
    "top_review_cities.head(10)\n"
   ]
  },
  {
   "cell_type": "code",
   "execution_count": 789,
   "metadata": {},
   "outputs": [
    {
     "data": {
      "text/html": [
       "<div>\n",
       "<style scoped>\n",
       "    .dataframe tbody tr th:only-of-type {\n",
       "        vertical-align: middle;\n",
       "    }\n",
       "\n",
       "    .dataframe tbody tr th {\n",
       "        vertical-align: top;\n",
       "    }\n",
       "\n",
       "    .dataframe thead th {\n",
       "        text-align: right;\n",
       "    }\n",
       "</style>\n",
       "<table border=\"1\" class=\"dataframe\">\n",
       "  <thead>\n",
       "    <tr style=\"text-align: right;\">\n",
       "      <th></th>\n",
       "      <th></th>\n",
       "      <th></th>\n",
       "      <th>Rating</th>\n",
       "      <th>Review Count</th>\n",
       "    </tr>\n",
       "    <tr>\n",
       "      <th>City</th>\n",
       "      <th>State</th>\n",
       "      <th>Country</th>\n",
       "      <th></th>\n",
       "      <th></th>\n",
       "    </tr>\n",
       "  </thead>\n",
       "  <tbody>\n",
       "    <tr>\n",
       "      <th>O'Hare</th>\n",
       "      <th>IL</th>\n",
       "      <th>US</th>\n",
       "      <td>2.000000</td>\n",
       "      <td>33.000000</td>\n",
       "    </tr>\n",
       "    <tr>\n",
       "      <th>City Of Commerce</th>\n",
       "      <th>CA</th>\n",
       "      <th>US</th>\n",
       "      <td>2.300000</td>\n",
       "      <td>81.800000</td>\n",
       "    </tr>\n",
       "    <tr>\n",
       "      <th>Southgate</th>\n",
       "      <th>CA</th>\n",
       "      <th>US</th>\n",
       "      <td>2.500000</td>\n",
       "      <td>58.000000</td>\n",
       "    </tr>\n",
       "    <tr>\n",
       "      <th>Saint Clairsville</th>\n",
       "      <th>CA</th>\n",
       "      <th>US</th>\n",
       "      <td>2.500000</td>\n",
       "      <td>7.000000</td>\n",
       "    </tr>\n",
       "    <tr>\n",
       "      <th>N.Riverside</th>\n",
       "      <th>IL</th>\n",
       "      <th>US</th>\n",
       "      <td>2.500000</td>\n",
       "      <td>22.000000</td>\n",
       "    </tr>\n",
       "    <tr>\n",
       "      <th>Los Angeles (Eagle Rock)</th>\n",
       "      <th>CA</th>\n",
       "      <th>US</th>\n",
       "      <td>2.500000</td>\n",
       "      <td>60.000000</td>\n",
       "    </tr>\n",
       "    <tr>\n",
       "      <th>South El Monte</th>\n",
       "      <th>CA</th>\n",
       "      <th>US</th>\n",
       "      <td>2.500000</td>\n",
       "      <td>3.000000</td>\n",
       "    </tr>\n",
       "    <tr>\n",
       "      <th>Walnut Park</th>\n",
       "      <th>CA</th>\n",
       "      <th>US</th>\n",
       "      <td>2.571429</td>\n",
       "      <td>86.285714</td>\n",
       "    </tr>\n",
       "    <tr>\n",
       "      <th>Broadview</th>\n",
       "      <th>IL</th>\n",
       "      <th>US</th>\n",
       "      <td>2.692308</td>\n",
       "      <td>37.692308</td>\n",
       "    </tr>\n",
       "    <tr>\n",
       "      <th>Berkeley</th>\n",
       "      <th>IL</th>\n",
       "      <th>US</th>\n",
       "      <td>2.916667</td>\n",
       "      <td>21.833333</td>\n",
       "    </tr>\n",
       "  </tbody>\n",
       "</table>\n",
       "</div>"
      ],
      "text/plain": [
       "                                          Rating  Review Count\n",
       "City                     State Country                        \n",
       "O'Hare                   IL    US       2.000000     33.000000\n",
       "City Of Commerce         CA    US       2.300000     81.800000\n",
       "Southgate                CA    US       2.500000     58.000000\n",
       "Saint Clairsville        CA    US       2.500000      7.000000\n",
       "N.Riverside              IL    US       2.500000     22.000000\n",
       "Los Angeles (Eagle Rock) CA    US       2.500000     60.000000\n",
       "South El Monte           CA    US       2.500000      3.000000\n",
       "Walnut Park              CA    US       2.571429     86.285714\n",
       "Broadview                IL    US       2.692308     37.692308\n",
       "Berkeley                 IL    US       2.916667     21.833333"
      ]
     },
     "execution_count": 789,
     "metadata": {},
     "output_type": "execute_result"
    }
   ],
   "source": [
    "# Cities geting average restaurants Review Count less than 100 & rating less than 2  (Worst record)\n",
    "city_rating_review=cleaned_data[[\"City\",\"State\",\"Country\",\"Rating\",\"Review Count\"]]\n",
    "Avergae_city_rate_rev= city_rating_review.groupby([\"City\",\"State\",\"Country\",]).mean()\n",
    "top_review_cities=Avergae_city_rate_rev[(Avergae_city_rate_rev['Review Count']<100) & (Avergae_city_rate_rev['Rating']>=2)].sort_values('Rating',ascending = True)\n",
    "top_review_cities.head(10)\n"
   ]
  },
  {
   "cell_type": "markdown",
   "metadata": {},
   "source": [
    "## Price by restaurants  Rating "
   ]
  },
  {
   "cell_type": "code",
   "execution_count": null,
   "metadata": {},
   "outputs": [],
   "source": []
  },
  {
   "cell_type": "code",
   "execution_count": null,
   "metadata": {},
   "outputs": [],
   "source": []
  },
  {
   "cell_type": "code",
   "execution_count": null,
   "metadata": {},
   "outputs": [],
   "source": []
  },
  {
   "cell_type": "markdown",
   "metadata": {},
   "source": [
    "## Review count by cities\n"
   ]
  },
  {
   "cell_type": "code",
   "execution_count": null,
   "metadata": {},
   "outputs": [],
   "source": [
    "Country\tPrice\tRating\tReview Count"
   ]
  },
  {
   "cell_type": "markdown",
   "metadata": {},
   "source": [
    "## Rating in each cities"
   ]
  },
  {
   "cell_type": "code",
   "execution_count": null,
   "metadata": {},
   "outputs": [],
   "source": []
  },
  {
   "cell_type": "markdown",
   "metadata": {},
   "source": [
    "## Top restaurants "
   ]
  },
  {
   "cell_type": "code",
   "execution_count": null,
   "metadata": {},
   "outputs": [],
   "source": []
  },
  {
   "cell_type": "markdown",
   "metadata": {},
   "source": [
    "## Bottom resturants"
   ]
  },
  {
   "cell_type": "code",
   "execution_count": null,
   "metadata": {},
   "outputs": [],
   "source": []
  },
  {
   "cell_type": "markdown",
   "metadata": {},
   "source": [
    "# Bar and Pie Charts\n"
   ]
  },
  {
   "cell_type": "code",
   "execution_count": 14,
   "metadata": {},
   "outputs": [],
   "source": [
    "# Generate a bar plot showing the total number of resturants in each cities "
   ]
  },
  {
   "cell_type": "code",
   "execution_count": 15,
   "metadata": {},
   "outputs": [],
   "source": [
    "#  Generate a pie plot showing the distribution resturants 1 to 5"
   ]
  },
  {
   "cell_type": "markdown",
   "metadata": {},
   "source": [
    "## Quartiles, Outliers and Boxplots"
   ]
  },
  {
   "cell_type": "code",
   "execution_count": 16,
   "metadata": {},
   "outputs": [],
   "source": [
    "# Rating of each resturants across the four cities "
   ]
  },
  {
   "cell_type": "markdown",
   "metadata": {},
   "source": [
    "# Scatter plot"
   ]
  },
  {
   "cell_type": "code",
   "execution_count": 17,
   "metadata": {},
   "outputs": [],
   "source": [
    "# Generate a scatter plot of review count versus rating volume for each cities "
   ]
  },
  {
   "cell_type": "markdown",
   "metadata": {},
   "source": [
    "# Correlation and Regression"
   ]
  },
  {
   "cell_type": "code",
   "execution_count": 18,
   "metadata": {},
   "outputs": [],
   "source": [
    "# Correlation between review count and star rating"
   ]
  },
  {
   "cell_type": "code",
   "execution_count": 19,
   "metadata": {},
   "outputs": [],
   "source": [
    "# Linear regression between review count and star rating"
   ]
  },
  {
   "cell_type": "code",
   "execution_count": null,
   "metadata": {},
   "outputs": [],
   "source": []
  }
 ],
 "metadata": {
  "kernelspec": {
   "display_name": "Python 3",
   "language": "python",
   "name": "python3"
  },
  "language_info": {
   "codemirror_mode": {
    "name": "ipython",
    "version": 3
   },
   "file_extension": ".py",
   "mimetype": "text/x-python",
   "name": "python",
   "nbconvert_exporter": "python",
   "pygments_lexer": "ipython3",
   "version": "3.7.6"
  }
 },
 "nbformat": 4,
 "nbformat_minor": 4
}
