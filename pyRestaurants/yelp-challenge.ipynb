{
 "cells": [
  {
   "cell_type": "markdown",
   "metadata": {},
   "source": [
    "# Working on Yelp Restaurants Dataset\n",
    "\n",
    "* To see how the data is genereted by using Yelp API calls, and transformed to csv file. Go to Yelp-api folder, and put your API KEY in to config.py file, select the term \"restaurants\" then select \"search location\", and run the search.py file in your environment.\n"
   ]
  },
  {
   "cell_type": "code",
   "execution_count": 1,
   "metadata": {},
   "outputs": [],
   "source": [
    "# Dependencies and Setup\n",
    "import matplotlib.pyplot as plt\n",
    "import pandas as pd\n",
    "import random\n",
    "import scipy.stats as st\n",
    "import numpy as np\n",
    "import seaborn as sns\n",
    "from scipy.stats import linregress\n",
    "from matplotlib.pyplot import figure\n",
    "from sklearn import datasets\n",
    "import matplotlib.colors as mcolors\n",
    "import warnings\n",
    "warnings.simplefilter(action='ignore')"
   ]
  },
  {
   "cell_type": "code",
   "execution_count": 2,
   "metadata": {},
   "outputs": [],
   "source": [
    "# File to Load \n",
    "yelp_data_to_load = \"data/PyRestaurants_data.csv\""
   ]
  },
  {
   "cell_type": "code",
   "execution_count": 3,
   "metadata": {},
   "outputs": [
    {
     "data": {
      "text/html": [
       "<div>\n",
       "<style scoped>\n",
       "    .dataframe tbody tr th:only-of-type {\n",
       "        vertical-align: middle;\n",
       "    }\n",
       "\n",
       "    .dataframe tbody tr th {\n",
       "        vertical-align: top;\n",
       "    }\n",
       "\n",
       "    .dataframe thead th {\n",
       "        text-align: right;\n",
       "    }\n",
       "</style>\n",
       "<table border=\"1\" class=\"dataframe\">\n",
       "  <thead>\n",
       "    <tr style=\"text-align: right;\">\n",
       "      <th></th>\n",
       "      <th>id</th>\n",
       "      <th>name</th>\n",
       "      <th>phone</th>\n",
       "      <th>location.address1</th>\n",
       "      <th>location.address2</th>\n",
       "      <th>location.city</th>\n",
       "      <th>location.state</th>\n",
       "      <th>location.country</th>\n",
       "      <th>price</th>\n",
       "      <th>rating</th>\n",
       "      <th>review_count</th>\n",
       "      <th>url</th>\n",
       "    </tr>\n",
       "  </thead>\n",
       "  <tbody>\n",
       "    <tr>\n",
       "      <th>0</th>\n",
       "      <td>6i7KnRylm4bhPIApDFSVCg</td>\n",
       "      <td>Dave's Hot Chicken</td>\n",
       "      <td>1.323537e+10</td>\n",
       "      <td>970 N Western Ave</td>\n",
       "      <td>NaN</td>\n",
       "      <td>Los Angeles</td>\n",
       "      <td>CA</td>\n",
       "      <td>US</td>\n",
       "      <td>$$</td>\n",
       "      <td>4.5</td>\n",
       "      <td>3132</td>\n",
       "      <td>https://www.yelp.com/biz/daves-hot-chicken-los...</td>\n",
       "    </tr>\n",
       "    <tr>\n",
       "      <th>1</th>\n",
       "      <td>qAAoilHU25Qr45FOQlA19g</td>\n",
       "      <td>Kang Ho-dong Baekjeong</td>\n",
       "      <td>1.213385e+10</td>\n",
       "      <td>3465 W 6th St</td>\n",
       "      <td>Ste 20</td>\n",
       "      <td>Los Angeles</td>\n",
       "      <td>CA</td>\n",
       "      <td>US</td>\n",
       "      <td>$$</td>\n",
       "      <td>4.5</td>\n",
       "      <td>4266</td>\n",
       "      <td>https://www.yelp.com/biz/kang-ho-dong-baekjeon...</td>\n",
       "    </tr>\n",
       "    <tr>\n",
       "      <th>2</th>\n",
       "      <td>AIhWsp8yNfKZfaX9d9Yajg</td>\n",
       "      <td>Pasta Sisters</td>\n",
       "      <td>1.323871e+10</td>\n",
       "      <td>3343 W Pico Blvd</td>\n",
       "      <td>NaN</td>\n",
       "      <td>Los Angeles</td>\n",
       "      <td>CA</td>\n",
       "      <td>US</td>\n",
       "      <td>$$</td>\n",
       "      <td>4.5</td>\n",
       "      <td>1479</td>\n",
       "      <td>https://www.yelp.com/biz/pasta-sisters-los-ang...</td>\n",
       "    </tr>\n",
       "    <tr>\n",
       "      <th>3</th>\n",
       "      <td>vUe6SGmCpWRbVdmj1ujMMQ</td>\n",
       "      <td>Yeon Uh</td>\n",
       "      <td>1.213568e+10</td>\n",
       "      <td>621 S Western Ave</td>\n",
       "      <td>Ste 208 B</td>\n",
       "      <td>Los Angeles</td>\n",
       "      <td>CA</td>\n",
       "      <td>US</td>\n",
       "      <td>NaN</td>\n",
       "      <td>5.0</td>\n",
       "      <td>4</td>\n",
       "      <td>https://www.yelp.com/biz/yeon-uh-los-angeles-2...</td>\n",
       "    </tr>\n",
       "    <tr>\n",
       "      <th>4</th>\n",
       "      <td>H9ZlIqEp930ZRniH6VRp8w</td>\n",
       "      <td>Papa Cristo's</td>\n",
       "      <td>1.323737e+10</td>\n",
       "      <td>2771 W Pico Blvd</td>\n",
       "      <td>NaN</td>\n",
       "      <td>Los Angeles</td>\n",
       "      <td>CA</td>\n",
       "      <td>US</td>\n",
       "      <td>$$</td>\n",
       "      <td>4.5</td>\n",
       "      <td>1911</td>\n",
       "      <td>https://www.yelp.com/biz/papa-cristos-los-ange...</td>\n",
       "    </tr>\n",
       "  </tbody>\n",
       "</table>\n",
       "</div>"
      ],
      "text/plain": [
       "                       id                    name         phone  \\\n",
       "0  6i7KnRylm4bhPIApDFSVCg      Dave's Hot Chicken  1.323537e+10   \n",
       "1  qAAoilHU25Qr45FOQlA19g  Kang Ho-dong Baekjeong  1.213385e+10   \n",
       "2  AIhWsp8yNfKZfaX9d9Yajg           Pasta Sisters  1.323871e+10   \n",
       "3  vUe6SGmCpWRbVdmj1ujMMQ                 Yeon Uh  1.213568e+10   \n",
       "4  H9ZlIqEp930ZRniH6VRp8w           Papa Cristo's  1.323737e+10   \n",
       "\n",
       "   location.address1 location.address2 location.city location.state  \\\n",
       "0  970 N Western Ave               NaN   Los Angeles             CA   \n",
       "1      3465 W 6th St            Ste 20   Los Angeles             CA   \n",
       "2   3343 W Pico Blvd               NaN   Los Angeles             CA   \n",
       "3  621 S Western Ave         Ste 208 B   Los Angeles             CA   \n",
       "4   2771 W Pico Blvd               NaN   Los Angeles             CA   \n",
       "\n",
       "  location.country price  rating  review_count  \\\n",
       "0               US    $$     4.5          3132   \n",
       "1               US    $$     4.5          4266   \n",
       "2               US    $$     4.5          1479   \n",
       "3               US   NaN     5.0             4   \n",
       "4               US    $$     4.5          1911   \n",
       "\n",
       "                                                 url  \n",
       "0  https://www.yelp.com/biz/daves-hot-chicken-los...  \n",
       "1  https://www.yelp.com/biz/kang-ho-dong-baekjeon...  \n",
       "2  https://www.yelp.com/biz/pasta-sisters-los-ang...  \n",
       "3  https://www.yelp.com/biz/yeon-uh-los-angeles-2...  \n",
       "4  https://www.yelp.com/biz/papa-cristos-los-ange...  "
      ]
     },
     "execution_count": 3,
     "metadata": {},
     "output_type": "execute_result"
    }
   ],
   "source": [
    "# Read Data File and store into Pandas DataFrames\n",
    "Restaurants_df = pd.read_csv(yelp_data_to_load)\n",
    "Restaurants_df.head()"
   ]
  },
  {
   "cell_type": "markdown",
   "metadata": {},
   "source": [
    "## Cleaning Data\n",
    "* Rename column headings\n",
    "* Delet duplicate rows if they are avaliable \n",
    "* Drop null values"
   ]
  },
  {
   "cell_type": "code",
   "execution_count": 4,
   "metadata": {},
   "outputs": [
    {
     "data": {
      "text/plain": [
       "Index(['id', 'name', 'phone', 'location.address1', 'location.address2',\n",
       "       'location.city', 'location.state', 'location.country', 'price',\n",
       "       'rating', 'review_count', 'url'],\n",
       "      dtype='object')"
      ]
     },
     "execution_count": 4,
     "metadata": {},
     "output_type": "execute_result"
    }
   ],
   "source": [
    "Restaurants_df.columns"
   ]
  },
  {
   "cell_type": "code",
   "execution_count": 5,
   "metadata": {},
   "outputs": [
    {
     "data": {
      "text/html": [
       "<div>\n",
       "<style scoped>\n",
       "    .dataframe tbody tr th:only-of-type {\n",
       "        vertical-align: middle;\n",
       "    }\n",
       "\n",
       "    .dataframe tbody tr th {\n",
       "        vertical-align: top;\n",
       "    }\n",
       "\n",
       "    .dataframe thead th {\n",
       "        text-align: right;\n",
       "    }\n",
       "</style>\n",
       "<table border=\"1\" class=\"dataframe\">\n",
       "  <thead>\n",
       "    <tr style=\"text-align: right;\">\n",
       "      <th></th>\n",
       "      <th>Restaurant ID</th>\n",
       "      <th>Restaurant Name</th>\n",
       "      <th>Phone Number</th>\n",
       "      <th>Adress</th>\n",
       "      <th>Address Two</th>\n",
       "      <th>City</th>\n",
       "      <th>State</th>\n",
       "      <th>Country</th>\n",
       "      <th>Price</th>\n",
       "      <th>Rating</th>\n",
       "      <th>Review Count</th>\n",
       "      <th>Url</th>\n",
       "    </tr>\n",
       "  </thead>\n",
       "  <tbody>\n",
       "    <tr>\n",
       "      <th>0</th>\n",
       "      <td>6i7KnRylm4bhPIApDFSVCg</td>\n",
       "      <td>Dave's Hot Chicken</td>\n",
       "      <td>1.323537e+10</td>\n",
       "      <td>970 N Western Ave</td>\n",
       "      <td>NaN</td>\n",
       "      <td>Los Angeles</td>\n",
       "      <td>CA</td>\n",
       "      <td>US</td>\n",
       "      <td>$$</td>\n",
       "      <td>4.5</td>\n",
       "      <td>3132</td>\n",
       "      <td>https://www.yelp.com/biz/daves-hot-chicken-los...</td>\n",
       "    </tr>\n",
       "    <tr>\n",
       "      <th>1</th>\n",
       "      <td>qAAoilHU25Qr45FOQlA19g</td>\n",
       "      <td>Kang Ho-dong Baekjeong</td>\n",
       "      <td>1.213385e+10</td>\n",
       "      <td>3465 W 6th St</td>\n",
       "      <td>Ste 20</td>\n",
       "      <td>Los Angeles</td>\n",
       "      <td>CA</td>\n",
       "      <td>US</td>\n",
       "      <td>$$</td>\n",
       "      <td>4.5</td>\n",
       "      <td>4266</td>\n",
       "      <td>https://www.yelp.com/biz/kang-ho-dong-baekjeon...</td>\n",
       "    </tr>\n",
       "    <tr>\n",
       "      <th>2</th>\n",
       "      <td>AIhWsp8yNfKZfaX9d9Yajg</td>\n",
       "      <td>Pasta Sisters</td>\n",
       "      <td>1.323871e+10</td>\n",
       "      <td>3343 W Pico Blvd</td>\n",
       "      <td>NaN</td>\n",
       "      <td>Los Angeles</td>\n",
       "      <td>CA</td>\n",
       "      <td>US</td>\n",
       "      <td>$$</td>\n",
       "      <td>4.5</td>\n",
       "      <td>1479</td>\n",
       "      <td>https://www.yelp.com/biz/pasta-sisters-los-ang...</td>\n",
       "    </tr>\n",
       "    <tr>\n",
       "      <th>3</th>\n",
       "      <td>vUe6SGmCpWRbVdmj1ujMMQ</td>\n",
       "      <td>Yeon Uh</td>\n",
       "      <td>1.213568e+10</td>\n",
       "      <td>621 S Western Ave</td>\n",
       "      <td>Ste 208 B</td>\n",
       "      <td>Los Angeles</td>\n",
       "      <td>CA</td>\n",
       "      <td>US</td>\n",
       "      <td>NaN</td>\n",
       "      <td>5.0</td>\n",
       "      <td>4</td>\n",
       "      <td>https://www.yelp.com/biz/yeon-uh-los-angeles-2...</td>\n",
       "    </tr>\n",
       "    <tr>\n",
       "      <th>4</th>\n",
       "      <td>H9ZlIqEp930ZRniH6VRp8w</td>\n",
       "      <td>Papa Cristo's</td>\n",
       "      <td>1.323737e+10</td>\n",
       "      <td>2771 W Pico Blvd</td>\n",
       "      <td>NaN</td>\n",
       "      <td>Los Angeles</td>\n",
       "      <td>CA</td>\n",
       "      <td>US</td>\n",
       "      <td>$$</td>\n",
       "      <td>4.5</td>\n",
       "      <td>1911</td>\n",
       "      <td>https://www.yelp.com/biz/papa-cristos-los-ange...</td>\n",
       "    </tr>\n",
       "  </tbody>\n",
       "</table>\n",
       "</div>"
      ],
      "text/plain": [
       "            Restaurant ID         Restaurant Name  Phone Number  \\\n",
       "0  6i7KnRylm4bhPIApDFSVCg      Dave's Hot Chicken  1.323537e+10   \n",
       "1  qAAoilHU25Qr45FOQlA19g  Kang Ho-dong Baekjeong  1.213385e+10   \n",
       "2  AIhWsp8yNfKZfaX9d9Yajg           Pasta Sisters  1.323871e+10   \n",
       "3  vUe6SGmCpWRbVdmj1ujMMQ                 Yeon Uh  1.213568e+10   \n",
       "4  H9ZlIqEp930ZRniH6VRp8w           Papa Cristo's  1.323737e+10   \n",
       "\n",
       "              Adress Address Two         City State Country Price  Rating  \\\n",
       "0  970 N Western Ave         NaN  Los Angeles    CA      US    $$     4.5   \n",
       "1      3465 W 6th St      Ste 20  Los Angeles    CA      US    $$     4.5   \n",
       "2   3343 W Pico Blvd         NaN  Los Angeles    CA      US    $$     4.5   \n",
       "3  621 S Western Ave   Ste 208 B  Los Angeles    CA      US   NaN     5.0   \n",
       "4   2771 W Pico Blvd         NaN  Los Angeles    CA      US    $$     4.5   \n",
       "\n",
       "   Review Count                                                Url  \n",
       "0          3132  https://www.yelp.com/biz/daves-hot-chicken-los...  \n",
       "1          4266  https://www.yelp.com/biz/kang-ho-dong-baekjeon...  \n",
       "2          1479  https://www.yelp.com/biz/pasta-sisters-los-ang...  \n",
       "3             4  https://www.yelp.com/biz/yeon-uh-los-angeles-2...  \n",
       "4          1911  https://www.yelp.com/biz/papa-cristos-los-ange...  "
      ]
     },
     "execution_count": 5,
     "metadata": {},
     "output_type": "execute_result"
    }
   ],
   "source": [
    "# Using .rename(columns={}) in order to rename columns\n",
    "renamed_df = Restaurants_df.rename(columns={\"id\":\"Restaurant ID\", \"name\":\"Restaurant Name\", \"phone\":\"Phone Number\",\"location.address1\":\"Adress\",\n",
    "                                          \"location.address2\":\"Address Two\",\"location.city\":\"City\",\"location.state\":\"State\",\"location.country\":\"Country\",\"location.state\":\"State\",\n",
    "                                           \"price\":\"Price\",\"rating\":\"Rating\",\"review_count\":\"Review Count\",\"url\":\"Url\"})\n",
    "renamed_df.head()\n",
    "\n"
   ]
  },
  {
   "cell_type": "code",
   "execution_count": 6,
   "metadata": {},
   "outputs": [
    {
     "data": {
      "text/html": [
       "<div>\n",
       "<style scoped>\n",
       "    .dataframe tbody tr th:only-of-type {\n",
       "        vertical-align: middle;\n",
       "    }\n",
       "\n",
       "    .dataframe tbody tr th {\n",
       "        vertical-align: top;\n",
       "    }\n",
       "\n",
       "    .dataframe thead th {\n",
       "        text-align: right;\n",
       "    }\n",
       "</style>\n",
       "<table border=\"1\" class=\"dataframe\">\n",
       "  <thead>\n",
       "    <tr style=\"text-align: right;\">\n",
       "      <th></th>\n",
       "      <th>Restaurant ID</th>\n",
       "      <th>Restaurant Name</th>\n",
       "      <th>Phone Number</th>\n",
       "      <th>Adress</th>\n",
       "      <th>Address Two</th>\n",
       "      <th>City</th>\n",
       "      <th>State</th>\n",
       "      <th>Country</th>\n",
       "      <th>Price</th>\n",
       "      <th>Rating</th>\n",
       "      <th>Review Count</th>\n",
       "      <th>Url</th>\n",
       "    </tr>\n",
       "  </thead>\n",
       "  <tbody>\n",
       "    <tr>\n",
       "      <th>0</th>\n",
       "      <td>6i7KnRylm4bhPIApDFSVCg</td>\n",
       "      <td>Dave's Hot Chicken</td>\n",
       "      <td>1.323537e+10</td>\n",
       "      <td>970 N Western Ave</td>\n",
       "      <td>NaN</td>\n",
       "      <td>Los Angeles</td>\n",
       "      <td>CA</td>\n",
       "      <td>US</td>\n",
       "      <td>$$</td>\n",
       "      <td>4.5</td>\n",
       "      <td>3132</td>\n",
       "      <td>https://www.yelp.com/biz/daves-hot-chicken-los...</td>\n",
       "    </tr>\n",
       "    <tr>\n",
       "      <th>1</th>\n",
       "      <td>qAAoilHU25Qr45FOQlA19g</td>\n",
       "      <td>Kang Ho-dong Baekjeong</td>\n",
       "      <td>1.213385e+10</td>\n",
       "      <td>3465 W 6th St</td>\n",
       "      <td>Ste 20</td>\n",
       "      <td>Los Angeles</td>\n",
       "      <td>CA</td>\n",
       "      <td>US</td>\n",
       "      <td>$$</td>\n",
       "      <td>4.5</td>\n",
       "      <td>4266</td>\n",
       "      <td>https://www.yelp.com/biz/kang-ho-dong-baekjeon...</td>\n",
       "    </tr>\n",
       "    <tr>\n",
       "      <th>2</th>\n",
       "      <td>AIhWsp8yNfKZfaX9d9Yajg</td>\n",
       "      <td>Pasta Sisters</td>\n",
       "      <td>1.323871e+10</td>\n",
       "      <td>3343 W Pico Blvd</td>\n",
       "      <td>NaN</td>\n",
       "      <td>Los Angeles</td>\n",
       "      <td>CA</td>\n",
       "      <td>US</td>\n",
       "      <td>$$</td>\n",
       "      <td>4.5</td>\n",
       "      <td>1479</td>\n",
       "      <td>https://www.yelp.com/biz/pasta-sisters-los-ang...</td>\n",
       "    </tr>\n",
       "    <tr>\n",
       "      <th>4</th>\n",
       "      <td>H9ZlIqEp930ZRniH6VRp8w</td>\n",
       "      <td>Papa Cristo's</td>\n",
       "      <td>1.323737e+10</td>\n",
       "      <td>2771 W Pico Blvd</td>\n",
       "      <td>NaN</td>\n",
       "      <td>Los Angeles</td>\n",
       "      <td>CA</td>\n",
       "      <td>US</td>\n",
       "      <td>$$</td>\n",
       "      <td>4.5</td>\n",
       "      <td>1911</td>\n",
       "      <td>https://www.yelp.com/biz/papa-cristos-los-ange...</td>\n",
       "    </tr>\n",
       "    <tr>\n",
       "      <th>5</th>\n",
       "      <td>BEItepse0gBSfkJ4sb_k-g</td>\n",
       "      <td>Hae Ha Heng Thai Bistro</td>\n",
       "      <td>1.213388e+10</td>\n",
       "      <td>301 S Western Ave</td>\n",
       "      <td>Ste 209</td>\n",
       "      <td>Los Angeles</td>\n",
       "      <td>CA</td>\n",
       "      <td>US</td>\n",
       "      <td>$$</td>\n",
       "      <td>4.5</td>\n",
       "      <td>1183</td>\n",
       "      <td>https://www.yelp.com/biz/hae-ha-heng-thai-bist...</td>\n",
       "    </tr>\n",
       "  </tbody>\n",
       "</table>\n",
       "</div>"
      ],
      "text/plain": [
       "            Restaurant ID          Restaurant Name  Phone Number  \\\n",
       "0  6i7KnRylm4bhPIApDFSVCg       Dave's Hot Chicken  1.323537e+10   \n",
       "1  qAAoilHU25Qr45FOQlA19g   Kang Ho-dong Baekjeong  1.213385e+10   \n",
       "2  AIhWsp8yNfKZfaX9d9Yajg            Pasta Sisters  1.323871e+10   \n",
       "4  H9ZlIqEp930ZRniH6VRp8w            Papa Cristo's  1.323737e+10   \n",
       "5  BEItepse0gBSfkJ4sb_k-g  Hae Ha Heng Thai Bistro  1.213388e+10   \n",
       "\n",
       "              Adress Address Two         City State Country Price  Rating  \\\n",
       "0  970 N Western Ave         NaN  Los Angeles    CA      US    $$     4.5   \n",
       "1      3465 W 6th St      Ste 20  Los Angeles    CA      US    $$     4.5   \n",
       "2   3343 W Pico Blvd         NaN  Los Angeles    CA      US    $$     4.5   \n",
       "4   2771 W Pico Blvd         NaN  Los Angeles    CA      US    $$     4.5   \n",
       "5  301 S Western Ave     Ste 209  Los Angeles    CA      US    $$     4.5   \n",
       "\n",
       "   Review Count                                                Url  \n",
       "0          3132  https://www.yelp.com/biz/daves-hot-chicken-los...  \n",
       "1          4266  https://www.yelp.com/biz/kang-ho-dong-baekjeon...  \n",
       "2          1479  https://www.yelp.com/biz/pasta-sisters-los-ang...  \n",
       "4          1911  https://www.yelp.com/biz/papa-cristos-los-ange...  \n",
       "5          1183  https://www.yelp.com/biz/hae-ha-heng-thai-bist...  "
      ]
     },
     "execution_count": 6,
     "metadata": {},
     "output_type": "execute_result"
    }
   ],
   "source": [
    "# Remove duplicate values\n",
    "remove_duplicates=renamed_df.drop_duplicates()\n",
    "\n",
    "# Drop null values from Restaurant Name, City,Rating , Review Count,Price coloumns  and store cleaned data\n",
    "\n",
    "dronull_df=remove_duplicates.dropna(subset=['Restaurant Name','City','Rating','Review Count','Price'])\n",
    "dronull_df.head()"
   ]
  },
  {
   "cell_type": "code",
   "execution_count": 7,
   "metadata": {},
   "outputs": [
    {
     "data": {
      "text/html": [
       "<div>\n",
       "<style scoped>\n",
       "    .dataframe tbody tr th:only-of-type {\n",
       "        vertical-align: middle;\n",
       "    }\n",
       "\n",
       "    .dataframe tbody tr th {\n",
       "        vertical-align: top;\n",
       "    }\n",
       "\n",
       "    .dataframe thead th {\n",
       "        text-align: right;\n",
       "    }\n",
       "</style>\n",
       "<table border=\"1\" class=\"dataframe\">\n",
       "  <thead>\n",
       "    <tr style=\"text-align: right;\">\n",
       "      <th></th>\n",
       "      <th>Restaurant ID</th>\n",
       "      <th>Restaurant Name</th>\n",
       "      <th>Adress</th>\n",
       "      <th>City</th>\n",
       "      <th>State</th>\n",
       "      <th>Country</th>\n",
       "      <th>Price</th>\n",
       "      <th>Rating</th>\n",
       "      <th>Review Count</th>\n",
       "    </tr>\n",
       "  </thead>\n",
       "  <tbody>\n",
       "    <tr>\n",
       "      <th>0</th>\n",
       "      <td>6i7KnRylm4bhPIApDFSVCg</td>\n",
       "      <td>Dave's Hot Chicken</td>\n",
       "      <td>970 N Western Ave</td>\n",
       "      <td>Los Angeles</td>\n",
       "      <td>CA</td>\n",
       "      <td>US</td>\n",
       "      <td>$$</td>\n",
       "      <td>4.5</td>\n",
       "      <td>3132</td>\n",
       "    </tr>\n",
       "    <tr>\n",
       "      <th>1</th>\n",
       "      <td>qAAoilHU25Qr45FOQlA19g</td>\n",
       "      <td>Kang Ho-dong Baekjeong</td>\n",
       "      <td>3465 W 6th St</td>\n",
       "      <td>Los Angeles</td>\n",
       "      <td>CA</td>\n",
       "      <td>US</td>\n",
       "      <td>$$</td>\n",
       "      <td>4.5</td>\n",
       "      <td>4266</td>\n",
       "    </tr>\n",
       "    <tr>\n",
       "      <th>2</th>\n",
       "      <td>AIhWsp8yNfKZfaX9d9Yajg</td>\n",
       "      <td>Pasta Sisters</td>\n",
       "      <td>3343 W Pico Blvd</td>\n",
       "      <td>Los Angeles</td>\n",
       "      <td>CA</td>\n",
       "      <td>US</td>\n",
       "      <td>$$</td>\n",
       "      <td>4.5</td>\n",
       "      <td>1479</td>\n",
       "    </tr>\n",
       "    <tr>\n",
       "      <th>4</th>\n",
       "      <td>H9ZlIqEp930ZRniH6VRp8w</td>\n",
       "      <td>Papa Cristo's</td>\n",
       "      <td>2771 W Pico Blvd</td>\n",
       "      <td>Los Angeles</td>\n",
       "      <td>CA</td>\n",
       "      <td>US</td>\n",
       "      <td>$$</td>\n",
       "      <td>4.5</td>\n",
       "      <td>1911</td>\n",
       "    </tr>\n",
       "    <tr>\n",
       "      <th>5</th>\n",
       "      <td>BEItepse0gBSfkJ4sb_k-g</td>\n",
       "      <td>Hae Ha Heng Thai Bistro</td>\n",
       "      <td>301 S Western Ave</td>\n",
       "      <td>Los Angeles</td>\n",
       "      <td>CA</td>\n",
       "      <td>US</td>\n",
       "      <td>$$</td>\n",
       "      <td>4.5</td>\n",
       "      <td>1183</td>\n",
       "    </tr>\n",
       "    <tr>\n",
       "      <th>...</th>\n",
       "      <td>...</td>\n",
       "      <td>...</td>\n",
       "      <td>...</td>\n",
       "      <td>...</td>\n",
       "      <td>...</td>\n",
       "      <td>...</td>\n",
       "      <td>...</td>\n",
       "      <td>...</td>\n",
       "      <td>...</td>\n",
       "    </tr>\n",
       "    <tr>\n",
       "      <th>4262</th>\n",
       "      <td>-0T0jfPnuBRdpNTXpOQZcA</td>\n",
       "      <td>Tim Hortons</td>\n",
       "      <td>9970 Highway 48</td>\n",
       "      <td>Markham</td>\n",
       "      <td>ON</td>\n",
       "      <td>CA</td>\n",
       "      <td>$</td>\n",
       "      <td>1.5</td>\n",
       "      <td>7</td>\n",
       "    </tr>\n",
       "    <tr>\n",
       "      <th>4265</th>\n",
       "      <td>7H1tFPOWp_iO4LVvQ1w1Wg</td>\n",
       "      <td>Tim Hortons</td>\n",
       "      <td>550 Bur Oak Avenue</td>\n",
       "      <td>Markham</td>\n",
       "      <td>ON</td>\n",
       "      <td>CA</td>\n",
       "      <td>$</td>\n",
       "      <td>3.5</td>\n",
       "      <td>4</td>\n",
       "    </tr>\n",
       "    <tr>\n",
       "      <th>4266</th>\n",
       "      <td>3Wk0eWZKyw7oSFwIUhAf2g</td>\n",
       "      <td>A&amp;W</td>\n",
       "      <td>5000 Highway 7</td>\n",
       "      <td>Markham</td>\n",
       "      <td>ON</td>\n",
       "      <td>CA</td>\n",
       "      <td>$</td>\n",
       "      <td>2.5</td>\n",
       "      <td>9</td>\n",
       "    </tr>\n",
       "    <tr>\n",
       "      <th>4268</th>\n",
       "      <td>Wea4rL67vSpL5-mU3wLIdg</td>\n",
       "      <td>Mr Sub</td>\n",
       "      <td>5990 Av 16th</td>\n",
       "      <td>Markham</td>\n",
       "      <td>ON</td>\n",
       "      <td>CA</td>\n",
       "      <td>$$$</td>\n",
       "      <td>1.0</td>\n",
       "      <td>1</td>\n",
       "    </tr>\n",
       "    <tr>\n",
       "      <th>4269</th>\n",
       "      <td>cb75sDsNsaB3e66vgv-Udg</td>\n",
       "      <td>McDonald's</td>\n",
       "      <td>5000 Highway 7</td>\n",
       "      <td>Markham</td>\n",
       "      <td>ON</td>\n",
       "      <td>CA</td>\n",
       "      <td>$</td>\n",
       "      <td>1.5</td>\n",
       "      <td>8</td>\n",
       "    </tr>\n",
       "  </tbody>\n",
       "</table>\n",
       "<p>3518 rows × 9 columns</p>\n",
       "</div>"
      ],
      "text/plain": [
       "               Restaurant ID          Restaurant Name              Adress  \\\n",
       "0     6i7KnRylm4bhPIApDFSVCg       Dave's Hot Chicken   970 N Western Ave   \n",
       "1     qAAoilHU25Qr45FOQlA19g   Kang Ho-dong Baekjeong       3465 W 6th St   \n",
       "2     AIhWsp8yNfKZfaX9d9Yajg            Pasta Sisters    3343 W Pico Blvd   \n",
       "4     H9ZlIqEp930ZRniH6VRp8w            Papa Cristo's    2771 W Pico Blvd   \n",
       "5     BEItepse0gBSfkJ4sb_k-g  Hae Ha Heng Thai Bistro   301 S Western Ave   \n",
       "...                      ...                      ...                 ...   \n",
       "4262  -0T0jfPnuBRdpNTXpOQZcA              Tim Hortons     9970 Highway 48   \n",
       "4265  7H1tFPOWp_iO4LVvQ1w1Wg              Tim Hortons  550 Bur Oak Avenue   \n",
       "4266  3Wk0eWZKyw7oSFwIUhAf2g                      A&W      5000 Highway 7   \n",
       "4268  Wea4rL67vSpL5-mU3wLIdg                   Mr Sub        5990 Av 16th   \n",
       "4269  cb75sDsNsaB3e66vgv-Udg               McDonald's      5000 Highway 7   \n",
       "\n",
       "             City State Country Price  Rating  Review Count  \n",
       "0     Los Angeles    CA      US    $$     4.5          3132  \n",
       "1     Los Angeles    CA      US    $$     4.5          4266  \n",
       "2     Los Angeles    CA      US    $$     4.5          1479  \n",
       "4     Los Angeles    CA      US    $$     4.5          1911  \n",
       "5     Los Angeles    CA      US    $$     4.5          1183  \n",
       "...           ...   ...     ...   ...     ...           ...  \n",
       "4262      Markham    ON      CA     $     1.5             7  \n",
       "4265      Markham    ON      CA     $     3.5             4  \n",
       "4266      Markham    ON      CA     $     2.5             9  \n",
       "4268      Markham    ON      CA   $$$     1.0             1  \n",
       "4269      Markham    ON      CA     $     1.5             8  \n",
       "\n",
       "[3518 rows x 9 columns]"
      ]
     },
     "execution_count": 7,
     "metadata": {},
     "output_type": "execute_result"
    }
   ],
   "source": [
    "# Drop Coloumns irrelevant for our analysis \n",
    "to_drop =[\"Address Two\",\"Url\",\"Phone Number\"]\n",
    "\n",
    "cleaned_df=dronull_df.drop(columns=to_drop)\n",
    "cleaned_df"
   ]
  },
  {
   "cell_type": "markdown",
   "metadata": {},
   "source": [
    "## Yelp Restaurants data summary\n",
    "\n",
    "* Summary statistics\n",
    "\n",
    "* Total number of Restaurants\n",
    "\n",
    "* Total number of cities\n",
    "\n",
    "* The average review_count \n",
    "\n",
    "* The avarage rating \n",
    "\n",
    "* Percentage of Restaurants getting rating greater than 4\n",
    "\n",
    "* Percentage of Restaurants getting review count greater than 1142\n",
    "\n",
    "* Percentage of Restaurants getting rating less than 2\n",
    "\n",
    "* Percentage of Restaurants getting review count less than 500\n",
    "\n",
    "* some plot here "
   ]
  },
  {
   "cell_type": "code",
   "execution_count": 8,
   "metadata": {},
   "outputs": [
    {
     "data": {
      "text/html": [
       "<div>\n",
       "<style scoped>\n",
       "    .dataframe tbody tr th:only-of-type {\n",
       "        vertical-align: middle;\n",
       "    }\n",
       "\n",
       "    .dataframe tbody tr th {\n",
       "        vertical-align: top;\n",
       "    }\n",
       "\n",
       "    .dataframe thead th {\n",
       "        text-align: right;\n",
       "    }\n",
       "</style>\n",
       "<table border=\"1\" class=\"dataframe\">\n",
       "  <thead>\n",
       "    <tr style=\"text-align: right;\">\n",
       "      <th></th>\n",
       "      <th>Rating</th>\n",
       "      <th>Review Count</th>\n",
       "    </tr>\n",
       "  </thead>\n",
       "  <tbody>\n",
       "    <tr>\n",
       "      <th>count</th>\n",
       "      <td>3518.000000</td>\n",
       "      <td>3518.000000</td>\n",
       "    </tr>\n",
       "    <tr>\n",
       "      <th>mean</th>\n",
       "      <td>3.940875</td>\n",
       "      <td>457.220296</td>\n",
       "    </tr>\n",
       "    <tr>\n",
       "      <th>std</th>\n",
       "      <td>0.468423</td>\n",
       "      <td>710.508857</td>\n",
       "    </tr>\n",
       "    <tr>\n",
       "      <th>min</th>\n",
       "      <td>1.000000</td>\n",
       "      <td>1.000000</td>\n",
       "    </tr>\n",
       "    <tr>\n",
       "      <th>25%</th>\n",
       "      <td>3.500000</td>\n",
       "      <td>103.000000</td>\n",
       "    </tr>\n",
       "    <tr>\n",
       "      <th>50%</th>\n",
       "      <td>4.000000</td>\n",
       "      <td>242.000000</td>\n",
       "    </tr>\n",
       "    <tr>\n",
       "      <th>75%</th>\n",
       "      <td>4.000000</td>\n",
       "      <td>526.500000</td>\n",
       "    </tr>\n",
       "    <tr>\n",
       "      <th>max</th>\n",
       "      <td>5.000000</td>\n",
       "      <td>12277.000000</td>\n",
       "    </tr>\n",
       "  </tbody>\n",
       "</table>\n",
       "</div>"
      ],
      "text/plain": [
       "            Rating  Review Count\n",
       "count  3518.000000   3518.000000\n",
       "mean      3.940875    457.220296\n",
       "std       0.468423    710.508857\n",
       "min       1.000000      1.000000\n",
       "25%       3.500000    103.000000\n",
       "50%       4.000000    242.000000\n",
       "75%       4.000000    526.500000\n",
       "max       5.000000  12277.000000"
      ]
     },
     "execution_count": 8,
     "metadata": {},
     "output_type": "execute_result"
    }
   ],
   "source": [
    "# Summary statistics\n",
    "cleaned_df.describe()"
   ]
  },
  {
   "cell_type": "code",
   "execution_count": 9,
   "metadata": {},
   "outputs": [
    {
     "data": {
      "text/plain": [
       "3518"
      ]
     },
     "execution_count": 9,
     "metadata": {},
     "output_type": "execute_result"
    }
   ],
   "source": [
    "# Total Number of Restaurants \n",
    "Restaurant_total_number=cleaned_df[\"Restaurant Name\"].count()\n",
    "Restaurant_total_number"
   ]
  },
  {
   "cell_type": "code",
   "execution_count": 10,
   "metadata": {},
   "outputs": [
    {
     "data": {
      "text/plain": [
       "21"
      ]
     },
     "execution_count": 10,
     "metadata": {},
     "output_type": "execute_result"
    }
   ],
   "source": [
    "# Total Number of cities \n",
    "total_cities=len(cleaned_df[\"City\"].unique())\n",
    "total_cities"
   ]
  },
  {
   "cell_type": "code",
   "execution_count": 11,
   "metadata": {},
   "outputs": [
    {
     "data": {
      "text/plain": [
       "3.9408754974417284"
      ]
     },
     "execution_count": 11,
     "metadata": {},
     "output_type": "execute_result"
    }
   ],
   "source": [
    "# The average rating\n",
    "average_rating= cleaned_df[\"Rating\"].mean()\n",
    "average_rating"
   ]
  },
  {
   "cell_type": "code",
   "execution_count": 12,
   "metadata": {},
   "outputs": [
    {
     "data": {
      "text/plain": [
       "457.22029562251277"
      ]
     },
     "execution_count": 12,
     "metadata": {},
     "output_type": "execute_result"
    }
   ],
   "source": [
    "# The average review_count\n",
    "average_review_count= cleaned_df[\"Review Count\"].mean()\n",
    "average_review_count"
   ]
  },
  {
   "cell_type": "code",
   "execution_count": 13,
   "metadata": {},
   "outputs": [
    {
     "data": {
      "text/plain": [
       "23.2802728823195"
      ]
     },
     "execution_count": 13,
     "metadata": {},
     "output_type": "execute_result"
    }
   ],
   "source": [
    "# The percentage of Restaurants geting rating greater than 4\n",
    "\n",
    "restaurant_top_rating = cleaned_df.loc[cleaned_df[\"Rating\"] > 4]\n",
    "\n",
    "number_restaurant_top_rating = restaurant_top_rating[\"Restaurant Name\"].count()\n",
    "\n",
    "percent_restaurant_top_rating = (number_restaurant_top_rating/Restaurant_total_number) * 100\n",
    "\n",
    "percent_restaurant_top_rating"
   ]
  },
  {
   "cell_type": "code",
   "execution_count": 14,
   "metadata": {},
   "outputs": [
    {
     "data": {
      "text/plain": [
       "16.25923820352473"
      ]
     },
     "execution_count": 14,
     "metadata": {},
     "output_type": "execute_result"
    }
   ],
   "source": [
    "# The percentage of Restaurants geting Review Count greater than 4142\n",
    "\n",
    "restaurant_top_review= cleaned_df.loc[cleaned_df[\"Review Count\"] >750]\n",
    "\n",
    "number_restaurant_top_review = restaurant_top_review[\"Restaurant Name\"].count()\n",
    "\n",
    "percent_restaurant_top_review= (number_restaurant_top_review/Restaurant_total_number) * 100\n",
    "\n",
    "percent_restaurant_top_review"
   ]
  },
  {
   "cell_type": "code",
   "execution_count": 15,
   "metadata": {},
   "outputs": [
    {
     "data": {
      "text/plain": [
       "6.594656054576465"
      ]
     },
     "execution_count": 15,
     "metadata": {},
     "output_type": "execute_result"
    }
   ],
   "source": [
    "# The percentage of Restaurants geting rating less than 2\n",
    "\n",
    "restaurant_bottom_rating = cleaned_df.loc[cleaned_df[\"Rating\"] <=3]\n",
    "\n",
    "number_restaurant_bottom_rating = restaurant_bottom_rating[\"Restaurant Name\"].count()\n",
    "\n",
    "percent_restaurant_bottom_rating = (number_restaurant_bottom_rating/Restaurant_total_number) * 100\n",
    "\n",
    "percent_restaurant_bottom_rating"
   ]
  },
  {
   "cell_type": "code",
   "execution_count": 16,
   "metadata": {},
   "outputs": [
    {
     "data": {
      "text/plain": [
       "24.332006822057988"
      ]
     },
     "execution_count": 16,
     "metadata": {},
     "output_type": "execute_result"
    }
   ],
   "source": [
    "# The percentage of Restaurants geting Review Count less than 500\n",
    "\n",
    "restaurant_bottom_review= cleaned_df.loc[cleaned_df[\"Review Count\"] < 100]\n",
    "\n",
    "number_restaurant_bottom__review = restaurant_bottom_review[\"Restaurant Name\"].count()\n",
    "\n",
    "percent_restaurant_bottom__review= (number_restaurant_bottom__review/Restaurant_total_number) * 100\n",
    "\n",
    "percent_restaurant_bottom__review"
   ]
  },
  {
   "cell_type": "code",
   "execution_count": 17,
   "metadata": {},
   "outputs": [
    {
     "data": {
      "text/plain": [
       "3.2973280272882324"
      ]
     },
     "execution_count": 17,
     "metadata": {},
     "output_type": "execute_result"
    }
   ],
   "source": [
    "# The percentage of Restaurants geting Review Count greater than 4142 & rating greater than 4 (Best Restaurants)\n",
    "\n",
    "Best_restaurants = cleaned_df[(cleaned_df['Review Count'] >750) & (cleaned_df['Rating'] > 4)]['Restaurant Name'].count()/Restaurant_total_number*100\n",
    "Best_restaurants\n"
   ]
  },
  {
   "cell_type": "code",
   "execution_count": 18,
   "metadata": {},
   "outputs": [
    {
     "data": {
      "text/plain": [
       "23.052870949403072"
      ]
     },
     "execution_count": 18,
     "metadata": {},
     "output_type": "execute_result"
    }
   ],
   "source": [
    "# The percentage of Restaurants pricing under 10 $ (labled as \"$\" in the dataset)\n",
    "\n",
    "restaurant_pricing_under_10= cleaned_df.loc[cleaned_df[\"Price\"]==\"$\"]\n",
    "\n",
    "restaurant_count_pricing_under_10 = restaurant_pricing_under_10[\"Restaurant Name\"].count()\n",
    "\n",
    "percent_restaurant_pricing_under_10= (restaurant_count_pricing_under_10/Restaurant_total_number) * 100\n",
    "\n",
    "percent_restaurant_pricing_under_10"
   ]
  },
  {
   "cell_type": "code",
   "execution_count": 19,
   "metadata": {},
   "outputs": [
    {
     "data": {
      "text/plain": [
       "65.52018192154632"
      ]
     },
     "execution_count": 19,
     "metadata": {},
     "output_type": "execute_result"
    }
   ],
   "source": [
    "# The percentage of Restaurants pricing between $11-$30 (labled as \"$$\" in the dataset)\n",
    "\n",
    "restaurant_pricing_bw_11_30= cleaned_df.loc[cleaned_df[\"Price\"]==\"$$\"]\n",
    "\n",
    "restaurant_count_pricing_bw_11_30 = restaurant_pricing_bw_11_30[\"Restaurant Name\"].count()\n",
    "\n",
    "percent_restaurant_pricing_bw_11_30= (restaurant_count_pricing_bw_11_30/Restaurant_total_number) * 100\n",
    "\n",
    "percent_restaurant_pricing_bw_11_30"
   ]
  },
  {
   "cell_type": "code",
   "execution_count": 20,
   "metadata": {},
   "outputs": [
    {
     "data": {
      "text/plain": [
       "9.181353041500854"
      ]
     },
     "execution_count": 20,
     "metadata": {},
     "output_type": "execute_result"
    }
   ],
   "source": [
    "# The percentage of Restaurants pricing between $31-$60 (labled as \"$$$\" in the dataset)\n",
    "\n",
    "restaurant_pricing_bw_31_60= cleaned_df.loc[cleaned_df[\"Price\"]==\"$$$\"]\n",
    "\n",
    "restaurant_count_pricing_bw_31_60 = restaurant_pricing_bw_31_60[\"Restaurant Name\"].count()\n",
    "\n",
    "percent_restaurant_pricing_bw_31_60= (restaurant_count_pricing_bw_31_60/Restaurant_total_number) * 100\n",
    "\n",
    "percent_restaurant_pricing_bw_31_60"
   ]
  },
  {
   "cell_type": "code",
   "execution_count": 21,
   "metadata": {},
   "outputs": [
    {
     "data": {
      "text/plain": [
       "2.2455940875497444"
      ]
     },
     "execution_count": 21,
     "metadata": {},
     "output_type": "execute_result"
    }
   ],
   "source": [
    "# The percentage of Restaurants pricing above$60 (labled as \"$$$$\" in the dataset)\n",
    "\n",
    "restaurant_pricing_above_60= cleaned_df.loc[cleaned_df[\"Price\"]==\"$$$$\"]\n",
    "\n",
    "restaurant_count_pricing_above_60 = restaurant_pricing_above_60[\"Restaurant Name\"].count()\n",
    "\n",
    "percent_restaurant_pricing_bw__above_60= (restaurant_count_pricing_above_60/Restaurant_total_number) * 100\n",
    "\n",
    "percent_restaurant_pricing_bw__above_60"
   ]
  },
  {
   "cell_type": "code",
   "execution_count": 22,
   "metadata": {},
   "outputs": [
    {
     "data": {
      "text/html": [
       "<div>\n",
       "<style scoped>\n",
       "    .dataframe tbody tr th:only-of-type {\n",
       "        vertical-align: middle;\n",
       "    }\n",
       "\n",
       "    .dataframe tbody tr th {\n",
       "        vertical-align: top;\n",
       "    }\n",
       "\n",
       "    .dataframe thead th {\n",
       "        text-align: right;\n",
       "    }\n",
       "</style>\n",
       "<table border=\"1\" class=\"dataframe\">\n",
       "  <thead>\n",
       "    <tr style=\"text-align: right;\">\n",
       "      <th></th>\n",
       "      <th>Restaurant Counts</th>\n",
       "    </tr>\n",
       "    <tr>\n",
       "      <th>Restaurant Price Range</th>\n",
       "      <th></th>\n",
       "    </tr>\n",
       "  </thead>\n",
       "  <tbody>\n",
       "    <tr>\n",
       "      <th>Between $11-30</th>\n",
       "      <td>2305</td>\n",
       "    </tr>\n",
       "    <tr>\n",
       "      <th>Under $10</th>\n",
       "      <td>811</td>\n",
       "    </tr>\n",
       "    <tr>\n",
       "      <th>Between $31-60</th>\n",
       "      <td>323</td>\n",
       "    </tr>\n",
       "    <tr>\n",
       "      <th>Above $60</th>\n",
       "      <td>79</td>\n",
       "    </tr>\n",
       "  </tbody>\n",
       "</table>\n",
       "</div>"
      ],
      "text/plain": [
       "                        Restaurant Counts\n",
       "Restaurant Price Range                   \n",
       "Between $11-30                       2305\n",
       "Under $10                             811\n",
       "Between $31-60                        323\n",
       "Above $60                              79"
      ]
     },
     "execution_count": 22,
     "metadata": {},
     "output_type": "execute_result"
    }
   ],
   "source": [
    "# Value counts for price ranges and create a DataFrame\n",
    "count_pricing =cleaned_df['Price'].value_counts().rename_axis('Restaurant Price Range').reset_index(name='Restaurant Counts')\n",
    "pricing_df=count_pricing.set_index('Restaurant Price Range')\n",
    "pricing_df.rename(index={'$':'Under $10','$$':'Between $11-30','$$$':'Between $31-60','$$$$':'Above $60'},inplace=True)\n",
    "pricing_df"
   ]
  },
  {
   "cell_type": "code",
   "execution_count": 58,
   "metadata": {},
   "outputs": [
    {
     "data": {
      "image/png": "[encoded data removed]",
      "text/plain": [
       "<Figure size 1080x720 with 1 Axes>"
      ]
     },
     "metadata": {},
     "output_type": "display_data"
    }
   ],
   "source": [
    "\n",
    "# Create Labels for the sections of the pie\n",
    "labels = [\"Under $10\",\"Between $11-30\",\"Between $31-60\",\"Above $60\"]\n",
    "\n",
    "colors = ['blue','green','orange','gray']\n",
    "\n",
    "fig, ax = plt.subplots(figsize=(15, 10))\n",
    "size = 0.3\n",
    "cmap = plt.get_cmap(\"tab20c\")\n",
    "ax.pie(pricing_df, radius=1,labels=labels,colors=colors,wedgeprops=dict(width=size, edgecolor='w'),autopct=\"%1.1f%%\",shadow=True, startangle=140)\n",
    "plt.title('Classification of Restaurant by Price Range',fontsize = 20)\n",
    "ax.legend(title=\"Price Range\",loc=\"center left\",bbox_to_anchor=(1, 0, 0.5, 1))\n",
    "\n",
    "plt.show()"
   ]
  },
  {
   "cell_type": "code",
   "execution_count": 24,
   "metadata": {},
   "outputs": [
    {
     "data": {
      "text/html": [
       "<div>\n",
       "<style scoped>\n",
       "    .dataframe tbody tr th:only-of-type {\n",
       "        vertical-align: middle;\n",
       "    }\n",
       "\n",
       "    .dataframe tbody tr th {\n",
       "        vertical-align: top;\n",
       "    }\n",
       "\n",
       "    .dataframe thead th {\n",
       "        text-align: right;\n",
       "    }\n",
       "</style>\n",
       "<table border=\"1\" class=\"dataframe\">\n",
       "  <thead>\n",
       "    <tr style=\"text-align: right;\">\n",
       "      <th></th>\n",
       "      <th>Total Restaurant Number</th>\n",
       "      <th>Total Number of Cities</th>\n",
       "      <th>Avarage Rating</th>\n",
       "      <th>The Average Review Count</th>\n",
       "      <th>% Restaurants Top Rating</th>\n",
       "      <th>% Restaurants Bottom Rating</th>\n",
       "      <th>% Restaurants Top Review Count</th>\n",
       "      <th>% Restaurants Bottom Review Count</th>\n",
       "      <th>% Best Restaurants</th>\n",
       "    </tr>\n",
       "  </thead>\n",
       "  <tbody>\n",
       "    <tr>\n",
       "      <th>0</th>\n",
       "      <td>3518</td>\n",
       "      <td>21</td>\n",
       "      <td>3.94</td>\n",
       "      <td>457.220296</td>\n",
       "      <td>23.280273%</td>\n",
       "      <td>6.59%</td>\n",
       "      <td>16.259238%</td>\n",
       "      <td>24.33%</td>\n",
       "      <td>3.297328%</td>\n",
       "    </tr>\n",
       "  </tbody>\n",
       "</table>\n",
       "</div>"
      ],
      "text/plain": [
       "   Total Restaurant Number Total Number of Cities Avarage Rating  \\\n",
       "0                     3518                     21           3.94   \n",
       "\n",
       "  The Average Review Count % Restaurants Top Rating  \\\n",
       "0               457.220296               23.280273%   \n",
       "\n",
       "  % Restaurants Bottom Rating % Restaurants Top Review Count  \\\n",
       "0                       6.59%                     16.259238%   \n",
       "\n",
       "  % Restaurants Bottom Review Count % Best Restaurants  \n",
       "0                            24.33%          3.297328%  "
      ]
     },
     "execution_count": 24,
     "metadata": {},
     "output_type": "execute_result"
    }
   ],
   "source": [
    "# Create a dataframe to hold the above results\n",
    "\n",
    "restaurants_summary = pd.DataFrame({\n",
    "    \"Total Restaurant Number\": Restaurant_total_number,\n",
    "    \"Total Number of Cities\": f\"{total_cities:,}\",\n",
    "    \"Avarage Rating\": f\"{average_rating:,.2f}\",\n",
    "    \"The Average Review Count\": f\"{average_review_count:.6f}\",\n",
    "    \"% Restaurants Top Rating\": f\"{percent_restaurant_top_rating:.6f}%\",\n",
    "    \"% Restaurants Bottom Rating\": f\"{percent_restaurant_bottom_rating:.2f}%\",\n",
    "    \"% Restaurants Top Rating\": f\"{percent_restaurant_top_rating:.6f}%\",\n",
    "    \"% Restaurants Bottom Rating\": f\"{percent_restaurant_bottom_rating:.2f}%\",\n",
    "    \"% Restaurants Top Review Count\": f\"{percent_restaurant_top_review:.6f}%\",\n",
    "    \"% Restaurants Bottom Review Count\": f\"{percent_restaurant_bottom__review:.2f}%\",\n",
    "    \"% Best Restaurants\": f\"{Best_restaurants: .6f}%\"\n",
    "  \n",
    "    \n",
    "    \n",
    "}, index=[0])\n",
    "\n",
    "restaurants_summary\n"
   ]
  },
  {
   "cell_type": "code",
   "execution_count": 25,
   "metadata": {},
   "outputs": [
    {
     "data": {
      "text/html": [
       "<div>\n",
       "<style scoped>\n",
       "    .dataframe tbody tr th:only-of-type {\n",
       "        vertical-align: middle;\n",
       "    }\n",
       "\n",
       "    .dataframe tbody tr th {\n",
       "        vertical-align: top;\n",
       "    }\n",
       "\n",
       "    .dataframe thead th {\n",
       "        text-align: right;\n",
       "    }\n",
       "</style>\n",
       "<table border=\"1\" class=\"dataframe\">\n",
       "  <thead>\n",
       "    <tr style=\"text-align: right;\">\n",
       "      <th></th>\n",
       "      <th>Total Restaurant Pricing Under $10</th>\n",
       "      <th>Total Restaurant Pricing $11-30</th>\n",
       "      <th>Total Restaurant Pricing $31-60</th>\n",
       "      <th>Total Restaurant Pricing Above $60</th>\n",
       "      <th>% Pricing Under $10</th>\n",
       "      <th>% Pricing between $11-30</th>\n",
       "      <th>% Pricing between $31-60</th>\n",
       "      <th>% Pricing above $60</th>\n",
       "    </tr>\n",
       "  </thead>\n",
       "  <tbody>\n",
       "    <tr>\n",
       "      <th>0</th>\n",
       "      <td>811</td>\n",
       "      <td>2,305</td>\n",
       "      <td>323</td>\n",
       "      <td>79</td>\n",
       "      <td>23.05%</td>\n",
       "      <td>65.52%</td>\n",
       "      <td>9.18%</td>\n",
       "      <td>2.25%</td>\n",
       "    </tr>\n",
       "  </tbody>\n",
       "</table>\n",
       "</div>"
      ],
      "text/plain": [
       "  Total Restaurant Pricing Under $10 Total Restaurant Pricing $11-30  \\\n",
       "0                                811                           2,305   \n",
       "\n",
       "  Total Restaurant Pricing $31-60 Total Restaurant Pricing Above $60  \\\n",
       "0                             323                                 79   \n",
       "\n",
       "  % Pricing Under $10 % Pricing between $11-30 % Pricing between $31-60  \\\n",
       "0              23.05%                   65.52%                    9.18%   \n",
       "\n",
       "  % Pricing above $60  \n",
       "0               2.25%  "
      ]
     },
     "execution_count": 25,
     "metadata": {},
     "output_type": "execute_result"
    }
   ],
   "source": [
    "Restaurants_Pricing_table = pd.DataFrame({\n",
    "    \"Total Restaurant Pricing Under $10\":f\"{restaurant_count_pricing_under_10:,}\",\n",
    "    \"Total Restaurant Pricing $11-30\": f\"{restaurant_count_pricing_bw_11_30:,}\",\n",
    "    \"Total Restaurant Pricing $31-60\": f\"{restaurant_count_pricing_bw_31_60:,}\",\n",
    "    \"Total Restaurant Pricing Above $60\": f\"{restaurant_count_pricing_above_60:,}\",\n",
    "    \"% Pricing Under $10\": f\"{percent_restaurant_pricing_under_10:.2f}%\",\n",
    "    \"% Pricing between $11-30\": f\"{percent_restaurant_pricing_bw_11_30:.2f}%\",\n",
    "    \"% Pricing between $31-60\": f\"{percent_restaurant_pricing_bw_31_60:.2f}%\",\n",
    "    \"% Pricing above $60\": f\"{percent_restaurant_pricing_bw__above_60:.2f}%\",\n",
    "}, index=[0])\n",
    "\n",
    "Restaurants_Pricing_table"
   ]
  },
  {
   "cell_type": "code",
   "execution_count": 26,
   "metadata": {},
   "outputs": [],
   "source": [
    "# Function to generate summary stats for numeric columns in dataset/dataframe.\n",
    "def SummaryStats(column, cleaned_df):\n",
    "    mean_numpy = np.mean(cleaned_df[column])\n",
    "    median_numpy = np.median(cleaned_df[column])\n",
    "    min_numpy = np.min(cleaned_df[column])\n",
    "    max_numpy = np.max(cleaned_df[column])\n",
    "    std_numpy = np.std(cleaned_df[column])\n",
    "    var_numpy = np.var(cleaned_df[column])\n",
    "    sem_numpy = cleaned_df[column].sem()\n",
    "\n",
    "    summary_df = pd.DataFrame({ f\"Average Number of {column}\":round(mean_numpy,2),\n",
    "                                f\"Median Number of {column}\":round(median_numpy,2),\n",
    "                                f\"Minimum of {column}\":round(min_numpy,2),\n",
    "                                f\"Maximum of {column}\":round(max_numpy,2),\n",
    "                                f\"Standard Deviation of {column}\":round(mean_numpy,2),\n",
    "                                f\"Variance of {column}\":round(median_numpy,2),\n",
    "                                f\"Standard Error of Mean of {column}\":round(sem_numpy,2)},index = [0])\n",
    "\n",
    "    return summary_df\n",
    "\n",
    "# Function to generate histogram\n",
    "def Histogram(column, cleaned_df, number_bins, title):\n",
    "    plt.figure(figsize=(12, 5))\n",
    "    plt.hist(cleaned_df[column], bins=number_bins)\n",
    "    plt.xlabel(f'Number of {column}')\n",
    "    plt.ylabel('Number of Restaurants')\n",
    "    plt.title(title)\n",
    "    plt.grid()\n",
    "    plt.show()"
   ]
  },
  {
   "cell_type": "code",
   "execution_count": 27,
   "metadata": {},
   "outputs": [
    {
     "data": {
      "text/html": [
       "<div>\n",
       "<style scoped>\n",
       "    .dataframe tbody tr th:only-of-type {\n",
       "        vertical-align: middle;\n",
       "    }\n",
       "\n",
       "    .dataframe tbody tr th {\n",
       "        vertical-align: top;\n",
       "    }\n",
       "\n",
       "    .dataframe thead th {\n",
       "        text-align: right;\n",
       "    }\n",
       "</style>\n",
       "<table border=\"1\" class=\"dataframe\">\n",
       "  <thead>\n",
       "    <tr style=\"text-align: right;\">\n",
       "      <th></th>\n",
       "      <th>Average Number of Rating</th>\n",
       "      <th>Median Number of Rating</th>\n",
       "      <th>Minimum of Rating</th>\n",
       "      <th>Maximum of Rating</th>\n",
       "      <th>Standard Deviation of Rating</th>\n",
       "      <th>Variance of Rating</th>\n",
       "      <th>Standard Error of Mean of Rating</th>\n",
       "    </tr>\n",
       "  </thead>\n",
       "  <tbody>\n",
       "    <tr>\n",
       "      <th>0</th>\n",
       "      <td>3.94</td>\n",
       "      <td>4.0</td>\n",
       "      <td>1.0</td>\n",
       "      <td>5.0</td>\n",
       "      <td>3.94</td>\n",
       "      <td>4.0</td>\n",
       "      <td>0.01</td>\n",
       "    </tr>\n",
       "  </tbody>\n",
       "</table>\n",
       "</div>"
      ],
      "text/plain": [
       "   Average Number of Rating  Median Number of Rating  Minimum of Rating  \\\n",
       "0                      3.94                      4.0                1.0   \n",
       "\n",
       "   Maximum of Rating  Standard Deviation of Rating  Variance of Rating  \\\n",
       "0                5.0                          3.94                 4.0   \n",
       "\n",
       "   Standard Error of Mean of Rating  \n",
       "0                              0.01  "
      ]
     },
     "execution_count": 27,
     "metadata": {},
     "output_type": "execute_result"
    }
   ],
   "source": [
    "# Summary table for star rating\n",
    "\n",
    "SummaryStats(\"Rating\", cleaned_df)"
   ]
  },
  {
   "cell_type": "code",
   "execution_count": 28,
   "metadata": {},
   "outputs": [
    {
     "data": {
      "image/png": "[encoded data removed]",
      "text/plain": [
       "<Figure size 864x360 with 1 Axes>"
      ]
     },
     "metadata": {
      "needs_background": "light"
     },
     "output_type": "display_data"
    }
   ],
   "source": [
    "# Characterize the rating data by using histogram.\n",
    "Histogram(\"Rating\", cleaned_df,20, title=\"Restaurants Rating\")"
   ]
  },
  {
   "cell_type": "code",
   "execution_count": 29,
   "metadata": {},
   "outputs": [
    {
     "data": {
      "text/html": [
       "<div>\n",
       "<style scoped>\n",
       "    .dataframe tbody tr th:only-of-type {\n",
       "        vertical-align: middle;\n",
       "    }\n",
       "\n",
       "    .dataframe tbody tr th {\n",
       "        vertical-align: top;\n",
       "    }\n",
       "\n",
       "    .dataframe thead th {\n",
       "        text-align: right;\n",
       "    }\n",
       "</style>\n",
       "<table border=\"1\" class=\"dataframe\">\n",
       "  <thead>\n",
       "    <tr style=\"text-align: right;\">\n",
       "      <th></th>\n",
       "      <th>Average Number of Review Count</th>\n",
       "      <th>Median Number of Review Count</th>\n",
       "      <th>Minimum of Review Count</th>\n",
       "      <th>Maximum of Review Count</th>\n",
       "      <th>Standard Deviation of Review Count</th>\n",
       "      <th>Variance of Review Count</th>\n",
       "      <th>Standard Error of Mean of Review Count</th>\n",
       "    </tr>\n",
       "  </thead>\n",
       "  <tbody>\n",
       "    <tr>\n",
       "      <th>0</th>\n",
       "      <td>457.22</td>\n",
       "      <td>242.0</td>\n",
       "      <td>1</td>\n",
       "      <td>12277</td>\n",
       "      <td>457.22</td>\n",
       "      <td>242.0</td>\n",
       "      <td>11.98</td>\n",
       "    </tr>\n",
       "  </tbody>\n",
       "</table>\n",
       "</div>"
      ],
      "text/plain": [
       "   Average Number of Review Count  Median Number of Review Count  \\\n",
       "0                          457.22                          242.0   \n",
       "\n",
       "   Minimum of Review Count  Maximum of Review Count  \\\n",
       "0                        1                    12277   \n",
       "\n",
       "   Standard Deviation of Review Count  Variance of Review Count  \\\n",
       "0                              457.22                     242.0   \n",
       "\n",
       "   Standard Error of Mean of Review Count  \n",
       "0                                   11.98  "
      ]
     },
     "execution_count": 29,
     "metadata": {},
     "output_type": "execute_result"
    }
   ],
   "source": [
    "# Summary table for the Review Count data by using histogram.\n",
    "\n",
    "SummaryStats(\"Review Count\", cleaned_df)"
   ]
  },
  {
   "cell_type": "code",
   "execution_count": 30,
   "metadata": {},
   "outputs": [
    {
     "data": {
      "image/png": "[encoded data removed]",
      "text/plain": [
       "<Figure size 864x360 with 1 Axes>"
      ]
     },
     "metadata": {
      "needs_background": "light"
     },
     "output_type": "display_data"
    }
   ],
   "source": [
    "# Characterize the Review Count data by using histogram.\n",
    "Histogram(\"Review Count\", cleaned_df,20, title=\"Restaurants Review Count\")"
   ]
  },
  {
   "cell_type": "markdown",
   "metadata": {},
   "source": [
    "## City Summery \n",
    "\n",
    "* overview table that summarizes Restaurants in each cities \n"
   ]
  },
  {
   "cell_type": "markdown",
   "metadata": {},
   "source": [
    "## Price by resturants Rating "
   ]
  },
  {
   "cell_type": "markdown",
   "metadata": {},
   "source": [
    "## Review count by cities\n"
   ]
  },
  {
   "cell_type": "code",
   "execution_count": null,
   "metadata": {},
   "outputs": [],
   "source": []
  },
  {
   "cell_type": "markdown",
   "metadata": {},
   "source": [
    "## Rating in each cities"
   ]
  },
  {
   "cell_type": "code",
   "execution_count": null,
   "metadata": {},
   "outputs": [],
   "source": []
  },
  {
   "cell_type": "markdown",
   "metadata": {},
   "source": [
    "## Top resturants"
   ]
  },
  {
   "cell_type": "code",
   "execution_count": null,
   "metadata": {},
   "outputs": [],
   "source": []
  },
  {
   "cell_type": "markdown",
   "metadata": {},
   "source": [
    "## Bottom resturants"
   ]
  },
  {
   "cell_type": "code",
   "execution_count": null,
   "metadata": {},
   "outputs": [],
   "source": []
  },
  {
   "cell_type": "markdown",
   "metadata": {},
   "source": [
    "# Bar and Pie Charts\n"
   ]
  },
  {
   "cell_type": "code",
   "execution_count": 14,
   "metadata": {},
   "outputs": [],
   "source": [
    "# Generate a bar plot showing the total number of resturants in each cities "
   ]
  },
  {
   "cell_type": "code",
   "execution_count": 15,
   "metadata": {},
   "outputs": [],
   "source": [
    "#  Generate a pie plot showing the distribution resturants 1 to 5"
   ]
  },
  {
   "cell_type": "markdown",
   "metadata": {},
   "source": [
    "## Quartiles, Outliers and Boxplots"
   ]
  },
  {
   "cell_type": "code",
   "execution_count": 16,
   "metadata": {},
   "outputs": [],
   "source": [
    "# Rating of each resturants across the four cities "
   ]
  },
  {
   "cell_type": "markdown",
   "metadata": {},
   "source": [
    "# Scatter plot"
   ]
  },
  {
   "cell_type": "code",
   "execution_count": 17,
   "metadata": {},
   "outputs": [],
   "source": [
    "# Generate a scatter plot of review count versus rating volume for each cities "
   ]
  },
  {
   "cell_type": "markdown",
   "metadata": {},
   "source": [
    "# Correlation and Regression"
   ]
  },
  {
   "cell_type": "code",
   "execution_count": 18,
   "metadata": {},
   "outputs": [],
   "source": [
    "# Correlation between review count and star rating"
   ]
  },
  {
   "cell_type": "code",
   "execution_count": 19,
   "metadata": {},
   "outputs": [],
   "source": [
    "# Linear regression between review count and star rating"
   ]
  },
  {
   "cell_type": "code",
   "execution_count": null,
   "metadata": {},
   "outputs": [],
   "source": []
  }
 ],
 "metadata": {
  "kernelspec": {
   "display_name": "Python 3",
   "language": "python",
   "name": "python3"
  },
  "language_info": {
   "codemirror_mode": {
    "name": "ipython",
    "version": 3
   },
   "file_extension": ".py",
   "mimetype": "text/x-python",
   "name": "python",
   "nbconvert_exporter": "python",
   "pygments_lexer": "ipython3",
   "version": "3.7.6"
  }
 },
 "nbformat": 4,
 "nbformat_minor": 4
}
