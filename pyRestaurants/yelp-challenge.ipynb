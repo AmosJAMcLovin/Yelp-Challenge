{
 "cells": [
  {
   "cell_type": "markdown",
   "metadata": {},
   "source": [
    "# Working on Yelp Restaurants Dataset\n",
    "\n",
    "* To see how the data is genereted by using Yelp API calls, and transformed to csv file. Go to Yelp-api folder, and put your API KEY in to config.py file, select the term \"restaurants\" then select \"search location\", and run the search.py file in your environment.\n"
   ]
  },
  {
   "cell_type": "code",
   "execution_count": 2,
   "metadata": {},
   "outputs": [],
   "source": [
    "# Dependencies and Setup\n",
    "import matplotlib.pyplot as plt\n",
    "import pandas as pd\n",
    "import scipy.stats as st\n",
    "import numpy as np\n",
    "import seaborn as sns\n",
    "from scipy.stats import linregress\n",
    "from matplotlib.pyplot import figure\n",
    "from sklearn import datasets"
   ]
  },
  {
   "cell_type": "code",
   "execution_count": 3,
   "metadata": {},
   "outputs": [],
   "source": [
    "# File to Load \n",
    "yelp_data_to_load = \"data/PyRestaurants_data.csv\""
   ]
  },
  {
   "cell_type": "code",
   "execution_count": 23,
   "metadata": {},
   "outputs": [
    {
     "data": {
      "text/html": [
       "<div>\n",
       "<style scoped>\n",
       "    .dataframe tbody tr th:only-of-type {\n",
       "        vertical-align: middle;\n",
       "    }\n",
       "\n",
       "    .dataframe tbody tr th {\n",
       "        vertical-align: top;\n",
       "    }\n",
       "\n",
       "    .dataframe thead th {\n",
       "        text-align: right;\n",
       "    }\n",
       "</style>\n",
       "<table border=\"1\" class=\"dataframe\">\n",
       "  <thead>\n",
       "    <tr style=\"text-align: right;\">\n",
       "      <th></th>\n",
       "      <th>id</th>\n",
       "      <th>name</th>\n",
       "      <th>phone</th>\n",
       "      <th>location.address1</th>\n",
       "      <th>location.address2</th>\n",
       "      <th>location.city</th>\n",
       "      <th>location.state</th>\n",
       "      <th>location.country</th>\n",
       "      <th>price</th>\n",
       "      <th>rating</th>\n",
       "      <th>review_count</th>\n",
       "      <th>url</th>\n",
       "    </tr>\n",
       "  </thead>\n",
       "  <tbody>\n",
       "    <tr>\n",
       "      <th>0</th>\n",
       "      <td>6i7KnRylm4bhPIApDFSVCg</td>\n",
       "      <td>Dave's Hot Chicken</td>\n",
       "      <td>1.323537e+10</td>\n",
       "      <td>970 N Western Ave</td>\n",
       "      <td>NaN</td>\n",
       "      <td>Los Angeles</td>\n",
       "      <td>CA</td>\n",
       "      <td>US</td>\n",
       "      <td>$$</td>\n",
       "      <td>4.5</td>\n",
       "      <td>3132</td>\n",
       "      <td>https://www.yelp.com/biz/daves-hot-chicken-los...</td>\n",
       "    </tr>\n",
       "    <tr>\n",
       "      <th>1</th>\n",
       "      <td>qAAoilHU25Qr45FOQlA19g</td>\n",
       "      <td>Kang Ho-dong Baekjeong</td>\n",
       "      <td>1.213385e+10</td>\n",
       "      <td>3465 W 6th St</td>\n",
       "      <td>Ste 20</td>\n",
       "      <td>Los Angeles</td>\n",
       "      <td>CA</td>\n",
       "      <td>US</td>\n",
       "      <td>$$</td>\n",
       "      <td>4.5</td>\n",
       "      <td>4266</td>\n",
       "      <td>https://www.yelp.com/biz/kang-ho-dong-baekjeon...</td>\n",
       "    </tr>\n",
       "    <tr>\n",
       "      <th>2</th>\n",
       "      <td>AIhWsp8yNfKZfaX9d9Yajg</td>\n",
       "      <td>Pasta Sisters</td>\n",
       "      <td>1.323871e+10</td>\n",
       "      <td>3343 W Pico Blvd</td>\n",
       "      <td>NaN</td>\n",
       "      <td>Los Angeles</td>\n",
       "      <td>CA</td>\n",
       "      <td>US</td>\n",
       "      <td>$$</td>\n",
       "      <td>4.5</td>\n",
       "      <td>1479</td>\n",
       "      <td>https://www.yelp.com/biz/pasta-sisters-los-ang...</td>\n",
       "    </tr>\n",
       "    <tr>\n",
       "      <th>3</th>\n",
       "      <td>vUe6SGmCpWRbVdmj1ujMMQ</td>\n",
       "      <td>Yeon Uh</td>\n",
       "      <td>1.213568e+10</td>\n",
       "      <td>621 S Western Ave</td>\n",
       "      <td>Ste 208 B</td>\n",
       "      <td>Los Angeles</td>\n",
       "      <td>CA</td>\n",
       "      <td>US</td>\n",
       "      <td>NaN</td>\n",
       "      <td>5.0</td>\n",
       "      <td>4</td>\n",
       "      <td>https://www.yelp.com/biz/yeon-uh-los-angeles-2...</td>\n",
       "    </tr>\n",
       "    <tr>\n",
       "      <th>4</th>\n",
       "      <td>H9ZlIqEp930ZRniH6VRp8w</td>\n",
       "      <td>Papa Cristo's</td>\n",
       "      <td>1.323737e+10</td>\n",
       "      <td>2771 W Pico Blvd</td>\n",
       "      <td>NaN</td>\n",
       "      <td>Los Angeles</td>\n",
       "      <td>CA</td>\n",
       "      <td>US</td>\n",
       "      <td>$$</td>\n",
       "      <td>4.5</td>\n",
       "      <td>1911</td>\n",
       "      <td>https://www.yelp.com/biz/papa-cristos-los-ange...</td>\n",
       "    </tr>\n",
       "  </tbody>\n",
       "</table>\n",
       "</div>"
      ],
      "text/plain": [
       "                       id                    name         phone  \\\n",
       "0  6i7KnRylm4bhPIApDFSVCg      Dave's Hot Chicken  1.323537e+10   \n",
       "1  qAAoilHU25Qr45FOQlA19g  Kang Ho-dong Baekjeong  1.213385e+10   \n",
       "2  AIhWsp8yNfKZfaX9d9Yajg           Pasta Sisters  1.323871e+10   \n",
       "3  vUe6SGmCpWRbVdmj1ujMMQ                 Yeon Uh  1.213568e+10   \n",
       "4  H9ZlIqEp930ZRniH6VRp8w           Papa Cristo's  1.323737e+10   \n",
       "\n",
       "   location.address1 location.address2 location.city location.state  \\\n",
       "0  970 N Western Ave               NaN   Los Angeles             CA   \n",
       "1      3465 W 6th St            Ste 20   Los Angeles             CA   \n",
       "2   3343 W Pico Blvd               NaN   Los Angeles             CA   \n",
       "3  621 S Western Ave         Ste 208 B   Los Angeles             CA   \n",
       "4   2771 W Pico Blvd               NaN   Los Angeles             CA   \n",
       "\n",
       "  location.country price  rating  review_count  \\\n",
       "0               US    $$     4.5          3132   \n",
       "1               US    $$     4.5          4266   \n",
       "2               US    $$     4.5          1479   \n",
       "3               US   NaN     5.0             4   \n",
       "4               US    $$     4.5          1911   \n",
       "\n",
       "                                                 url  \n",
       "0  https://www.yelp.com/biz/daves-hot-chicken-los...  \n",
       "1  https://www.yelp.com/biz/kang-ho-dong-baekjeon...  \n",
       "2  https://www.yelp.com/biz/pasta-sisters-los-ang...  \n",
       "3  https://www.yelp.com/biz/yeon-uh-los-angeles-2...  \n",
       "4  https://www.yelp.com/biz/papa-cristos-los-ange...  "
      ]
     },
     "execution_count": 23,
     "metadata": {},
     "output_type": "execute_result"
    }
   ],
   "source": [
    "# Read Data File and store into Pandas DataFrames\n",
    "Restaurants_df = pd.read_csv(yelp_data_to_load)\n",
    "Restaurants_df.head()"
   ]
  },
  {
   "cell_type": "markdown",
   "metadata": {},
   "source": [
    "## Cleaning Data\n",
    "* Rename column headings \n",
    "* Remove duplicates \n",
    "* Remove null values"
   ]
  },
  {
   "cell_type": "code",
   "execution_count": 13,
   "metadata": {},
   "outputs": [
    {
     "data": {
      "text/plain": [
       "Index(['id', 'name', 'phone', 'location.address1', 'location.address2',\n",
       "       'location.city', 'location.state', 'location.country', 'price',\n",
       "       'rating', 'review_count', 'url'],\n",
       "      dtype='object')"
      ]
     },
     "execution_count": 13,
     "metadata": {},
     "output_type": "execute_result"
    }
   ],
   "source": [
    "Restaurants_df.columns"
   ]
  },
  {
   "cell_type": "code",
   "execution_count": 12,
   "metadata": {},
   "outputs": [
    {
     "data": {
      "text/html": [
       "<div>\n",
       "<style scoped>\n",
       "    .dataframe tbody tr th:only-of-type {\n",
       "        vertical-align: middle;\n",
       "    }\n",
       "\n",
       "    .dataframe tbody tr th {\n",
       "        vertical-align: top;\n",
       "    }\n",
       "\n",
       "    .dataframe thead th {\n",
       "        text-align: right;\n",
       "    }\n",
       "</style>\n",
       "<table border=\"1\" class=\"dataframe\">\n",
       "  <thead>\n",
       "    <tr style=\"text-align: right;\">\n",
       "      <th></th>\n",
       "      <th>Restaurant ID</th>\n",
       "      <th>Restaurant Name</th>\n",
       "      <th>Phone Number</th>\n",
       "      <th>Adress</th>\n",
       "      <th>Address Two</th>\n",
       "      <th>City</th>\n",
       "      <th>State</th>\n",
       "      <th>location.country</th>\n",
       "      <th>Price</th>\n",
       "      <th>Rating</th>\n",
       "      <th>Review Count</th>\n",
       "      <th>Url</th>\n",
       "    </tr>\n",
       "  </thead>\n",
       "  <tbody>\n",
       "    <tr>\n",
       "      <th>0</th>\n",
       "      <td>6i7KnRylm4bhPIApDFSVCg</td>\n",
       "      <td>Dave's Hot Chicken</td>\n",
       "      <td>1.323537e+10</td>\n",
       "      <td>970 N Western Ave</td>\n",
       "      <td>NaN</td>\n",
       "      <td>Los Angeles</td>\n",
       "      <td>CA</td>\n",
       "      <td>US</td>\n",
       "      <td>$$</td>\n",
       "      <td>4.5</td>\n",
       "      <td>3132</td>\n",
       "      <td>https://www.yelp.com/biz/daves-hot-chicken-los...</td>\n",
       "    </tr>\n",
       "    <tr>\n",
       "      <th>1</th>\n",
       "      <td>qAAoilHU25Qr45FOQlA19g</td>\n",
       "      <td>Kang Ho-dong Baekjeong</td>\n",
       "      <td>1.213385e+10</td>\n",
       "      <td>3465 W 6th St</td>\n",
       "      <td>Ste 20</td>\n",
       "      <td>Los Angeles</td>\n",
       "      <td>CA</td>\n",
       "      <td>US</td>\n",
       "      <td>$$</td>\n",
       "      <td>4.5</td>\n",
       "      <td>4266</td>\n",
       "      <td>https://www.yelp.com/biz/kang-ho-dong-baekjeon...</td>\n",
       "    </tr>\n",
       "    <tr>\n",
       "      <th>2</th>\n",
       "      <td>AIhWsp8yNfKZfaX9d9Yajg</td>\n",
       "      <td>Pasta Sisters</td>\n",
       "      <td>1.323871e+10</td>\n",
       "      <td>3343 W Pico Blvd</td>\n",
       "      <td>NaN</td>\n",
       "      <td>Los Angeles</td>\n",
       "      <td>CA</td>\n",
       "      <td>US</td>\n",
       "      <td>$$</td>\n",
       "      <td>4.5</td>\n",
       "      <td>1479</td>\n",
       "      <td>https://www.yelp.com/biz/pasta-sisters-los-ang...</td>\n",
       "    </tr>\n",
       "    <tr>\n",
       "      <th>3</th>\n",
       "      <td>vUe6SGmCpWRbVdmj1ujMMQ</td>\n",
       "      <td>Yeon Uh</td>\n",
       "      <td>1.213568e+10</td>\n",
       "      <td>621 S Western Ave</td>\n",
       "      <td>Ste 208 B</td>\n",
       "      <td>Los Angeles</td>\n",
       "      <td>CA</td>\n",
       "      <td>US</td>\n",
       "      <td>NaN</td>\n",
       "      <td>5.0</td>\n",
       "      <td>4</td>\n",
       "      <td>https://www.yelp.com/biz/yeon-uh-los-angeles-2...</td>\n",
       "    </tr>\n",
       "    <tr>\n",
       "      <th>4</th>\n",
       "      <td>H9ZlIqEp930ZRniH6VRp8w</td>\n",
       "      <td>Papa Cristo's</td>\n",
       "      <td>1.323737e+10</td>\n",
       "      <td>2771 W Pico Blvd</td>\n",
       "      <td>NaN</td>\n",
       "      <td>Los Angeles</td>\n",
       "      <td>CA</td>\n",
       "      <td>US</td>\n",
       "      <td>$$</td>\n",
       "      <td>4.5</td>\n",
       "      <td>1911</td>\n",
       "      <td>https://www.yelp.com/biz/papa-cristos-los-ange...</td>\n",
       "    </tr>\n",
       "  </tbody>\n",
       "</table>\n",
       "</div>"
      ],
      "text/plain": [
       "            Restaurant ID         Restaurant Name  Phone Number  \\\n",
       "0  6i7KnRylm4bhPIApDFSVCg      Dave's Hot Chicken  1.323537e+10   \n",
       "1  qAAoilHU25Qr45FOQlA19g  Kang Ho-dong Baekjeong  1.213385e+10   \n",
       "2  AIhWsp8yNfKZfaX9d9Yajg           Pasta Sisters  1.323871e+10   \n",
       "3  vUe6SGmCpWRbVdmj1ujMMQ                 Yeon Uh  1.213568e+10   \n",
       "4  H9ZlIqEp930ZRniH6VRp8w           Papa Cristo's  1.323737e+10   \n",
       "\n",
       "              Adress Address Two         City State location.country Price  \\\n",
       "0  970 N Western Ave         NaN  Los Angeles    CA               US    $$   \n",
       "1      3465 W 6th St      Ste 20  Los Angeles    CA               US    $$   \n",
       "2   3343 W Pico Blvd         NaN  Los Angeles    CA               US    $$   \n",
       "3  621 S Western Ave   Ste 208 B  Los Angeles    CA               US   NaN   \n",
       "4   2771 W Pico Blvd         NaN  Los Angeles    CA               US    $$   \n",
       "\n",
       "   Rating  Review Count                                                Url  \n",
       "0     4.5          3132  https://www.yelp.com/biz/daves-hot-chicken-los...  \n",
       "1     4.5          4266  https://www.yelp.com/biz/kang-ho-dong-baekjeon...  \n",
       "2     4.5          1479  https://www.yelp.com/biz/pasta-sisters-los-ang...  \n",
       "3     5.0             4  https://www.yelp.com/biz/yeon-uh-los-angeles-2...  \n",
       "4     4.5          1911  https://www.yelp.com/biz/papa-cristos-los-ange...  "
      ]
     },
     "execution_count": 12,
     "metadata": {},
     "output_type": "execute_result"
    }
   ],
   "source": [
    "# Using .rename(columns={}) in order to rename columns\n",
    "renamed_df = Restaurants_df.rename(columns={\"id\":\"Restaurant ID\", \"name\":\"Restaurant Name\", \"phone\":\"Phone Number\",\"location.address1\":\"Adress\",\n",
    "                                          \"location.address2\":\"Address Two\",\"location.city\":\"City\",\"location.state\":\"State\",\"location.state\":\"State\",\n",
    "                                           \"price\":\"Price\",\"rating\":\"Rating\",\"review_count\":\"Review Count\",\"url\":\"Url\"})\n",
    "renamed_df.head()\n",
    "\n"
   ]
  },
  {
   "cell_type": "code",
   "execution_count": null,
   "metadata": {},
   "outputs": [],
   "source": []
  },
  {
   "cell_type": "markdown",
   "metadata": {},
   "source": [
    "## Yelp Restaurants data summary\n",
    "\n",
    "* Total number of Restaurants\n",
    "\n",
    "* Total number of Restaurants in each cities\n",
    "\n",
    "* The average review_count \n",
    "\n",
    "* The avarage rating \n",
    "\n",
    "* Percentage of Restaurants rating greater than 3 and review count greater than 4142 (top restaurants)\n",
    "\n",
    "* Percentage of Restaurants less than 2 and review count less than 500 (lower restaurants)\n",
    "* some plot here "
   ]
  },
  {
   "cell_type": "code",
   "execution_count": 35,
   "metadata": {},
   "outputs": [
    {
     "data": {
      "text/plain": [
       "4058"
      ]
     },
     "execution_count": 35,
     "metadata": {},
     "output_type": "execute_result"
    }
   ],
   "source": [
    "Restaurant_count = len(renamed_df[\"Restaurant Name\"].unique())\n",
    "Restaurant_count"
   ]
  },
  {
   "cell_type": "markdown",
   "metadata": {},
   "source": [
    "## City Summery \n",
    "\n",
    "* overview table that summarizes Restaurants in each cities \n"
   ]
  },
  {
   "cell_type": "code",
   "execution_count": null,
   "metadata": {},
   "outputs": [],
   "source": []
  },
  {
   "cell_type": "markdown",
   "metadata": {},
   "source": [
    "## Review count by cities\n"
   ]
  },
  {
   "cell_type": "code",
   "execution_count": null,
   "metadata": {},
   "outputs": [],
   "source": []
  },
  {
   "cell_type": "markdown",
   "metadata": {},
   "source": [
    "## Rating in each cities"
   ]
  },
  {
   "cell_type": "code",
   "execution_count": null,
   "metadata": {},
   "outputs": [],
   "source": []
  },
  {
   "cell_type": "markdown",
   "metadata": {},
   "source": [
    "## Top resturants"
   ]
  },
  {
   "cell_type": "code",
   "execution_count": null,
   "metadata": {},
   "outputs": [],
   "source": []
  },
  {
   "cell_type": "markdown",
   "metadata": {},
   "source": [
    "## Bottom resturants"
   ]
  },
  {
   "cell_type": "code",
   "execution_count": null,
   "metadata": {},
   "outputs": [],
   "source": []
  },
  {
   "cell_type": "markdown",
   "metadata": {},
   "source": [
    "# Bar and Pie Charts\n"
   ]
  },
  {
   "cell_type": "code",
   "execution_count": 14,
   "metadata": {},
   "outputs": [],
   "source": [
    "# Generate a bar plot showing the total number of resturants in each cities "
   ]
  },
  {
   "cell_type": "code",
   "execution_count": 15,
   "metadata": {},
   "outputs": [],
   "source": [
    "#  Generate a pie plot showing the distribution resturants 1 to 5"
   ]
  },
  {
   "cell_type": "markdown",
   "metadata": {},
   "source": [
    "## Quartiles, Outliers and Boxplots"
   ]
  },
  {
   "cell_type": "code",
   "execution_count": 16,
   "metadata": {},
   "outputs": [],
   "source": [
    "# Rating of each resturants across the four cities "
   ]
  },
  {
   "cell_type": "markdown",
   "metadata": {},
   "source": [
    "# Scatter plot"
   ]
  },
  {
   "cell_type": "code",
   "execution_count": 17,
   "metadata": {},
   "outputs": [],
   "source": [
    "# Generate a scatter plot of review count versus rating volume for each cities "
   ]
  },
  {
   "cell_type": "markdown",
   "metadata": {},
   "source": [
    "# Correlation and Regression"
   ]
  },
  {
   "cell_type": "code",
   "execution_count": 18,
   "metadata": {},
   "outputs": [],
   "source": [
    "# Correlation between review count and star rating"
   ]
  },
  {
   "cell_type": "code",
   "execution_count": 19,
   "metadata": {},
   "outputs": [],
   "source": [
    "# Linear regression between review count and star rating"
   ]
  },
  {
   "cell_type": "code",
   "execution_count": null,
   "metadata": {},
   "outputs": [],
   "source": []
  }
 ],
 "metadata": {
  "kernelspec": {
   "display_name": "Python 3",
   "language": "python",
   "name": "python3"
  },
  "language_info": {
   "codemirror_mode": {
    "name": "ipython",
    "version": 3
   },
   "file_extension": ".py",
   "mimetype": "text/x-python",
   "name": "python",
   "nbconvert_exporter": "python",
   "pygments_lexer": "ipython3",
   "version": "3.7.6"
  }
 },
 "nbformat": 4,
 "nbformat_minor": 4
}
